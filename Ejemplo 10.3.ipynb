{
 "cells": [
  {
   "cell_type": "code",
   "execution_count": 1,
   "id": "93e04071-04a5-4c14-8ae6-e5d085db3126",
   "metadata": {},
   "outputs": [],
   "source": [
    "%display latex"
   ]
  },
  {
   "cell_type": "markdown",
   "id": "226d2199-fffe-4abc-b224-2f13baca0a0b",
   "metadata": {},
   "source": [
    "## Métricas invariantes a izquierda en $S_\\mathrm{hy}$"
   ]
  },
  {
   "cell_type": "code",
   "execution_count": 2,
   "id": "b20b4e5a-1e77-4635-a224-16f026170c90",
   "metadata": {},
   "outputs": [],
   "source": [
    "structure_constants = {('e1','e2') : {'e2' : 1}, ('e1','e3') : {'e3' : 1}}\n",
    "hh.<e1,e2,e3> = LieAlgebra(SR, structure_constants) "
   ]
  },
  {
   "cell_type": "code",
   "execution_count": 3,
   "id": "bba03194-a5e7-44a2-833a-197b03cf2a84",
   "metadata": {},
   "outputs": [
    {
     "data": {
      "text/html": [
       "<html>\\(\\displaystyle \\mathrm{True}\\)</html>"
      ],
      "text/latex": [
       "$\\displaystyle \\mathrm{True}$"
      ],
      "text/plain": [
       "True"
      ]
     },
     "execution_count": 3,
     "metadata": {},
     "output_type": "execute_result"
    }
   ],
   "source": [
    "hh.is_solvable()"
   ]
  },
  {
   "cell_type": "code",
   "execution_count": 4,
   "id": "1a0df370-86e5-47be-a5ba-df33f7629a1f",
   "metadata": {},
   "outputs": [
    {
     "data": {
      "text/html": [
       "<html>\\(\\displaystyle \\mathrm{False}\\)</html>"
      ],
      "text/latex": [
       "$\\displaystyle \\mathrm{False}$"
      ],
      "text/plain": [
       "False"
      ]
     },
     "execution_count": 4,
     "metadata": {},
     "output_type": "execute_result"
    }
   ],
   "source": [
    "hh.is_nilpotent()"
   ]
  },
  {
   "cell_type": "code",
   "execution_count": 5,
   "id": "ebb14efa-0aa1-4f6d-97ca-819f7e3977b0",
   "metadata": {},
   "outputs": [
    {
     "data": {
      "text/html": [
       "<html>\\(\\displaystyle \\left(\\begin{array}{rrr}\n",
       "2 & 0 & 0 \\\\\n",
       "0 & 0 & 0 \\\\\n",
       "0 & 0 & 0\n",
       "\\end{array}\\right)\\)</html>"
      ],
      "text/latex": [
       "$\\displaystyle \\left(\\begin{array}{rrr}\n",
       "2 & 0 & 0 \\\\\n",
       "0 & 0 & 0 \\\\\n",
       "0 & 0 & 0\n",
       "\\end{array}\\right)$"
      ],
      "text/plain": [
       "[2 0 0]\n",
       "[0 0 0]\n",
       "[0 0 0]"
      ]
     },
     "execution_count": 5,
     "metadata": {},
     "output_type": "execute_result"
    }
   ],
   "source": [
    "B = hh.killing_form_matrix()\n",
    "B"
   ]
  },
  {
   "cell_type": "code",
   "execution_count": 6,
   "id": "76d8c9ef-9477-4701-a8dc-a07afe0a27c3",
   "metadata": {},
   "outputs": [],
   "source": [
    "def inner_product_from_matrix(hh, g):\n",
    "    return lambda x, y: x.to_vector() * g * y.to_vector()\n",
    "\n",
    "def gram_schmidt(hh, inner_product):\n",
    "    hh_on_basis = []\n",
    "    for i, v in enumerate(hh.basis().values()):\n",
    "        u = v\n",
    "        for j in range(i):\n",
    "            u -= inner_product(v, hh_on_basis[j]) * hh_on_basis[j]\n",
    "        hh_on_basis.append( hh( ((1 / sqrt(inner_product(u, u))) * u).to_vector().canonicalize_radical() ))\n",
    "    return hh_on_basis\n",
    "\n",
    "def bracket_contracted(hh, inner_product, on_basis):\n",
    "    hh_dim = hh.dimension()\n",
    "    bc = {(i,j,k): None for i in range(hh_dim) for j in range(hh_dim) for k in range(hh_dim)}\n",
    "    for index in bc.keys():\n",
    "        i, j, k = index\n",
    "        bc[index] = inner_product(on_basis[i].bracket(on_basis[j]), on_basis[k])\n",
    "    return bc\n",
    "\n",
    "def secc_curv(hh, metric, on_basis, i, j):\n",
    "    hh_dim = hh.dimension()\n",
    "    bc = bracket_contracted(hh, metric, on_basis)\n",
    "    return sum(bc[i,j,k]*(-bc[i,j,k]+bc[j,k,i]+bc[k,i,j])/2 - (bc[i,j,k]-bc[j,k,i]+bc[k,i,j])*(bc[i,j,k]+bc[j,k,i]-bc[k,i,j])/4 - bc[k,i,i]*bc[k,j,j] for k in range(hh_dim))\n",
    "\n",
    "def Ric_ob(hh, bc, j, h):\n",
    "    hh_dim = hh.dimension()\n",
    "    return sum(sum( bc[(i,k,i)] * (bc[(k,j,h)] + bc[(k,h,j)]) / 2 + bc[(i,k,h)] * bc[(i,k,j)] / 4 - bc[(i,j,k)] * bc[(k,h,i)] / 2 + bc[(i,k,i)] * bc[(j,h,k)] / 2 - bc[(i,j,k)] * bc[(i,h,k)] / 2 for i in range(hh_dim)) for k in range(hh_dim))\n",
    "\n",
    "def Ric_on(hh, g, on_basis):\n",
    "    hh_dim = hh.dimension()\n",
    "    ip = inner_product_from_matrix(hh, g)\n",
    "    on_basis = gram_schmidt(hh, ip)\n",
    "    bc = bracket_contracted(hh, ip, on_basis)\n",
    "    return matrix(hh_dim, hh_dim, lambda i, j: Ric_ob(hh, bc, i, j))"
   ]
  },
  {
   "cell_type": "code",
   "execution_count": 7,
   "id": "5a7a1969-2aa4-4cc0-bf60-1db8fd7fc29d",
   "metadata": {},
   "outputs": [],
   "source": [
    "I3 = identity_matrix(SR,3)\n",
    "metric = inner_product_from_matrix(hh, I3)"
   ]
  },
  {
   "cell_type": "code",
   "execution_count": 8,
   "id": "e3218190-f7fe-4b4d-85f1-d194530622d4",
   "metadata": {},
   "outputs": [
    {
     "data": {
      "text/html": [
       "<html>\\(\\displaystyle \\left[e1, e2, e3\\right]\\)</html>"
      ],
      "text/latex": [
       "$\\displaystyle \\left[e1, e2, e3\\right]$"
      ],
      "text/plain": [
       "[e1, e2, e3]"
      ]
     },
     "execution_count": 8,
     "metadata": {},
     "output_type": "execute_result"
    }
   ],
   "source": [
    "on_basis = gram_schmidt(hh, metric)\n",
    "on_basis"
   ]
  },
  {
   "cell_type": "code",
   "execution_count": 9,
   "id": "2cdd0acf-c045-4b23-861c-7b2781b60a6d",
   "metadata": {},
   "outputs": [
    {
     "data": {
      "text/html": [
       "<html>\\(\\displaystyle \\left(\\begin{array}{rrr}\n",
       "-2 & 0 & 0 \\\\\n",
       "0 & -2 & 0 \\\\\n",
       "0 & 0 & -2\n",
       "\\end{array}\\right)\\)</html>"
      ],
      "text/latex": [
       "$\\displaystyle \\left(\\begin{array}{rrr}\n",
       "-2 & 0 & 0 \\\\\n",
       "0 & -2 & 0 \\\\\n",
       "0 & 0 & -2\n",
       "\\end{array}\\right)$"
      ],
      "text/plain": [
       "[-2  0  0]\n",
       "[ 0 -2  0]\n",
       "[ 0  0 -2]"
      ]
     },
     "execution_count": 9,
     "metadata": {},
     "output_type": "execute_result"
    }
   ],
   "source": [
    "# Einstein\n",
    "Ric_on(hh, I3, on_basis)"
   ]
  },
  {
   "cell_type": "code",
   "execution_count": 10,
   "id": "8bac41f5-97be-45e1-aced-5fd4d02ceec4",
   "metadata": {},
   "outputs": [
    {
     "data": {
      "text/html": [
       "<html>\\(\\displaystyle -1\\)</html>"
      ],
      "text/latex": [
       "$\\displaystyle -1$"
      ],
      "text/plain": [
       "-1"
      ]
     },
     "metadata": {},
     "output_type": "display_data"
    },
    {
     "data": {
      "text/html": [
       "<html>\\(\\displaystyle -1\\)</html>"
      ],
      "text/latex": [
       "$\\displaystyle -1$"
      ],
      "text/plain": [
       "-1"
      ]
     },
     "metadata": {},
     "output_type": "display_data"
    },
    {
     "data": {
      "text/html": [
       "<html>\\(\\displaystyle -1\\)</html>"
      ],
      "text/latex": [
       "$\\displaystyle -1$"
      ],
      "text/plain": [
       "-1"
      ]
     },
     "metadata": {},
     "output_type": "display_data"
    }
   ],
   "source": [
    "# Curvaturas seccionales en la base ortonormal\n",
    "for i in range(3):\n",
    "    for j in range(i+1,3):\n",
    "        display(secc_curv(hh,metric, on_basis, i, j))"
   ]
  },
  {
   "cell_type": "code",
   "execution_count": null,
   "id": "2fab63e8-09a8-41b9-8099-c9ff530b62b5",
   "metadata": {},
   "outputs": [],
   "source": []
  },
  {
   "cell_type": "markdown",
   "id": "8ae51bfb-9868-4435-b27d-0dd12ca22b57",
   "metadata": {},
   "source": [
    "## Todas las métricas en $S_\\mathrm{hy}$ tienen curvatura seccional constante negativa"
   ]
  },
  {
   "cell_type": "code",
   "execution_count": 11,
   "id": "be6662cf-d7d0-4a43-ae68-5c55658aea43",
   "metadata": {},
   "outputs": [
    {
     "data": {
      "text/html": [
       "<html>\\(\\displaystyle \\left(\\begin{array}{rrr}\n",
       "r_{1} & 0 & 0 \\\\\n",
       "0 & r_{2} & 0 \\\\\n",
       "0 & 0 & r_{3}\n",
       "\\end{array}\\right)\\)</html>"
      ],
      "text/latex": [
       "$\\displaystyle \\left(\\begin{array}{rrr}\n",
       "r_{1} & 0 & 0 \\\\\n",
       "0 & r_{2} & 0 \\\\\n",
       "0 & 0 & r_{3}\n",
       "\\end{array}\\right)$"
      ],
      "text/plain": [
       "[r1  0  0]\n",
       "[ 0 r2  0]\n",
       "[ 0  0 r3]"
      ]
     },
     "metadata": {},
     "output_type": "display_data"
    }
   ],
   "source": [
    "r1, r2, r3 = var(\"r1 r2 r3\")\n",
    "g = diagonal_matrix(SR,[r1, r2, r3])\n",
    "display(g)\n",
    "metric = inner_product_from_matrix(hh, g)"
   ]
  },
  {
   "cell_type": "code",
   "execution_count": 12,
   "id": "c30cdb9c-f47a-4f7d-bb59-002829941c17",
   "metadata": {},
   "outputs": [
    {
     "data": {
      "text/html": [
       "<html>\\(\\displaystyle \\left[\\frac{1}{\\sqrt{r_{1}}} e1, \\frac{1}{\\sqrt{r_{2}}} e2, \\frac{1}{\\sqrt{r_{3}}} e3\\right]\\)</html>"
      ],
      "text/latex": [
       "$\\displaystyle \\left[\\frac{1}{\\sqrt{r_{1}}} e1, \\frac{1}{\\sqrt{r_{2}}} e2, \\frac{1}{\\sqrt{r_{3}}} e3\\right]$"
      ],
      "text/plain": [
       "[1/sqrt(r1)*e1, 1/sqrt(r2)*e2, 1/sqrt(r3)*e3]"
      ]
     },
     "execution_count": 12,
     "metadata": {},
     "output_type": "execute_result"
    }
   ],
   "source": [
    "on_basis = gram_schmidt(hh, metric)\n",
    "on_basis"
   ]
  },
  {
   "cell_type": "code",
   "execution_count": 13,
   "id": "99910f40-a6e5-4984-b36a-e42f5b59c438",
   "metadata": {},
   "outputs": [
    {
     "data": {
      "text/html": [
       "<html>\\(\\displaystyle \\left(\\begin{array}{rrr}\n",
       "-\\frac{2}{r_{1}} & 0 & 0 \\\\\n",
       "0 & -\\frac{2}{r_{1}} & 0 \\\\\n",
       "0 & 0 & -\\frac{2}{r_{1}}\n",
       "\\end{array}\\right)\\)</html>"
      ],
      "text/latex": [
       "$\\displaystyle \\left(\\begin{array}{rrr}\n",
       "-\\frac{2}{r_{1}} & 0 & 0 \\\\\n",
       "0 & -\\frac{2}{r_{1}} & 0 \\\\\n",
       "0 & 0 & -\\frac{2}{r_{1}}\n",
       "\\end{array}\\right)$"
      ],
      "text/plain": [
       "[-2/r1     0     0]\n",
       "[    0 -2/r1     0]\n",
       "[    0     0 -2/r1]"
      ]
     },
     "execution_count": 13,
     "metadata": {},
     "output_type": "execute_result"
    }
   ],
   "source": [
    "Ric_on(hh, g, on_basis)"
   ]
  },
  {
   "cell_type": "code",
   "execution_count": 14,
   "id": "45e9b364-1626-49e3-a358-f5cdf77fb5db",
   "metadata": {},
   "outputs": [
    {
     "data": {
      "text/html": [
       "<html>\\(\\displaystyle -\\frac{1}{r_{1}}\\)</html>"
      ],
      "text/latex": [
       "$\\displaystyle -\\frac{1}{r_{1}}$"
      ],
      "text/plain": [
       "-1/r1"
      ]
     },
     "metadata": {},
     "output_type": "display_data"
    },
    {
     "data": {
      "text/html": [
       "<html>\\(\\displaystyle -\\frac{1}{r_{1}}\\)</html>"
      ],
      "text/latex": [
       "$\\displaystyle -\\frac{1}{r_{1}}$"
      ],
      "text/plain": [
       "-1/r1"
      ]
     },
     "metadata": {},
     "output_type": "display_data"
    },
    {
     "data": {
      "text/html": [
       "<html>\\(\\displaystyle -\\frac{1}{r_{1}}\\)</html>"
      ],
      "text/latex": [
       "$\\displaystyle -\\frac{1}{r_{1}}$"
      ],
      "text/plain": [
       "-1/r1"
      ]
     },
     "metadata": {},
     "output_type": "display_data"
    }
   ],
   "source": [
    "# Curvaturas seccionales en la base ortonormal\n",
    "for i in range(3):\n",
    "    for j in range(i+1,3):\n",
    "        display(secc_curv(hh,metric, on_basis, i, j))"
   ]
  },
  {
   "cell_type": "markdown",
   "id": "b742f516-9173-44d5-b9e0-10a1e1cd9265",
   "metadata": {},
   "source": [
    "## Ejemplos con $\\dim > 3$"
   ]
  },
  {
   "cell_type": "code",
   "execution_count": 15,
   "id": "c6e61b90-4d93-4b77-978c-0aaad15340fe",
   "metadata": {},
   "outputs": [],
   "source": [
    "structure_constants = {('e1','e2') : {'e2' : 1}, ('e1','e3') : {'e3' : 1},\n",
    "                       ('e1','e4') : {'e4' : 1}, ('e1','e5') : {'e5' : 1},\n",
    "                      }\n",
    "hh.<e1,e2,e3,e4,e5> = LieAlgebra(SR, structure_constants) "
   ]
  },
  {
   "cell_type": "code",
   "execution_count": 16,
   "id": "4188f601-eada-4b90-b7da-2adb79936745",
   "metadata": {},
   "outputs": [
    {
     "data": {
      "text/html": [
       "<html>\\(\\displaystyle \\mathrm{True}\\)</html>"
      ],
      "text/latex": [
       "$\\displaystyle \\mathrm{True}$"
      ],
      "text/plain": [
       "True"
      ]
     },
     "execution_count": 16,
     "metadata": {},
     "output_type": "execute_result"
    }
   ],
   "source": [
    "hh.is_solvable()"
   ]
  },
  {
   "cell_type": "code",
   "execution_count": 17,
   "id": "4b2ec78d-ac44-4986-8401-dbbf92c4888b",
   "metadata": {},
   "outputs": [
    {
     "data": {
      "text/html": [
       "<html>\\(\\displaystyle \\mathrm{False}\\)</html>"
      ],
      "text/latex": [
       "$\\displaystyle \\mathrm{False}$"
      ],
      "text/plain": [
       "False"
      ]
     },
     "execution_count": 17,
     "metadata": {},
     "output_type": "execute_result"
    }
   ],
   "source": [
    "hh.is_nilpotent()"
   ]
  },
  {
   "cell_type": "code",
   "execution_count": 18,
   "id": "6070b87e-c38b-4d63-b043-55a40f6b8ec9",
   "metadata": {},
   "outputs": [
    {
     "data": {
      "text/html": [
       "<html>\\(\\displaystyle \\left(\\begin{array}{rrrrr}\n",
       "4 & 0 & 0 & 0 & 0 \\\\\n",
       "0 & 0 & 0 & 0 & 0 \\\\\n",
       "0 & 0 & 0 & 0 & 0 \\\\\n",
       "0 & 0 & 0 & 0 & 0 \\\\\n",
       "0 & 0 & 0 & 0 & 0\n",
       "\\end{array}\\right)\\)</html>"
      ],
      "text/latex": [
       "$\\displaystyle \\left(\\begin{array}{rrrrr}\n",
       "4 & 0 & 0 & 0 & 0 \\\\\n",
       "0 & 0 & 0 & 0 & 0 \\\\\n",
       "0 & 0 & 0 & 0 & 0 \\\\\n",
       "0 & 0 & 0 & 0 & 0 \\\\\n",
       "0 & 0 & 0 & 0 & 0\n",
       "\\end{array}\\right)$"
      ],
      "text/plain": [
       "[4 0 0 0 0]\n",
       "[0 0 0 0 0]\n",
       "[0 0 0 0 0]\n",
       "[0 0 0 0 0]\n",
       "[0 0 0 0 0]"
      ]
     },
     "execution_count": 18,
     "metadata": {},
     "output_type": "execute_result"
    }
   ],
   "source": [
    "B = hh.killing_form_matrix()\n",
    "B"
   ]
  },
  {
   "cell_type": "code",
   "execution_count": 19,
   "id": "0a84bd3e-3bdc-4ef9-9de4-4931702acc3e",
   "metadata": {},
   "outputs": [
    {
     "data": {
      "text/html": [
       "<html>\\(\\displaystyle \\left(\\begin{array}{rrrrr}\n",
       "a_{1} & a_{2} & 0 & 0 & 0 \\\\\n",
       "a_{2} & a_{3} & 0 & 0 & 0 \\\\\n",
       "0 & 0 & a_{4} & 0 & 0 \\\\\n",
       "0 & 0 & 0 & a_{5} & 0 \\\\\n",
       "0 & 0 & 0 & 0 & a_{6}\n",
       "\\end{array}\\right)\\)</html>"
      ],
      "text/latex": [
       "$\\displaystyle \\left(\\begin{array}{rrrrr}\n",
       "a_{1} & a_{2} & 0 & 0 & 0 \\\\\n",
       "a_{2} & a_{3} & 0 & 0 & 0 \\\\\n",
       "0 & 0 & a_{4} & 0 & 0 \\\\\n",
       "0 & 0 & 0 & a_{5} & 0 \\\\\n",
       "0 & 0 & 0 & 0 & a_{6}\n",
       "\\end{array}\\right)$"
      ],
      "text/plain": [
       "[a1 a2  0  0  0]\n",
       "[a2 a3  0  0  0]\n",
       "[ 0  0 a4  0  0]\n",
       "[ 0  0  0 a5  0]\n",
       "[ 0  0  0  0 a6]"
      ]
     },
     "metadata": {},
     "output_type": "display_data"
    }
   ],
   "source": [
    "a1, a2, a3, a4, a5, a6 = var(\"a1 a2 a3 a4 a5 a6\")\n",
    "g = matrix(SR,[[a1, a2, 0, 0, 0],\n",
    "               [a2, a3, 0, 0, 0], \n",
    "               [0, 0, a4, 0, 0],\n",
    "               [0, 0, 0, a5, 0],\n",
    "               [0, 0, 0, 0, a6]]\n",
    "          )\n",
    "display(g)\n",
    "metric = inner_product_from_matrix(hh, g)"
   ]
  },
  {
   "cell_type": "code",
   "execution_count": 20,
   "id": "1450d871-1f9b-4813-b708-51e85b611b17",
   "metadata": {},
   "outputs": [
    {
     "data": {
      "text/html": [
       "<html>\\(\\displaystyle -{\\left(a_{2}^{2} - a_{1} a_{3}\\right)} a_{4} a_{5} a_{6}\\)</html>"
      ],
      "text/latex": [
       "$\\displaystyle -{\\left(a_{2}^{2} - a_{1} a_{3}\\right)} a_{4} a_{5} a_{6}$"
      ],
      "text/plain": [
       "-(a2^2 - a1*a3)*a4*a5*a6"
      ]
     },
     "execution_count": 20,
     "metadata": {},
     "output_type": "execute_result"
    }
   ],
   "source": [
    "g.det().factor()"
   ]
  },
  {
   "cell_type": "code",
   "execution_count": 21,
   "id": "0a6fee98-7f0e-481c-b743-6b4f5d0ed964",
   "metadata": {},
   "outputs": [
    {
     "data": {
      "text/html": [
       "<html>\\(\\displaystyle \\left[\\frac{1}{\\sqrt{a_{1}}} e1, \\left(-\\frac{a_{2}}{\\sqrt{-a_{2}^{2} + a_{1} a_{3}} \\sqrt{a_{1}}}\\right) e1 + \\left(\\frac{\\sqrt{a_{1}}}{\\sqrt{-a_{2}^{2} + a_{1} a_{3}}}\\right) e2, \\frac{1}{\\sqrt{a_{4}}} e3, \\frac{1}{\\sqrt{a_{5}}} e4, \\frac{1}{\\sqrt{a_{6}}} e5\\right]\\)</html>"
      ],
      "text/latex": [
       "$\\displaystyle \\left[\\frac{1}{\\sqrt{a_{1}}} e1, \\left(-\\frac{a_{2}}{\\sqrt{-a_{2}^{2} + a_{1} a_{3}} \\sqrt{a_{1}}}\\right) e1 + \\left(\\frac{\\sqrt{a_{1}}}{\\sqrt{-a_{2}^{2} + a_{1} a_{3}}}\\right) e2, \\frac{1}{\\sqrt{a_{4}}} e3, \\frac{1}{\\sqrt{a_{5}}} e4, \\frac{1}{\\sqrt{a_{6}}} e5\\right]$"
      ],
      "text/plain": [
       "[1/sqrt(a1)*e1,\n",
       " (-a2/(sqrt(-a2^2+a1*a3)*sqrt(a1)))*e1 + (sqrt(a1)/sqrt(-a2^2+a1*a3))*e2,\n",
       " 1/sqrt(a4)*e3,\n",
       " 1/sqrt(a5)*e4,\n",
       " 1/sqrt(a6)*e5]"
      ]
     },
     "execution_count": 21,
     "metadata": {},
     "output_type": "execute_result"
    }
   ],
   "source": [
    "on_basis = gram_schmidt(hh, metric)\n",
    "on_basis"
   ]
  },
  {
   "cell_type": "code",
   "execution_count": 22,
   "id": "7327225d-9db5-485f-b99f-05320d2e9048",
   "metadata": {},
   "outputs": [
    {
     "data": {
      "text/html": [
       "<html>\\(\\displaystyle \\left(\\begin{array}{rrrrr}\n",
       "-{\\left(\\frac{a_{2}^{2}}{{\\left(a_{2}^{2} - a_{1} a_{3}\\right)} \\sqrt{a_{1}}} - \\frac{\\sqrt{a_{1}} a_{3}}{a_{2}^{2} - a_{1} a_{3}}\\right)}^{2} + \\frac{4 \\, a_{2}^{2}}{{\\left(a_{2}^{2} - a_{1} a_{3}\\right)} a_{1}} - \\frac{3}{a_{1}} & 0 & 0 & 0 & 0 \\\\\n",
       "-\\frac{3 \\, a_{2} {\\left(\\frac{a_{2}^{2}}{{\\left(a_{2}^{2} - a_{1} a_{3}\\right)} \\sqrt{a_{1}}} - \\frac{\\sqrt{a_{1}} a_{3}}{a_{2}^{2} - a_{1} a_{3}}\\right)}}{\\sqrt{-a_{2}^{2} + a_{1} a_{3}} \\sqrt{a_{1}}} + \\frac{3 \\, a_{2}}{\\sqrt{-a_{2}^{2} + a_{1} a_{3}} a_{1}} & -{\\left(\\frac{a_{2}^{2}}{{\\left(a_{2}^{2} - a_{1} a_{3}\\right)} \\sqrt{a_{1}}} - \\frac{\\sqrt{a_{1}} a_{3}}{a_{2}^{2} - a_{1} a_{3}}\\right)}^{2} - \\frac{3 \\, {\\left(\\frac{a_{2}^{2}}{{\\left(a_{2}^{2} - a_{1} a_{3}\\right)} \\sqrt{a_{1}}} - \\frac{\\sqrt{a_{1}} a_{3}}{a_{2}^{2} - a_{1} a_{3}}\\right)}}{\\sqrt{a_{1}}} + \\frac{4 \\, a_{2}^{2}}{{\\left(a_{2}^{2} - a_{1} a_{3}\\right)} a_{1}} & 0 & 0 & 0 \\\\\n",
       "0 & 0 & -\\frac{\\frac{a_{2}^{2}}{{\\left(a_{2}^{2} - a_{1} a_{3}\\right)} \\sqrt{a_{1}}} - \\frac{\\sqrt{a_{1}} a_{3}}{a_{2}^{2} - a_{1} a_{3}}}{\\sqrt{a_{1}}} + \\frac{4 \\, a_{2}^{2}}{{\\left(a_{2}^{2} - a_{1} a_{3}\\right)} a_{1}} - \\frac{3}{a_{1}} & 0 & 0 \\\\\n",
       "0 & 0 & 0 & -\\frac{\\frac{a_{2}^{2}}{{\\left(a_{2}^{2} - a_{1} a_{3}\\right)} \\sqrt{a_{1}}} - \\frac{\\sqrt{a_{1}} a_{3}}{a_{2}^{2} - a_{1} a_{3}}}{\\sqrt{a_{1}}} + \\frac{4 \\, a_{2}^{2}}{{\\left(a_{2}^{2} - a_{1} a_{3}\\right)} a_{1}} - \\frac{3}{a_{1}} & 0 \\\\\n",
       "0 & 0 & 0 & 0 & -\\frac{\\frac{a_{2}^{2}}{{\\left(a_{2}^{2} - a_{1} a_{3}\\right)} \\sqrt{a_{1}}} - \\frac{\\sqrt{a_{1}} a_{3}}{a_{2}^{2} - a_{1} a_{3}}}{\\sqrt{a_{1}}} + \\frac{4 \\, a_{2}^{2}}{{\\left(a_{2}^{2} - a_{1} a_{3}\\right)} a_{1}} - \\frac{3}{a_{1}}\n",
       "\\end{array}\\right)\\)</html>"
      ],
      "text/latex": [
       "$\\displaystyle \\left(\\begin{array}{rrrrr}\n",
       "-{\\left(\\frac{a_{2}^{2}}{{\\left(a_{2}^{2} - a_{1} a_{3}\\right)} \\sqrt{a_{1}}} - \\frac{\\sqrt{a_{1}} a_{3}}{a_{2}^{2} - a_{1} a_{3}}\\right)}^{2} + \\frac{4 \\, a_{2}^{2}}{{\\left(a_{2}^{2} - a_{1} a_{3}\\right)} a_{1}} - \\frac{3}{a_{1}} & 0 & 0 & 0 & 0 \\\\\n",
       "-\\frac{3 \\, a_{2} {\\left(\\frac{a_{2}^{2}}{{\\left(a_{2}^{2} - a_{1} a_{3}\\right)} \\sqrt{a_{1}}} - \\frac{\\sqrt{a_{1}} a_{3}}{a_{2}^{2} - a_{1} a_{3}}\\right)}}{\\sqrt{-a_{2}^{2} + a_{1} a_{3}} \\sqrt{a_{1}}} + \\frac{3 \\, a_{2}}{\\sqrt{-a_{2}^{2} + a_{1} a_{3}} a_{1}} & -{\\left(\\frac{a_{2}^{2}}{{\\left(a_{2}^{2} - a_{1} a_{3}\\right)} \\sqrt{a_{1}}} - \\frac{\\sqrt{a_{1}} a_{3}}{a_{2}^{2} - a_{1} a_{3}}\\right)}^{2} - \\frac{3 \\, {\\left(\\frac{a_{2}^{2}}{{\\left(a_{2}^{2} - a_{1} a_{3}\\right)} \\sqrt{a_{1}}} - \\frac{\\sqrt{a_{1}} a_{3}}{a_{2}^{2} - a_{1} a_{3}}\\right)}}{\\sqrt{a_{1}}} + \\frac{4 \\, a_{2}^{2}}{{\\left(a_{2}^{2} - a_{1} a_{3}\\right)} a_{1}} & 0 & 0 & 0 \\\\\n",
       "0 & 0 & -\\frac{\\frac{a_{2}^{2}}{{\\left(a_{2}^{2} - a_{1} a_{3}\\right)} \\sqrt{a_{1}}} - \\frac{\\sqrt{a_{1}} a_{3}}{a_{2}^{2} - a_{1} a_{3}}}{\\sqrt{a_{1}}} + \\frac{4 \\, a_{2}^{2}}{{\\left(a_{2}^{2} - a_{1} a_{3}\\right)} a_{1}} - \\frac{3}{a_{1}} & 0 & 0 \\\\\n",
       "0 & 0 & 0 & -\\frac{\\frac{a_{2}^{2}}{{\\left(a_{2}^{2} - a_{1} a_{3}\\right)} \\sqrt{a_{1}}} - \\frac{\\sqrt{a_{1}} a_{3}}{a_{2}^{2} - a_{1} a_{3}}}{\\sqrt{a_{1}}} + \\frac{4 \\, a_{2}^{2}}{{\\left(a_{2}^{2} - a_{1} a_{3}\\right)} a_{1}} - \\frac{3}{a_{1}} & 0 \\\\\n",
       "0 & 0 & 0 & 0 & -\\frac{\\frac{a_{2}^{2}}{{\\left(a_{2}^{2} - a_{1} a_{3}\\right)} \\sqrt{a_{1}}} - \\frac{\\sqrt{a_{1}} a_{3}}{a_{2}^{2} - a_{1} a_{3}}}{\\sqrt{a_{1}}} + \\frac{4 \\, a_{2}^{2}}{{\\left(a_{2}^{2} - a_{1} a_{3}\\right)} a_{1}} - \\frac{3}{a_{1}}\n",
       "\\end{array}\\right)$"
      ],
      "text/plain": [
       "[                                                                    -(a2^2/((a2^2 - a1*a3)*sqrt(a1)) - sqrt(a1)*a3/(a2^2 - a1*a3))^2 + 4*a2^2/((a2^2 - a1*a3)*a1) - 3/a1                                                                                                                                                                        0                                                                                                                                                                        0                                                                                                                                                                        0                                                                                                                                                                        0]\n",
       "[                                      -3*a2*(a2^2/((a2^2 - a1*a3)*sqrt(a1)) - sqrt(a1)*a3/(a2^2 - a1*a3))/(sqrt(-a2^2 + a1*a3)*sqrt(a1)) + 3*a2/(sqrt(-a2^2 + a1*a3)*a1) -(a2^2/((a2^2 - a1*a3)*sqrt(a1)) - sqrt(a1)*a3/(a2^2 - a1*a3))^2 - 3*(a2^2/((a2^2 - a1*a3)*sqrt(a1)) - sqrt(a1)*a3/(a2^2 - a1*a3))/sqrt(a1) + 4*a2^2/((a2^2 - a1*a3)*a1)                                                                                                                                                                        0                                                                                                                                                                        0                                                                                                                                                                        0]\n",
       "[                                                                                                                                                                       0                                                                                                                                                                        0                                                              -(a2^2/((a2^2 - a1*a3)*sqrt(a1)) - sqrt(a1)*a3/(a2^2 - a1*a3))/sqrt(a1) + 4*a2^2/((a2^2 - a1*a3)*a1) - 3/a1                                                                                                                                                                        0                                                                                                                                                                        0]\n",
       "[                                                                                                                                                                       0                                                                                                                                                                        0                                                                                                                                                                        0                                                              -(a2^2/((a2^2 - a1*a3)*sqrt(a1)) - sqrt(a1)*a3/(a2^2 - a1*a3))/sqrt(a1) + 4*a2^2/((a2^2 - a1*a3)*a1) - 3/a1                                                                                                                                                                        0]\n",
       "[                                                                                                                                                                       0                                                                                                                                                                        0                                                                                                                                                                        0                                                                                                                                                                        0                                                              -(a2^2/((a2^2 - a1*a3)*sqrt(a1)) - sqrt(a1)*a3/(a2^2 - a1*a3))/sqrt(a1) + 4*a2^2/((a2^2 - a1*a3)*a1) - 3/a1]"
      ]
     },
     "execution_count": 22,
     "metadata": {},
     "output_type": "execute_result"
    }
   ],
   "source": [
    "# Einstein?\n",
    "Ric_on(hh, g, on_basis)"
   ]
  },
  {
   "cell_type": "code",
   "execution_count": 23,
   "id": "695c9b7f-0380-48cd-92bd-b7fb07d12422",
   "metadata": {},
   "outputs": [
    {
     "data": {
      "text/html": [
       "<html>\\(\\displaystyle \\left(\\begin{array}{rrrrr}\n",
       "\\frac{4 \\, a_{3}}{a_{2}^{2} - a_{1} a_{3}} & 0 & 0 & 0 & 0 \\\\\n",
       "0 & \\frac{4 \\, a_{3}}{a_{2}^{2} - a_{1} a_{3}} & 0 & 0 & 0 \\\\\n",
       "0 & 0 & \\frac{4 \\, a_{3}}{a_{2}^{2} - a_{1} a_{3}} & 0 & 0 \\\\\n",
       "0 & 0 & 0 & \\frac{4 \\, a_{3}}{a_{2}^{2} - a_{1} a_{3}} & 0 \\\\\n",
       "0 & 0 & 0 & 0 & \\frac{4 \\, a_{3}}{a_{2}^{2} - a_{1} a_{3}}\n",
       "\\end{array}\\right)\\)</html>"
      ],
      "text/latex": [
       "$\\displaystyle \\left(\\begin{array}{rrrrr}\n",
       "\\frac{4 \\, a_{3}}{a_{2}^{2} - a_{1} a_{3}} & 0 & 0 & 0 & 0 \\\\\n",
       "0 & \\frac{4 \\, a_{3}}{a_{2}^{2} - a_{1} a_{3}} & 0 & 0 & 0 \\\\\n",
       "0 & 0 & \\frac{4 \\, a_{3}}{a_{2}^{2} - a_{1} a_{3}} & 0 & 0 \\\\\n",
       "0 & 0 & 0 & \\frac{4 \\, a_{3}}{a_{2}^{2} - a_{1} a_{3}} & 0 \\\\\n",
       "0 & 0 & 0 & 0 & \\frac{4 \\, a_{3}}{a_{2}^{2} - a_{1} a_{3}}\n",
       "\\end{array}\\right)$"
      ],
      "text/plain": [
       "[4*a3/(a2^2 - a1*a3)                   0                   0                   0                   0]\n",
       "[                  0 4*a3/(a2^2 - a1*a3)                   0                   0                   0]\n",
       "[                  0                   0 4*a3/(a2^2 - a1*a3)                   0                   0]\n",
       "[                  0                   0                   0 4*a3/(a2^2 - a1*a3)                   0]\n",
       "[                  0                   0                   0                   0 4*a3/(a2^2 - a1*a3)]"
      ]
     },
     "execution_count": 23,
     "metadata": {},
     "output_type": "execute_result"
    }
   ],
   "source": [
    "# Einstein!\n",
    "Ric_on(hh, g, on_basis).factor()"
   ]
  },
  {
   "cell_type": "code",
   "execution_count": 24,
   "id": "514566be-3594-4b10-91c9-d7597a794804",
   "metadata": {},
   "outputs": [
    {
     "data": {
      "text/html": [
       "<html>\\(\\displaystyle \\frac{a_{3}}{a_{2}^{2} - a_{1} a_{3}}\\)</html>"
      ],
      "text/latex": [
       "$\\displaystyle \\frac{a_{3}}{a_{2}^{2} - a_{1} a_{3}}$"
      ],
      "text/plain": [
       "a3/(a2^2 - a1*a3)"
      ]
     },
     "metadata": {},
     "output_type": "display_data"
    },
    {
     "name": "stdout",
     "output_type": "stream",
     "text": [
      "\n"
     ]
    },
    {
     "data": {
      "text/html": [
       "<html>\\(\\displaystyle \\frac{a_{3}}{a_{2}^{2} - a_{1} a_{3}}\\)</html>"
      ],
      "text/latex": [
       "$\\displaystyle \\frac{a_{3}}{a_{2}^{2} - a_{1} a_{3}}$"
      ],
      "text/plain": [
       "a3/(a2^2 - a1*a3)"
      ]
     },
     "metadata": {},
     "output_type": "display_data"
    },
    {
     "name": "stdout",
     "output_type": "stream",
     "text": [
      "\n"
     ]
    },
    {
     "data": {
      "text/html": [
       "<html>\\(\\displaystyle \\frac{a_{3}}{a_{2}^{2} - a_{1} a_{3}}\\)</html>"
      ],
      "text/latex": [
       "$\\displaystyle \\frac{a_{3}}{a_{2}^{2} - a_{1} a_{3}}$"
      ],
      "text/plain": [
       "a3/(a2^2 - a1*a3)"
      ]
     },
     "metadata": {},
     "output_type": "display_data"
    },
    {
     "name": "stdout",
     "output_type": "stream",
     "text": [
      "\n"
     ]
    },
    {
     "data": {
      "text/html": [
       "<html>\\(\\displaystyle \\frac{a_{3}}{a_{2}^{2} - a_{1} a_{3}}\\)</html>"
      ],
      "text/latex": [
       "$\\displaystyle \\frac{a_{3}}{a_{2}^{2} - a_{1} a_{3}}$"
      ],
      "text/plain": [
       "a3/(a2^2 - a1*a3)"
      ]
     },
     "metadata": {},
     "output_type": "display_data"
    },
    {
     "name": "stdout",
     "output_type": "stream",
     "text": [
      "\n"
     ]
    },
    {
     "data": {
      "text/html": [
       "<html>\\(\\displaystyle \\frac{a_{3}}{a_{2}^{2} - a_{1} a_{3}}\\)</html>"
      ],
      "text/latex": [
       "$\\displaystyle \\frac{a_{3}}{a_{2}^{2} - a_{1} a_{3}}$"
      ],
      "text/plain": [
       "a3/(a2^2 - a1*a3)"
      ]
     },
     "metadata": {},
     "output_type": "display_data"
    },
    {
     "name": "stdout",
     "output_type": "stream",
     "text": [
      "\n"
     ]
    },
    {
     "data": {
      "text/html": [
       "<html>\\(\\displaystyle \\frac{a_{3}}{a_{2}^{2} - a_{1} a_{3}}\\)</html>"
      ],
      "text/latex": [
       "$\\displaystyle \\frac{a_{3}}{a_{2}^{2} - a_{1} a_{3}}$"
      ],
      "text/plain": [
       "a3/(a2^2 - a1*a3)"
      ]
     },
     "metadata": {},
     "output_type": "display_data"
    },
    {
     "name": "stdout",
     "output_type": "stream",
     "text": [
      "\n"
     ]
    },
    {
     "data": {
      "text/html": [
       "<html>\\(\\displaystyle \\frac{a_{3}}{a_{2}^{2} - a_{1} a_{3}}\\)</html>"
      ],
      "text/latex": [
       "$\\displaystyle \\frac{a_{3}}{a_{2}^{2} - a_{1} a_{3}}$"
      ],
      "text/plain": [
       "a3/(a2^2 - a1*a3)"
      ]
     },
     "metadata": {},
     "output_type": "display_data"
    },
    {
     "name": "stdout",
     "output_type": "stream",
     "text": [
      "\n"
     ]
    },
    {
     "data": {
      "text/html": [
       "<html>\\(\\displaystyle \\frac{a_{3}}{a_{2}^{2} - a_{1} a_{3}}\\)</html>"
      ],
      "text/latex": [
       "$\\displaystyle \\frac{a_{3}}{a_{2}^{2} - a_{1} a_{3}}$"
      ],
      "text/plain": [
       "a3/(a2^2 - a1*a3)"
      ]
     },
     "metadata": {},
     "output_type": "display_data"
    },
    {
     "name": "stdout",
     "output_type": "stream",
     "text": [
      "\n"
     ]
    },
    {
     "data": {
      "text/html": [
       "<html>\\(\\displaystyle \\frac{a_{3}}{a_{2}^{2} - a_{1} a_{3}}\\)</html>"
      ],
      "text/latex": [
       "$\\displaystyle \\frac{a_{3}}{a_{2}^{2} - a_{1} a_{3}}$"
      ],
      "text/plain": [
       "a3/(a2^2 - a1*a3)"
      ]
     },
     "metadata": {},
     "output_type": "display_data"
    },
    {
     "name": "stdout",
     "output_type": "stream",
     "text": [
      "\n"
     ]
    },
    {
     "data": {
      "text/html": [
       "<html>\\(\\displaystyle \\frac{a_{3}}{a_{2}^{2} - a_{1} a_{3}}\\)</html>"
      ],
      "text/latex": [
       "$\\displaystyle \\frac{a_{3}}{a_{2}^{2} - a_{1} a_{3}}$"
      ],
      "text/plain": [
       "a3/(a2^2 - a1*a3)"
      ]
     },
     "metadata": {},
     "output_type": "display_data"
    },
    {
     "name": "stdout",
     "output_type": "stream",
     "text": [
      "\n"
     ]
    }
   ],
   "source": [
    "# Curvaturas seccionales en la base ortonormal\n",
    "for i in range(5):\n",
    "    for j in range(i+1,5):\n",
    "        display(secc_curv(hh,metric, on_basis, i, j).factor())\n",
    "        print(\"\")"
   ]
  },
  {
   "cell_type": "code",
   "execution_count": null,
   "id": "f77ad09f-eedf-4cd0-8afd-f790e6e01017",
   "metadata": {},
   "outputs": [],
   "source": []
  }
 ],
 "metadata": {
  "kernelspec": {
   "display_name": "SageMath 10.4",
   "language": "sage",
   "name": "sagemath"
  },
  "language_info": {
   "codemirror_mode": {
    "name": "ipython",
    "version": 3
   },
   "file_extension": ".py",
   "mimetype": "text/x-python",
   "name": "python",
   "nbconvert_exporter": "python",
   "pygments_lexer": "ipython3",
   "version": "3.12.5"
  }
 },
 "nbformat": 4,
 "nbformat_minor": 5
}
