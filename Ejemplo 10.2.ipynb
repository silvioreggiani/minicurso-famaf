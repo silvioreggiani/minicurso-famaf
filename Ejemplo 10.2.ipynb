{
 "cells": [
  {
   "cell_type": "code",
   "execution_count": 1,
   "id": "93e04071-04a5-4c14-8ae6-e5d085db3126",
   "metadata": {},
   "outputs": [],
   "source": [
    "%display latex"
   ]
  },
  {
   "cell_type": "markdown",
   "id": "226d2199-fffe-4abc-b224-2f13baca0a0b",
   "metadata": {},
   "source": [
    "## Métrica bi-invariante en $\\operatorname{SO}(3)$"
   ]
  },
  {
   "cell_type": "code",
   "execution_count": 2,
   "id": "b20b4e5a-1e77-4635-a224-16f026170c90",
   "metadata": {},
   "outputs": [],
   "source": [
    "# Definimos el álgebra de Lie so(3)\n",
    "structure_constants = {('e1','e2') : {'e3' : 1}, ('e1','e3') : {'e2' : -1} , ('e2','e3') : {'e1' : 1}}\n",
    "hh.<e1,e2,e3> = LieAlgebra(SR, structure_constants) "
   ]
  },
  {
   "cell_type": "code",
   "execution_count": 3,
   "id": "0bf460e0-a52e-4144-9728-43014519e35d",
   "metadata": {},
   "outputs": [
    {
     "data": {
      "text/html": [
       "<html>\\(\\displaystyle \\verb|Finite|\\verb| |\\verb|family|\\verb| |\\verb|{'e1':|\\verb| |\\verb|e1,|\\verb| |\\verb|'e2':|\\verb| |\\verb|e2,|\\verb| |\\verb|'e3':|\\verb| |\\verb|e3}|\\)</html>"
      ],
      "text/latex": [
       "$\\displaystyle \\verb|Finite|\\verb| |\\verb|family|\\verb| |\\verb|{'e1':|\\verb| |\\verb|e1,|\\verb| |\\verb|'e2':|\\verb| |\\verb|e2,|\\verb| |\\verb|'e3':|\\verb| |\\verb|e3}|$"
      ],
      "text/plain": [
       "Finite family {'e1': e1, 'e2': e2, 'e3': e3}"
      ]
     },
     "execution_count": 3,
     "metadata": {},
     "output_type": "execute_result"
    }
   ],
   "source": [
    "hh.basis()"
   ]
  },
  {
   "cell_type": "code",
   "execution_count": 4,
   "id": "ebb14efa-0aa1-4f6d-97ca-819f7e3977b0",
   "metadata": {},
   "outputs": [
    {
     "data": {
      "text/html": [
       "<html>\\(\\displaystyle \\left(\\begin{array}{rrr}\n",
       "-2 & 0 & 0 \\\\\n",
       "0 & -2 & 0 \\\\\n",
       "0 & 0 & -2\n",
       "\\end{array}\\right)\\)</html>"
      ],
      "text/latex": [
       "$\\displaystyle \\left(\\begin{array}{rrr}\n",
       "-2 & 0 & 0 \\\\\n",
       "0 & -2 & 0 \\\\\n",
       "0 & 0 & -2\n",
       "\\end{array}\\right)$"
      ],
      "text/plain": [
       "[-2  0  0]\n",
       "[ 0 -2  0]\n",
       "[ 0  0 -2]"
      ]
     },
     "execution_count": 4,
     "metadata": {},
     "output_type": "execute_result"
    }
   ],
   "source": [
    "B = hh.killing_form_matrix()\n",
    "B"
   ]
  },
  {
   "cell_type": "code",
   "execution_count": 5,
   "id": "76d8c9ef-9477-4701-a8dc-a07afe0a27c3",
   "metadata": {},
   "outputs": [],
   "source": [
    "def inner_product_from_matrix(hh, g):\n",
    "    return lambda x, y: x.to_vector() * g * y.to_vector()\n",
    "\n",
    "def gram_schmidt(hh, inner_product):\n",
    "    hh_on_basis = []\n",
    "    for i, v in enumerate(hh.basis().values()):\n",
    "        u = v\n",
    "        for j in range(i):\n",
    "            u -= inner_product(v, hh_on_basis[j]) * hh_on_basis[j]\n",
    "        hh_on_basis.append( hh( ((1 / sqrt(inner_product(u, u))) * u).to_vector().canonicalize_radical() ))\n",
    "    return hh_on_basis\n",
    "\n",
    "def bracket_contracted(hh, inner_product, on_basis):\n",
    "    hh_dim = hh.dimension()\n",
    "    bc = {(i,j,k): None for i in range(hh_dim) for j in range(hh_dim) for k in range(hh_dim)}\n",
    "    for index in bc.keys():\n",
    "        i, j, k = index\n",
    "        bc[index] = inner_product(on_basis[i].bracket(on_basis[j]), on_basis[k])\n",
    "    return bc\n",
    "\n",
    "def secc_curv(hh, metric, on_basis, i, j):\n",
    "    hh_dim = hh.dimension()\n",
    "    bc = bracket_contracted(hh, metric, on_basis)\n",
    "    return sum(bc[i,j,k]*(-bc[i,j,k]+bc[j,k,i]+bc[k,i,j])/2 - (bc[i,j,k]-bc[j,k,i]+bc[k,i,j])*(bc[i,j,k]+bc[j,k,i]-bc[k,i,j])/4 - bc[k,i,i]*bc[k,j,j] for k in range(hh_dim))\n",
    "\n",
    "def Ric_ob(hh, bc, j, h):\n",
    "    hh_dim = hh.dimension()\n",
    "    return sum(sum( bc[(i,k,i)] * (bc[(k,j,h)] + bc[(k,h,j)]) / 2 + bc[(i,k,h)] * bc[(i,k,j)] / 4 - bc[(i,j,k)] * bc[(k,h,i)] / 2 + bc[(i,k,i)] * bc[(j,h,k)] / 2 - bc[(i,j,k)] * bc[(i,h,k)] / 2 for i in range(hh_dim)) for k in range(hh_dim))\n",
    "\n",
    "def Ric_on(hh, g, on_basis):\n",
    "    hh_dim = hh.dimension()\n",
    "    ip = inner_product_from_matrix(hh, g)\n",
    "    on_basis = gram_schmidt(hh, ip)\n",
    "    bc = bracket_contracted(hh, ip, on_basis)\n",
    "    return matrix(hh_dim, hh_dim, lambda i, j: Ric_ob(hh, bc, i, j))"
   ]
  },
  {
   "cell_type": "code",
   "execution_count": 6,
   "id": "5a7a1969-2aa4-4cc0-bf60-1db8fd7fc29d",
   "metadata": {},
   "outputs": [],
   "source": [
    "metric = inner_product_from_matrix(hh, -B)"
   ]
  },
  {
   "cell_type": "code",
   "execution_count": 7,
   "id": "e3218190-f7fe-4b4d-85f1-d194530622d4",
   "metadata": {},
   "outputs": [
    {
     "data": {
      "text/html": [
       "<html>\\(\\displaystyle \\left[\\frac{1}{2} \\, \\sqrt{2} e1, \\frac{1}{2} \\, \\sqrt{2} e2, \\frac{1}{2} \\, \\sqrt{2} e3\\right]\\)</html>"
      ],
      "text/latex": [
       "$\\displaystyle \\left[\\frac{1}{2} \\, \\sqrt{2} e1, \\frac{1}{2} \\, \\sqrt{2} e2, \\frac{1}{2} \\, \\sqrt{2} e3\\right]$"
      ],
      "text/plain": [
       "[1/2*sqrt(2)*e1, 1/2*sqrt(2)*e2, 1/2*sqrt(2)*e3]"
      ]
     },
     "execution_count": 7,
     "metadata": {},
     "output_type": "execute_result"
    }
   ],
   "source": [
    "on_basis = gram_schmidt(hh, metric)\n",
    "on_basis"
   ]
  },
  {
   "cell_type": "code",
   "execution_count": 8,
   "id": "2cdd0acf-c045-4b23-861c-7b2781b60a6d",
   "metadata": {},
   "outputs": [
    {
     "data": {
      "text/html": [
       "<html>\\(\\displaystyle \\left(\\begin{array}{rrr}\n",
       "\\frac{1}{4} & 0 & 0 \\\\\n",
       "0 & \\frac{1}{4} & 0 \\\\\n",
       "0 & 0 & \\frac{1}{4}\n",
       "\\end{array}\\right)\\)</html>"
      ],
      "text/latex": [
       "$\\displaystyle \\left(\\begin{array}{rrr}\n",
       "\\frac{1}{4} & 0 & 0 \\\\\n",
       "0 & \\frac{1}{4} & 0 \\\\\n",
       "0 & 0 & \\frac{1}{4}\n",
       "\\end{array}\\right)$"
      ],
      "text/plain": [
       "[1/4   0   0]\n",
       "[  0 1/4   0]\n",
       "[  0   0 1/4]"
      ]
     },
     "execution_count": 8,
     "metadata": {},
     "output_type": "execute_result"
    }
   ],
   "source": [
    "# La métrica es Einstein\n",
    "Ric_on(hh, -B, on_basis)"
   ]
  },
  {
   "cell_type": "code",
   "execution_count": 9,
   "id": "bc47f2f6-21da-4cb2-bbfa-5fce1495b9be",
   "metadata": {},
   "outputs": [
    {
     "data": {
      "text/html": [
       "<html>\\(\\displaystyle \\frac{1}{8}\\)</html>"
      ],
      "text/latex": [
       "$\\displaystyle \\frac{1}{8}$"
      ],
      "text/plain": [
       "1/8"
      ]
     },
     "metadata": {},
     "output_type": "display_data"
    },
    {
     "data": {
      "text/html": [
       "<html>\\(\\displaystyle \\frac{1}{8}\\)</html>"
      ],
      "text/latex": [
       "$\\displaystyle \\frac{1}{8}$"
      ],
      "text/plain": [
       "1/8"
      ]
     },
     "metadata": {},
     "output_type": "display_data"
    },
    {
     "data": {
      "text/html": [
       "<html>\\(\\displaystyle \\frac{1}{8}\\)</html>"
      ],
      "text/latex": [
       "$\\displaystyle \\frac{1}{8}$"
      ],
      "text/plain": [
       "1/8"
      ]
     },
     "metadata": {},
     "output_type": "display_data"
    }
   ],
   "source": [
    "# Curvaturas seccionales en la base ortonormal\n",
    "for i in range(3):\n",
    "    for j in range(i+1,3):\n",
    "        display(secc_curv(hh,metric, on_basis, i, j))"
   ]
  },
  {
   "cell_type": "markdown",
   "id": "1f9c5666-a044-439e-873e-db53f4e1411d",
   "metadata": {},
   "source": [
    "## Esferas de Berger\n"
   ]
  },
  {
   "cell_type": "markdown",
   "id": "87c03351-d520-4721-a554-c0248d8ff88d",
   "metadata": {},
   "source": [
    "Los siguientes ejemplos son conocidos como las esferas de Berger, cuando uno considera el grupo de Lie $\\widetilde{\\operatorname{SO}(3)} \\simeq \\operatorname{SU}(2)$"
   ]
  },
  {
   "cell_type": "code",
   "execution_count": 10,
   "id": "b3cff1de-fd2c-4957-9020-589c3cdf870e",
   "metadata": {},
   "outputs": [
    {
     "data": {
      "text/html": [
       "<html>\\(\\displaystyle \\left(\\begin{array}{rrr}\n",
       "1 & 0 & 0 \\\\\n",
       "0 & 1 & 0 \\\\\n",
       "0 & 0 & r\n",
       "\\end{array}\\right)\\)</html>"
      ],
      "text/latex": [
       "$\\displaystyle \\left(\\begin{array}{rrr}\n",
       "1 & 0 & 0 \\\\\n",
       "0 & 1 & 0 \\\\\n",
       "0 & 0 & r\n",
       "\\end{array}\\right)$"
      ],
      "text/plain": [
       "[1 0 0]\n",
       "[0 1 0]\n",
       "[0 0 r]"
      ]
     },
     "metadata": {},
     "output_type": "display_data"
    }
   ],
   "source": [
    "#metric = inner_product_from_matrix(hh, -B)\n",
    "r = var(\"r\")\n",
    "g = diagonal_matrix(SR,[1,1,r])\n",
    "display(g)\n",
    "metric = inner_product_from_matrix(hh, g)"
   ]
  },
  {
   "cell_type": "code",
   "execution_count": 11,
   "id": "c8185b66-d68e-4a5b-812e-5c1ab2386a83",
   "metadata": {},
   "outputs": [
    {
     "data": {
      "text/html": [
       "<html>\\(\\displaystyle \\left[e1, e2, \\frac{1}{\\sqrt{r}} e3\\right]\\)</html>"
      ],
      "text/latex": [
       "$\\displaystyle \\left[e1, e2, \\frac{1}{\\sqrt{r}} e3\\right]$"
      ],
      "text/plain": [
       "[e1, e2, 1/sqrt(r)*e3]"
      ]
     },
     "execution_count": 11,
     "metadata": {},
     "output_type": "execute_result"
    }
   ],
   "source": [
    "on_basis = gram_schmidt(hh, metric)\n",
    "on_basis"
   ]
  },
  {
   "cell_type": "code",
   "execution_count": 12,
   "id": "458f0638-ff0f-42eb-ae04-2c224d01f82f",
   "metadata": {},
   "outputs": [
    {
     "data": {
      "text/html": [
       "<html>\\(\\displaystyle \\left(\\begin{array}{rrr}\n",
       "-\\frac{1}{2} \\, r + 1 & 0 & 0 \\\\\n",
       "0 & -\\frac{1}{2} \\, r + 1 & 0 \\\\\n",
       "0 & 0 & \\frac{1}{2} \\, r\n",
       "\\end{array}\\right)\\)</html>"
      ],
      "text/latex": [
       "$\\displaystyle \\left(\\begin{array}{rrr}\n",
       "-\\frac{1}{2} \\, r + 1 & 0 & 0 \\\\\n",
       "0 & -\\frac{1}{2} \\, r + 1 & 0 \\\\\n",
       "0 & 0 & \\frac{1}{2} \\, r\n",
       "\\end{array}\\right)$"
      ],
      "text/plain": [
       "[-1/2*r + 1          0          0]\n",
       "[         0 -1/2*r + 1          0]\n",
       "[         0          0      1/2*r]"
      ]
     },
     "execution_count": 12,
     "metadata": {},
     "output_type": "execute_result"
    }
   ],
   "source": [
    "# No es Einstein (si r \\neq 1), por lo tanto no es de curvatura constante\n",
    "Ric_on(hh, g, on_basis).factor()"
   ]
  },
  {
   "cell_type": "code",
   "execution_count": 13,
   "id": "3b281ea8-c15b-4da1-b06a-808962edb71a",
   "metadata": {},
   "outputs": [
    {
     "data": {
      "text/html": [
       "<html>\\(\\displaystyle -\\frac{3}{4} \\, r + 1\\)</html>"
      ],
      "text/latex": [
       "$\\displaystyle -\\frac{3}{4} \\, r + 1$"
      ],
      "text/plain": [
       "-3/4*r + 1"
      ]
     },
     "metadata": {},
     "output_type": "display_data"
    },
    {
     "data": {
      "text/html": [
       "<html>\\(\\displaystyle \\frac{1}{4} \\, r\\)</html>"
      ],
      "text/latex": [
       "$\\displaystyle \\frac{1}{4} \\, r$"
      ],
      "text/plain": [
       "1/4*r"
      ]
     },
     "metadata": {},
     "output_type": "display_data"
    },
    {
     "data": {
      "text/html": [
       "<html>\\(\\displaystyle \\frac{1}{4} \\, r\\)</html>"
      ],
      "text/latex": [
       "$\\displaystyle \\frac{1}{4} \\, r$"
      ],
      "text/plain": [
       "1/4*r"
      ]
     },
     "metadata": {},
     "output_type": "display_data"
    }
   ],
   "source": [
    "for i in range(3):\n",
    "    for j in range(i+1,3):\n",
    "        display(secc_curv(hh,metric, on_basis, i, j).factor())"
   ]
  },
  {
   "cell_type": "markdown",
   "id": "9d5d34ee-d139-4f11-8105-ae398634c826",
   "metadata": {},
   "source": [
    "Si $r < \\frac43$ se tiene que $\\kappa > 0$ (hay que probarlo!!!)"
   ]
  }
 ],
 "metadata": {
  "kernelspec": {
   "display_name": "SageMath 10.4",
   "language": "sage",
   "name": "sagemath"
  },
  "language_info": {
   "codemirror_mode": {
    "name": "ipython",
    "version": 3
   },
   "file_extension": ".py",
   "mimetype": "text/x-python",
   "name": "python",
   "nbconvert_exporter": "python",
   "pygments_lexer": "ipython3",
   "version": "3.12.5"
  }
 },
 "nbformat": 4,
 "nbformat_minor": 5
}
