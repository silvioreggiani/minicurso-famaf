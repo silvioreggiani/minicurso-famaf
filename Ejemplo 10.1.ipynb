{
 "cells": [
  {
   "cell_type": "code",
   "execution_count": 1,
   "id": "93e04071-04a5-4c14-8ae6-e5d085db3126",
   "metadata": {},
   "outputs": [],
   "source": [
    "%display latex"
   ]
  },
  {
   "cell_type": "markdown",
   "id": "226d2199-fffe-4abc-b224-2f13baca0a0b",
   "metadata": {},
   "source": [
    "## El espacio euclideo $\\mathbb R^3$"
   ]
  },
  {
   "cell_type": "code",
   "execution_count": 2,
   "id": "c05cd006-674b-417d-9d58-f230d6e0df35",
   "metadata": {},
   "outputs": [
    {
     "data": {
      "text/html": [
       "<html>\\(\\displaystyle \\mathbb R^3\\)</html>"
      ],
      "text/latex": [
       "$\\displaystyle \\mathbb R^3$"
      ],
      "text/plain": [
       "3-dimensional Riemannian manifold \\mathbb R^3"
      ]
     },
     "execution_count": 2,
     "metadata": {},
     "output_type": "execute_result"
    }
   ],
   "source": [
    "# Variedad difernciable\n",
    "R3 = Manifold(3, r'\\mathbb R^3', structure='Riemannian')\n",
    "R3"
   ]
  },
  {
   "cell_type": "code",
   "execution_count": 3,
   "id": "8d9e99e8-c88d-423f-8173-1f263185f1f5",
   "metadata": {},
   "outputs": [],
   "source": [
    "# Carta coordenada global\n",
    "X.<x1,x2,x3> = R3.chart(r'x1 x2 x3')"
   ]
  },
  {
   "cell_type": "code",
   "execution_count": 4,
   "id": "46503a9a-e619-4919-97e1-7ecb81bd379d",
   "metadata": {},
   "outputs": [
    {
     "data": {
      "text/html": [
       "<html>\\(\\displaystyle g = \\mathrm{d} x_{1}\\otimes \\mathrm{d} x_{1}+\\mathrm{d} x_{2}\\otimes \\mathrm{d} x_{2}+\\mathrm{d} x_{3}\\otimes \\mathrm{d} x_{3}\\)</html>"
      ],
      "text/latex": [
       "$\\displaystyle g = \\mathrm{d} x_{1}\\otimes \\mathrm{d} x_{1}+\\mathrm{d} x_{2}\\otimes \\mathrm{d} x_{2}+\\mathrm{d} x_{3}\\otimes \\mathrm{d} x_{3}$"
      ],
      "text/plain": [
       "g = dx1⊗dx1 + dx2⊗dx2 + dx3⊗dx3"
      ]
     },
     "execution_count": 4,
     "metadata": {},
     "output_type": "execute_result"
    }
   ],
   "source": [
    "# Definimos el tensor métrico\n",
    "g = R3.metric()\n",
    "g[0, 0], g[1, 1], g[2, 2] = 1, 1, 1\n",
    "g.display()"
   ]
  },
  {
   "cell_type": "code",
   "execution_count": 5,
   "id": "9379632d-cb8d-4147-b8e9-145700674390",
   "metadata": {},
   "outputs": [
    {
     "data": {
      "text/html": [
       "<html>\\(\\displaystyle \\nabla_{g}\\)</html>"
      ],
      "text/latex": [
       "$\\displaystyle \\nabla_{g}$"
      ],
      "text/plain": [
       "Levi-Civita connection nabla_g associated with the Riemannian metric g on the 3-dimensional Riemannian manifold \\mathbb R^3"
      ]
     },
     "execution_count": 5,
     "metadata": {},
     "output_type": "execute_result"
    }
   ],
   "source": [
    "# Conexión de Levi-Civita\n",
    "nabla = g.connection()\n",
    "nabla"
   ]
  },
  {
   "cell_type": "code",
   "execution_count": 6,
   "id": "06214299-27f9-4bf3-a5ae-241a675cf5e1",
   "metadata": {},
   "outputs": [
    {
     "data": {
      "text/html": [
       "<html>\\(\\displaystyle \\begin{array}{lcl} \\Gamma_{ \\phantom{\\, x_{1}} \\, x_{1} \\, x_{1} }^{ \\, x_{1} \\phantom{\\, x_{1}} \\phantom{\\, x_{1}} } & = & 0 \\\\ \\Gamma_{ \\phantom{\\, x_{1}} \\, x_{1} \\, x_{2} }^{ \\, x_{1} \\phantom{\\, x_{1}} \\phantom{\\, x_{2}} } & = & 0 \\\\ \\Gamma_{ \\phantom{\\, x_{1}} \\, x_{1} \\, x_{3} }^{ \\, x_{1} \\phantom{\\, x_{1}} \\phantom{\\, x_{3}} } & = & 0 \\\\ \\Gamma_{ \\phantom{\\, x_{1}} \\, x_{2} \\, x_{1} }^{ \\, x_{1} \\phantom{\\, x_{2}} \\phantom{\\, x_{1}} } & = & 0 \\\\ \\Gamma_{ \\phantom{\\, x_{1}} \\, x_{2} \\, x_{2} }^{ \\, x_{1} \\phantom{\\, x_{2}} \\phantom{\\, x_{2}} } & = & 0 \\\\ \\Gamma_{ \\phantom{\\, x_{1}} \\, x_{2} \\, x_{3} }^{ \\, x_{1} \\phantom{\\, x_{2}} \\phantom{\\, x_{3}} } & = & 0 \\\\ \\Gamma_{ \\phantom{\\, x_{1}} \\, x_{3} \\, x_{1} }^{ \\, x_{1} \\phantom{\\, x_{3}} \\phantom{\\, x_{1}} } & = & 0 \\\\ \\Gamma_{ \\phantom{\\, x_{1}} \\, x_{3} \\, x_{2} }^{ \\, x_{1} \\phantom{\\, x_{3}} \\phantom{\\, x_{2}} } & = & 0 \\\\ \\Gamma_{ \\phantom{\\, x_{1}} \\, x_{3} \\, x_{3} }^{ \\, x_{1} \\phantom{\\, x_{3}} \\phantom{\\, x_{3}} } & = & 0 \\\\ \\Gamma_{ \\phantom{\\, x_{2}} \\, x_{1} \\, x_{1} }^{ \\, x_{2} \\phantom{\\, x_{1}} \\phantom{\\, x_{1}} } & = & 0 \\\\ \\Gamma_{ \\phantom{\\, x_{2}} \\, x_{1} \\, x_{2} }^{ \\, x_{2} \\phantom{\\, x_{1}} \\phantom{\\, x_{2}} } & = & 0 \\\\ \\Gamma_{ \\phantom{\\, x_{2}} \\, x_{1} \\, x_{3} }^{ \\, x_{2} \\phantom{\\, x_{1}} \\phantom{\\, x_{3}} } & = & 0 \\\\ \\Gamma_{ \\phantom{\\, x_{2}} \\, x_{2} \\, x_{1} }^{ \\, x_{2} \\phantom{\\, x_{2}} \\phantom{\\, x_{1}} } & = & 0 \\\\ \\Gamma_{ \\phantom{\\, x_{2}} \\, x_{2} \\, x_{2} }^{ \\, x_{2} \\phantom{\\, x_{2}} \\phantom{\\, x_{2}} } & = & 0 \\\\ \\Gamma_{ \\phantom{\\, x_{2}} \\, x_{2} \\, x_{3} }^{ \\, x_{2} \\phantom{\\, x_{2}} \\phantom{\\, x_{3}} } & = & 0 \\\\ \\Gamma_{ \\phantom{\\, x_{2}} \\, x_{3} \\, x_{1} }^{ \\, x_{2} \\phantom{\\, x_{3}} \\phantom{\\, x_{1}} } & = & 0 \\\\ \\Gamma_{ \\phantom{\\, x_{2}} \\, x_{3} \\, x_{2} }^{ \\, x_{2} \\phantom{\\, x_{3}} \\phantom{\\, x_{2}} } & = & 0 \\\\ \\Gamma_{ \\phantom{\\, x_{2}} \\, x_{3} \\, x_{3} }^{ \\, x_{2} \\phantom{\\, x_{3}} \\phantom{\\, x_{3}} } & = & 0 \\\\ \\Gamma_{ \\phantom{\\, x_{3}} \\, x_{1} \\, x_{1} }^{ \\, x_{3} \\phantom{\\, x_{1}} \\phantom{\\, x_{1}} } & = & 0 \\\\ \\Gamma_{ \\phantom{\\, x_{3}} \\, x_{1} \\, x_{2} }^{ \\, x_{3} \\phantom{\\, x_{1}} \\phantom{\\, x_{2}} } & = & 0 \\\\ \\Gamma_{ \\phantom{\\, x_{3}} \\, x_{1} \\, x_{3} }^{ \\, x_{3} \\phantom{\\, x_{1}} \\phantom{\\, x_{3}} } & = & 0 \\\\ \\Gamma_{ \\phantom{\\, x_{3}} \\, x_{2} \\, x_{1} }^{ \\, x_{3} \\phantom{\\, x_{2}} \\phantom{\\, x_{1}} } & = & 0 \\\\ \\Gamma_{ \\phantom{\\, x_{3}} \\, x_{2} \\, x_{2} }^{ \\, x_{3} \\phantom{\\, x_{2}} \\phantom{\\, x_{2}} } & = & 0 \\\\ \\Gamma_{ \\phantom{\\, x_{3}} \\, x_{2} \\, x_{3} }^{ \\, x_{3} \\phantom{\\, x_{2}} \\phantom{\\, x_{3}} } & = & 0 \\\\ \\Gamma_{ \\phantom{\\, x_{3}} \\, x_{3} \\, x_{1} }^{ \\, x_{3} \\phantom{\\, x_{3}} \\phantom{\\, x_{1}} } & = & 0 \\\\ \\Gamma_{ \\phantom{\\, x_{3}} \\, x_{3} \\, x_{2} }^{ \\, x_{3} \\phantom{\\, x_{3}} \\phantom{\\, x_{2}} } & = & 0 \\\\ \\Gamma_{ \\phantom{\\, x_{3}} \\, x_{3} \\, x_{3} }^{ \\, x_{3} \\phantom{\\, x_{3}} \\phantom{\\, x_{3}} } & = & 0 \\end{array}\\)</html>"
      ],
      "text/latex": [
       "$\\displaystyle \\begin{array}{lcl} \\Gamma_{ \\phantom{\\, x_{1}} \\, x_{1} \\, x_{1} }^{ \\, x_{1} \\phantom{\\, x_{1}} \\phantom{\\, x_{1}} } & = & 0 \\\\ \\Gamma_{ \\phantom{\\, x_{1}} \\, x_{1} \\, x_{2} }^{ \\, x_{1} \\phantom{\\, x_{1}} \\phantom{\\, x_{2}} } & = & 0 \\\\ \\Gamma_{ \\phantom{\\, x_{1}} \\, x_{1} \\, x_{3} }^{ \\, x_{1} \\phantom{\\, x_{1}} \\phantom{\\, x_{3}} } & = & 0 \\\\ \\Gamma_{ \\phantom{\\, x_{1}} \\, x_{2} \\, x_{1} }^{ \\, x_{1} \\phantom{\\, x_{2}} \\phantom{\\, x_{1}} } & = & 0 \\\\ \\Gamma_{ \\phantom{\\, x_{1}} \\, x_{2} \\, x_{2} }^{ \\, x_{1} \\phantom{\\, x_{2}} \\phantom{\\, x_{2}} } & = & 0 \\\\ \\Gamma_{ \\phantom{\\, x_{1}} \\, x_{2} \\, x_{3} }^{ \\, x_{1} \\phantom{\\, x_{2}} \\phantom{\\, x_{3}} } & = & 0 \\\\ \\Gamma_{ \\phantom{\\, x_{1}} \\, x_{3} \\, x_{1} }^{ \\, x_{1} \\phantom{\\, x_{3}} \\phantom{\\, x_{1}} } & = & 0 \\\\ \\Gamma_{ \\phantom{\\, x_{1}} \\, x_{3} \\, x_{2} }^{ \\, x_{1} \\phantom{\\, x_{3}} \\phantom{\\, x_{2}} } & = & 0 \\\\ \\Gamma_{ \\phantom{\\, x_{1}} \\, x_{3} \\, x_{3} }^{ \\, x_{1} \\phantom{\\, x_{3}} \\phantom{\\, x_{3}} } & = & 0 \\\\ \\Gamma_{ \\phantom{\\, x_{2}} \\, x_{1} \\, x_{1} }^{ \\, x_{2} \\phantom{\\, x_{1}} \\phantom{\\, x_{1}} } & = & 0 \\\\ \\Gamma_{ \\phantom{\\, x_{2}} \\, x_{1} \\, x_{2} }^{ \\, x_{2} \\phantom{\\, x_{1}} \\phantom{\\, x_{2}} } & = & 0 \\\\ \\Gamma_{ \\phantom{\\, x_{2}} \\, x_{1} \\, x_{3} }^{ \\, x_{2} \\phantom{\\, x_{1}} \\phantom{\\, x_{3}} } & = & 0 \\\\ \\Gamma_{ \\phantom{\\, x_{2}} \\, x_{2} \\, x_{1} }^{ \\, x_{2} \\phantom{\\, x_{2}} \\phantom{\\, x_{1}} } & = & 0 \\\\ \\Gamma_{ \\phantom{\\, x_{2}} \\, x_{2} \\, x_{2} }^{ \\, x_{2} \\phantom{\\, x_{2}} \\phantom{\\, x_{2}} } & = & 0 \\\\ \\Gamma_{ \\phantom{\\, x_{2}} \\, x_{2} \\, x_{3} }^{ \\, x_{2} \\phantom{\\, x_{2}} \\phantom{\\, x_{3}} } & = & 0 \\\\ \\Gamma_{ \\phantom{\\, x_{2}} \\, x_{3} \\, x_{1} }^{ \\, x_{2} \\phantom{\\, x_{3}} \\phantom{\\, x_{1}} } & = & 0 \\\\ \\Gamma_{ \\phantom{\\, x_{2}} \\, x_{3} \\, x_{2} }^{ \\, x_{2} \\phantom{\\, x_{3}} \\phantom{\\, x_{2}} } & = & 0 \\\\ \\Gamma_{ \\phantom{\\, x_{2}} \\, x_{3} \\, x_{3} }^{ \\, x_{2} \\phantom{\\, x_{3}} \\phantom{\\, x_{3}} } & = & 0 \\\\ \\Gamma_{ \\phantom{\\, x_{3}} \\, x_{1} \\, x_{1} }^{ \\, x_{3} \\phantom{\\, x_{1}} \\phantom{\\, x_{1}} } & = & 0 \\\\ \\Gamma_{ \\phantom{\\, x_{3}} \\, x_{1} \\, x_{2} }^{ \\, x_{3} \\phantom{\\, x_{1}} \\phantom{\\, x_{2}} } & = & 0 \\\\ \\Gamma_{ \\phantom{\\, x_{3}} \\, x_{1} \\, x_{3} }^{ \\, x_{3} \\phantom{\\, x_{1}} \\phantom{\\, x_{3}} } & = & 0 \\\\ \\Gamma_{ \\phantom{\\, x_{3}} \\, x_{2} \\, x_{1} }^{ \\, x_{3} \\phantom{\\, x_{2}} \\phantom{\\, x_{1}} } & = & 0 \\\\ \\Gamma_{ \\phantom{\\, x_{3}} \\, x_{2} \\, x_{2} }^{ \\, x_{3} \\phantom{\\, x_{2}} \\phantom{\\, x_{2}} } & = & 0 \\\\ \\Gamma_{ \\phantom{\\, x_{3}} \\, x_{2} \\, x_{3} }^{ \\, x_{3} \\phantom{\\, x_{2}} \\phantom{\\, x_{3}} } & = & 0 \\\\ \\Gamma_{ \\phantom{\\, x_{3}} \\, x_{3} \\, x_{1} }^{ \\, x_{3} \\phantom{\\, x_{3}} \\phantom{\\, x_{1}} } & = & 0 \\\\ \\Gamma_{ \\phantom{\\, x_{3}} \\, x_{3} \\, x_{2} }^{ \\, x_{3} \\phantom{\\, x_{3}} \\phantom{\\, x_{2}} } & = & 0 \\\\ \\Gamma_{ \\phantom{\\, x_{3}} \\, x_{3} \\, x_{3} }^{ \\, x_{3} \\phantom{\\, x_{3}} \\phantom{\\, x_{3}} } & = & 0 \\end{array}$"
      ],
      "text/plain": [
       "Gam^x1_x1,x1 = 0 \n",
       "Gam^x1_x1,x2 = 0 \n",
       "Gam^x1_x1,x3 = 0 \n",
       "Gam^x1_x2,x1 = 0 \n",
       "Gam^x1_x2,x2 = 0 \n",
       "Gam^x1_x2,x3 = 0 \n",
       "Gam^x1_x3,x1 = 0 \n",
       "Gam^x1_x3,x2 = 0 \n",
       "Gam^x1_x3,x3 = 0 \n",
       "Gam^x2_x1,x1 = 0 \n",
       "Gam^x2_x1,x2 = 0 \n",
       "Gam^x2_x1,x3 = 0 \n",
       "Gam^x2_x2,x1 = 0 \n",
       "Gam^x2_x2,x2 = 0 \n",
       "Gam^x2_x2,x3 = 0 \n",
       "Gam^x2_x3,x1 = 0 \n",
       "Gam^x2_x3,x2 = 0 \n",
       "Gam^x2_x3,x3 = 0 \n",
       "Gam^x3_x1,x1 = 0 \n",
       "Gam^x3_x1,x2 = 0 \n",
       "Gam^x3_x1,x3 = 0 \n",
       "Gam^x3_x2,x1 = 0 \n",
       "Gam^x3_x2,x2 = 0 \n",
       "Gam^x3_x2,x3 = 0 \n",
       "Gam^x3_x3,x1 = 0 \n",
       "Gam^x3_x3,x2 = 0 \n",
       "Gam^x3_x3,x3 = 0 "
      ]
     },
     "execution_count": 6,
     "metadata": {},
     "output_type": "execute_result"
    }
   ],
   "source": [
    "# Símbolos de Christoffel\n",
    "#nabla.display()\n",
    "nabla.display(only_nonzero=False)"
   ]
  },
  {
   "cell_type": "code",
   "execution_count": 7,
   "id": "0fbe7003-d564-4e93-b7d5-ced233821327",
   "metadata": {},
   "outputs": [
    {
     "data": {
      "text/html": [
       "<html>\\(\\displaystyle \\mathrm{Riem}\\left(g\\right) = 0\\)</html>"
      ],
      "text/latex": [
       "$\\displaystyle \\mathrm{Riem}\\left(g\\right) = 0$"
      ],
      "text/plain": [
       "Riem(g) = 0"
      ]
     },
     "execution_count": 7,
     "metadata": {},
     "output_type": "execute_result"
    }
   ],
   "source": [
    "# Tensor de curvatura\n",
    "Riem = nabla.riemann()\n",
    "Riem.display()"
   ]
  },
  {
   "cell_type": "markdown",
   "id": "2f202471-04f8-478e-b951-4349f1d233ce",
   "metadata": {},
   "source": [
    "## El espacio hiperbólico $H^3$"
   ]
  },
  {
   "cell_type": "code",
   "execution_count": 8,
   "id": "8cb86be8-086b-4bde-84a1-baceffcbea9b",
   "metadata": {},
   "outputs": [],
   "source": [
    "H3 = Manifold(3, r'\\mathbb H^3', structure='Riemannian')"
   ]
  },
  {
   "cell_type": "code",
   "execution_count": 9,
   "id": "c2e3b378-8b68-433e-b6d8-2aa8ddcc3d70",
   "metadata": {},
   "outputs": [
    {
     "data": {
      "text/html": [
       "<html>\\(\\displaystyle \\left(\\mathbb H^3,(x_{1}, x_{2}, x_{3})\\right)\\)</html>"
      ],
      "text/latex": [
       "$\\displaystyle \\left(\\mathbb H^3,(x_{1}, x_{2}, x_{3})\\right)$"
      ],
      "text/plain": [
       "Chart (\\mathbb H^3, (x1, x2, x3))"
      ]
     },
     "metadata": {},
     "output_type": "display_data"
    },
    {
     "data": {
      "text/html": [
       "<html>\\(\\displaystyle x_{1} :\\ \\left( -\\infty, +\\infty \\right) ;\\quad x_{2} :\\ \\left( -\\infty, +\\infty \\right) ;\\quad x_{3} :\\ \\left( 0 , +\\infty \\right)\\)</html>"
      ],
      "text/latex": [
       "$\\displaystyle x_{1} :\\ \\left( -\\infty, +\\infty \\right) ;\\quad x_{2} :\\ \\left( -\\infty, +\\infty \\right) ;\\quad x_{3} :\\ \\left( 0 , +\\infty \\right)$"
      ],
      "text/plain": [
       "x1: (-oo, +oo); x2: (-oo, +oo); x3: (0, +oo)"
      ]
     },
     "execution_count": 9,
     "metadata": {},
     "output_type": "execute_result"
    }
   ],
   "source": [
    "X.<x1,x2,x3> = H3.chart(r'x1 x2 x3:(0,+oo)')\n",
    "display(X)\n",
    "X.coord_range()"
   ]
  },
  {
   "cell_type": "code",
   "execution_count": 10,
   "id": "82620b1b-8436-4f36-b036-ec88396ab911",
   "metadata": {},
   "outputs": [
    {
     "data": {
      "text/html": [
       "<html>\\(\\displaystyle g = \\frac{1}{x_{3}^{2}} \\mathrm{d} x_{1}\\otimes \\mathrm{d} x_{1} + \\frac{1}{x_{3}^{2}} \\mathrm{d} x_{2}\\otimes \\mathrm{d} x_{2} + \\frac{1}{x_{3}^{2}} \\mathrm{d} x_{3}\\otimes \\mathrm{d} x_{3}\\)</html>"
      ],
      "text/latex": [
       "$\\displaystyle g = \\frac{1}{x_{3}^{2}} \\mathrm{d} x_{1}\\otimes \\mathrm{d} x_{1} + \\frac{1}{x_{3}^{2}} \\mathrm{d} x_{2}\\otimes \\mathrm{d} x_{2} + \\frac{1}{x_{3}^{2}} \\mathrm{d} x_{3}\\otimes \\mathrm{d} x_{3}$"
      ],
      "text/plain": [
       "g = x3^(-2) dx1⊗dx1 + x3^(-2) dx2⊗dx2 + x3^(-2) dx3⊗dx3"
      ]
     },
     "execution_count": 10,
     "metadata": {},
     "output_type": "execute_result"
    }
   ],
   "source": [
    "g = H3.metric()\n",
    "g[0, 0], g[1, 1], g[2, 2] = 1/x3^2, 1/x3^2, 1/x3^2\n",
    "g.display()"
   ]
  },
  {
   "cell_type": "code",
   "execution_count": 11,
   "id": "9cb34556-b470-4535-8f83-2ced70b4733d",
   "metadata": {},
   "outputs": [
    {
     "data": {
      "text/html": [
       "<html>\\(\\displaystyle \\nabla_{g}\\)</html>"
      ],
      "text/latex": [
       "$\\displaystyle \\nabla_{g}$"
      ],
      "text/plain": [
       "Levi-Civita connection nabla_g associated with the Riemannian metric g on the 3-dimensional Riemannian manifold \\mathbb H^3"
      ]
     },
     "execution_count": 11,
     "metadata": {},
     "output_type": "execute_result"
    }
   ],
   "source": [
    "nabla = g.connection()\n",
    "nabla"
   ]
  },
  {
   "cell_type": "code",
   "execution_count": 12,
   "id": "42888ff1-bb4d-47df-9e10-26f27472fcd8",
   "metadata": {},
   "outputs": [
    {
     "data": {
      "text/html": [
       "<html>\\(\\displaystyle \\begin{array}{lcl} \\Gamma_{ \\phantom{\\, x_{1}} \\, x_{1} \\, x_{3} }^{ \\, x_{1} \\phantom{\\, x_{1}} \\phantom{\\, x_{3}} } & = & -\\frac{1}{x_{3}} \\\\ \\Gamma_{ \\phantom{\\, x_{1}} \\, x_{3} \\, x_{1} }^{ \\, x_{1} \\phantom{\\, x_{3}} \\phantom{\\, x_{1}} } & = & -\\frac{1}{x_{3}} \\\\ \\Gamma_{ \\phantom{\\, x_{2}} \\, x_{2} \\, x_{3} }^{ \\, x_{2} \\phantom{\\, x_{2}} \\phantom{\\, x_{3}} } & = & -\\frac{1}{x_{3}} \\\\ \\Gamma_{ \\phantom{\\, x_{2}} \\, x_{3} \\, x_{2} }^{ \\, x_{2} \\phantom{\\, x_{3}} \\phantom{\\, x_{2}} } & = & -\\frac{1}{x_{3}} \\\\ \\Gamma_{ \\phantom{\\, x_{3}} \\, x_{1} \\, x_{1} }^{ \\, x_{3} \\phantom{\\, x_{1}} \\phantom{\\, x_{1}} } & = & \\frac{1}{x_{3}} \\\\ \\Gamma_{ \\phantom{\\, x_{3}} \\, x_{2} \\, x_{2} }^{ \\, x_{3} \\phantom{\\, x_{2}} \\phantom{\\, x_{2}} } & = & \\frac{1}{x_{3}} \\\\ \\Gamma_{ \\phantom{\\, x_{3}} \\, x_{3} \\, x_{3} }^{ \\, x_{3} \\phantom{\\, x_{3}} \\phantom{\\, x_{3}} } & = & -\\frac{1}{x_{3}} \\end{array}\\)</html>"
      ],
      "text/latex": [
       "$\\displaystyle \\begin{array}{lcl} \\Gamma_{ \\phantom{\\, x_{1}} \\, x_{1} \\, x_{3} }^{ \\, x_{1} \\phantom{\\, x_{1}} \\phantom{\\, x_{3}} } & = & -\\frac{1}{x_{3}} \\\\ \\Gamma_{ \\phantom{\\, x_{1}} \\, x_{3} \\, x_{1} }^{ \\, x_{1} \\phantom{\\, x_{3}} \\phantom{\\, x_{1}} } & = & -\\frac{1}{x_{3}} \\\\ \\Gamma_{ \\phantom{\\, x_{2}} \\, x_{2} \\, x_{3} }^{ \\, x_{2} \\phantom{\\, x_{2}} \\phantom{\\, x_{3}} } & = & -\\frac{1}{x_{3}} \\\\ \\Gamma_{ \\phantom{\\, x_{2}} \\, x_{3} \\, x_{2} }^{ \\, x_{2} \\phantom{\\, x_{3}} \\phantom{\\, x_{2}} } & = & -\\frac{1}{x_{3}} \\\\ \\Gamma_{ \\phantom{\\, x_{3}} \\, x_{1} \\, x_{1} }^{ \\, x_{3} \\phantom{\\, x_{1}} \\phantom{\\, x_{1}} } & = & \\frac{1}{x_{3}} \\\\ \\Gamma_{ \\phantom{\\, x_{3}} \\, x_{2} \\, x_{2} }^{ \\, x_{3} \\phantom{\\, x_{2}} \\phantom{\\, x_{2}} } & = & \\frac{1}{x_{3}} \\\\ \\Gamma_{ \\phantom{\\, x_{3}} \\, x_{3} \\, x_{3} }^{ \\, x_{3} \\phantom{\\, x_{3}} \\phantom{\\, x_{3}} } & = & -\\frac{1}{x_{3}} \\end{array}$"
      ],
      "text/plain": [
       "Gam^x1_x1,x3 = -1/x3 \n",
       "Gam^x1_x3,x1 = -1/x3 \n",
       "Gam^x2_x2,x3 = -1/x3 \n",
       "Gam^x2_x3,x2 = -1/x3 \n",
       "Gam^x3_x1,x1 = 1/x3 \n",
       "Gam^x3_x2,x2 = 1/x3 \n",
       "Gam^x3_x3,x3 = -1/x3 "
      ]
     },
     "execution_count": 12,
     "metadata": {},
     "output_type": "execute_result"
    }
   ],
   "source": [
    "nabla.display()\n",
    "#nabla.display(only_nonzero=False)"
   ]
  },
  {
   "cell_type": "code",
   "execution_count": 13,
   "id": "c8185217-be24-403e-8494-72346a3871ec",
   "metadata": {},
   "outputs": [
    {
     "data": {
      "text/html": [
       "<html>\\(\\displaystyle \\mathrm{Riem}\\left(g\\right) = -\\frac{1}{x_{3}^{2}} \\frac{\\partial}{\\partial x_{1} }\\otimes \\mathrm{d} x_{2}\\otimes \\mathrm{d} x_{1}\\otimes \\mathrm{d} x_{2} + \\frac{1}{x_{3}^{2}} \\frac{\\partial}{\\partial x_{1} }\\otimes \\mathrm{d} x_{2}\\otimes \\mathrm{d} x_{2}\\otimes \\mathrm{d} x_{1} -\\frac{1}{x_{3}^{2}} \\frac{\\partial}{\\partial x_{1} }\\otimes \\mathrm{d} x_{3}\\otimes \\mathrm{d} x_{1}\\otimes \\mathrm{d} x_{3} + \\frac{1}{x_{3}^{2}} \\frac{\\partial}{\\partial x_{1} }\\otimes \\mathrm{d} x_{3}\\otimes \\mathrm{d} x_{3}\\otimes \\mathrm{d} x_{1} + \\frac{1}{x_{3}^{2}} \\frac{\\partial}{\\partial x_{2} }\\otimes \\mathrm{d} x_{1}\\otimes \\mathrm{d} x_{1}\\otimes \\mathrm{d} x_{2} -\\frac{1}{x_{3}^{2}} \\frac{\\partial}{\\partial x_{2} }\\otimes \\mathrm{d} x_{1}\\otimes \\mathrm{d} x_{2}\\otimes \\mathrm{d} x_{1} -\\frac{1}{x_{3}^{2}} \\frac{\\partial}{\\partial x_{2} }\\otimes \\mathrm{d} x_{3}\\otimes \\mathrm{d} x_{2}\\otimes \\mathrm{d} x_{3} + \\frac{1}{x_{3}^{2}} \\frac{\\partial}{\\partial x_{2} }\\otimes \\mathrm{d} x_{3}\\otimes \\mathrm{d} x_{3}\\otimes \\mathrm{d} x_{2} + \\frac{1}{x_{3}^{2}} \\frac{\\partial}{\\partial x_{3} }\\otimes \\mathrm{d} x_{1}\\otimes \\mathrm{d} x_{1}\\otimes \\mathrm{d} x_{3} -\\frac{1}{x_{3}^{2}} \\frac{\\partial}{\\partial x_{3} }\\otimes \\mathrm{d} x_{1}\\otimes \\mathrm{d} x_{3}\\otimes \\mathrm{d} x_{1} + \\frac{1}{x_{3}^{2}} \\frac{\\partial}{\\partial x_{3} }\\otimes \\mathrm{d} x_{2}\\otimes \\mathrm{d} x_{2}\\otimes \\mathrm{d} x_{3} -\\frac{1}{x_{3}^{2}} \\frac{\\partial}{\\partial x_{3} }\\otimes \\mathrm{d} x_{2}\\otimes \\mathrm{d} x_{3}\\otimes \\mathrm{d} x_{2}\\)</html>"
      ],
      "text/latex": [
       "$\\displaystyle \\mathrm{Riem}\\left(g\\right) = -\\frac{1}{x_{3}^{2}} \\frac{\\partial}{\\partial x_{1} }\\otimes \\mathrm{d} x_{2}\\otimes \\mathrm{d} x_{1}\\otimes \\mathrm{d} x_{2} + \\frac{1}{x_{3}^{2}} \\frac{\\partial}{\\partial x_{1} }\\otimes \\mathrm{d} x_{2}\\otimes \\mathrm{d} x_{2}\\otimes \\mathrm{d} x_{1} -\\frac{1}{x_{3}^{2}} \\frac{\\partial}{\\partial x_{1} }\\otimes \\mathrm{d} x_{3}\\otimes \\mathrm{d} x_{1}\\otimes \\mathrm{d} x_{3} + \\frac{1}{x_{3}^{2}} \\frac{\\partial}{\\partial x_{1} }\\otimes \\mathrm{d} x_{3}\\otimes \\mathrm{d} x_{3}\\otimes \\mathrm{d} x_{1} + \\frac{1}{x_{3}^{2}} \\frac{\\partial}{\\partial x_{2} }\\otimes \\mathrm{d} x_{1}\\otimes \\mathrm{d} x_{1}\\otimes \\mathrm{d} x_{2} -\\frac{1}{x_{3}^{2}} \\frac{\\partial}{\\partial x_{2} }\\otimes \\mathrm{d} x_{1}\\otimes \\mathrm{d} x_{2}\\otimes \\mathrm{d} x_{1} -\\frac{1}{x_{3}^{2}} \\frac{\\partial}{\\partial x_{2} }\\otimes \\mathrm{d} x_{3}\\otimes \\mathrm{d} x_{2}\\otimes \\mathrm{d} x_{3} + \\frac{1}{x_{3}^{2}} \\frac{\\partial}{\\partial x_{2} }\\otimes \\mathrm{d} x_{3}\\otimes \\mathrm{d} x_{3}\\otimes \\mathrm{d} x_{2} + \\frac{1}{x_{3}^{2}} \\frac{\\partial}{\\partial x_{3} }\\otimes \\mathrm{d} x_{1}\\otimes \\mathrm{d} x_{1}\\otimes \\mathrm{d} x_{3} -\\frac{1}{x_{3}^{2}} \\frac{\\partial}{\\partial x_{3} }\\otimes \\mathrm{d} x_{1}\\otimes \\mathrm{d} x_{3}\\otimes \\mathrm{d} x_{1} + \\frac{1}{x_{3}^{2}} \\frac{\\partial}{\\partial x_{3} }\\otimes \\mathrm{d} x_{2}\\otimes \\mathrm{d} x_{2}\\otimes \\mathrm{d} x_{3} -\\frac{1}{x_{3}^{2}} \\frac{\\partial}{\\partial x_{3} }\\otimes \\mathrm{d} x_{2}\\otimes \\mathrm{d} x_{3}\\otimes \\mathrm{d} x_{2}$"
      ],
      "text/plain": [
       "Riem(g) = -1/x3^2 ∂/∂x1⊗dx2⊗dx1⊗dx2 + x3^(-2) ∂/∂x1⊗dx2⊗dx2⊗dx1 - 1/x3^2 ∂/∂x1⊗dx3⊗dx1⊗dx3 + x3^(-2) ∂/∂x1⊗dx3⊗dx3⊗dx1 + x3^(-2) ∂/∂x2⊗dx1⊗dx1⊗dx2 - 1/x3^2 ∂/∂x2⊗dx1⊗dx2⊗dx1 - 1/x3^2 ∂/∂x2⊗dx3⊗dx2⊗dx3 + x3^(-2) ∂/∂x2⊗dx3⊗dx3⊗dx2 + x3^(-2) ∂/∂x3⊗dx1⊗dx1⊗dx3 - 1/x3^2 ∂/∂x3⊗dx1⊗dx3⊗dx1 + x3^(-2) ∂/∂x3⊗dx2⊗dx2⊗dx3 - 1/x3^2 ∂/∂x3⊗dx2⊗dx3⊗dx2"
      ]
     },
     "execution_count": 13,
     "metadata": {},
     "output_type": "execute_result"
    }
   ],
   "source": [
    "Riem = nabla.riemann()\n",
    "Riem.display()"
   ]
  },
  {
   "cell_type": "markdown",
   "id": "7a4be3d8-e4b2-4721-bc16-fc56b580a83d",
   "metadata": {},
   "source": [
    "Para calcular la curvatura seccional podemos usar la siguiente fórmula: si $\\mathbb V \\subset T_pM$ es un plano y $u, v$ es una vase de $\\mathbb V$ (no necesariamente ortonormal), entonces\n",
    "$$\n",
    "\\kappa(\\mathbb V) =  \\frac{\\kappa(u, v)}{\\langle u, u\\rangle \\langle v, v\\rangle - \\langle u, v\\rangle^2} =  \\frac{\\langle R_{u, v}v, u\\rangle}{\\langle u, u\\rangle \\langle v, v\\rangle - \\langle u, v\\rangle^2}\n",
    "$$"
   ]
  },
  {
   "cell_type": "markdown",
   "id": "0bff9820-1653-4caa-9928-2927d2736be6",
   "metadata": {},
   "source": [
    "Definimos dos campos linealmente independientes"
   ]
  },
  {
   "cell_type": "code",
   "execution_count": 14,
   "id": "2c5147ee-e5ab-40db-837c-29b5a4050943",
   "metadata": {},
   "outputs": [
    {
     "data": {
      "text/html": [
       "<html>\\(\\displaystyle \\left(\\frac{\\partial}{\\partial x_{1} }, \\frac{\\partial}{\\partial x_{2} }, \\frac{\\partial}{\\partial x_{3} }\\right)\\)</html>"
      ],
      "text/latex": [
       "$\\displaystyle \\left(\\frac{\\partial}{\\partial x_{1} }, \\frac{\\partial}{\\partial x_{2} }, \\frac{\\partial}{\\partial x_{3} }\\right)$"
      ],
      "text/plain": [
       "(Vector field ∂/∂x1 on the 3-dimensional Riemannian manifold \\mathbb H^3,\n",
       " Vector field ∂/∂x2 on the 3-dimensional Riemannian manifold \\mathbb H^3,\n",
       " Vector field ∂/∂x3 on the 3-dimensional Riemannian manifold \\mathbb H^3)"
      ]
     },
     "execution_count": 14,
     "metadata": {},
     "output_type": "execute_result"
    }
   ],
   "source": [
    "# Frame coordenado\n",
    "X1, X2, X3 = X.frame()\n",
    "X1, X2, X3"
   ]
  },
  {
   "cell_type": "code",
   "execution_count": 15,
   "id": "44db7fc5-caea-4633-b4e1-073080f67a30",
   "metadata": {},
   "outputs": [
    {
     "data": {
      "text/html": [
       "<html>\\(\\displaystyle U = a_{1} \\frac{\\partial}{\\partial x_{1} } + a_{2} \\frac{\\partial}{\\partial x_{2} } + a_{3} \\frac{\\partial}{\\partial x_{3} }\\)</html>"
      ],
      "text/latex": [
       "$\\displaystyle U = a_{1} \\frac{\\partial}{\\partial x_{1} } + a_{2} \\frac{\\partial}{\\partial x_{2} } + a_{3} \\frac{\\partial}{\\partial x_{3} }$"
      ],
      "text/plain": [
       "U = a1 ∂/∂x1 + a2 ∂/∂x2 + a3 ∂/∂x3"
      ]
     },
     "metadata": {},
     "output_type": "display_data"
    },
    {
     "data": {
      "text/html": [
       "<html>\\(\\displaystyle V = b_{1} \\frac{\\partial}{\\partial x_{1} } + b_{2} \\frac{\\partial}{\\partial x_{2} } + b_{3} \\frac{\\partial}{\\partial x_{3} }\\)</html>"
      ],
      "text/latex": [
       "$\\displaystyle V = b_{1} \\frac{\\partial}{\\partial x_{1} } + b_{2} \\frac{\\partial}{\\partial x_{2} } + b_{3} \\frac{\\partial}{\\partial x_{3} }$"
      ],
      "text/plain": [
       "V = b1 ∂/∂x1 + b2 ∂/∂x2 + b3 ∂/∂x3"
      ]
     },
     "execution_count": 15,
     "metadata": {},
     "output_type": "execute_result"
    }
   ],
   "source": [
    "a1, a2, a3, b1, b2, b3 = var(\"a1 a2 a3 b1 b2 b3\")\n",
    "U = H3.vector_field(a1, a2, a3, name='U')\n",
    "V = H3.vector_field(b1, b2, b3, name='V')\n",
    "display(U.display())\n",
    "V.display()"
   ]
  },
  {
   "cell_type": "code",
   "execution_count": 16,
   "id": "094799fa-fb5c-428b-8c54-6e38e060d7d5",
   "metadata": {},
   "outputs": [
    {
     "name": "stdout",
     "output_type": "stream",
     "text": [
      "Tensor field Riem(g) of type (1,3) on the 3-dimensional Riemannian manifold \\mathbb H^3\n"
     ]
    }
   ],
   "source": [
    "#Riem(U, V, U, V)\n",
    "print(Riem)"
   ]
  },
  {
   "cell_type": "code",
   "execution_count": 17,
   "id": "dbe7d3f0-7fc9-46bc-98fe-002e1a809c35",
   "metadata": {},
   "outputs": [
    {
     "name": "stdout",
     "output_type": "stream",
     "text": [
      "Tensor field of type (0,4) on the 3-dimensional Riemannian manifold \\mathbb H^3\n"
     ]
    }
   ],
   "source": [
    "Riem1 = Riem.down(g)\n",
    "print(Riem1)"
   ]
  },
  {
   "cell_type": "code",
   "execution_count": 18,
   "id": "990321cf-40d5-44ae-8042-5a15fd405f07",
   "metadata": {},
   "outputs": [
    {
     "data": {
      "text/html": [
       "<html>\\(\\displaystyle -\\frac{1}{x_{3}^{4}} \\mathrm{d} x_{1}\\otimes \\mathrm{d} x_{2}\\otimes \\mathrm{d} x_{1}\\otimes \\mathrm{d} x_{2} + \\frac{1}{x_{3}^{4}} \\mathrm{d} x_{1}\\otimes \\mathrm{d} x_{2}\\otimes \\mathrm{d} x_{2}\\otimes \\mathrm{d} x_{1} -\\frac{1}{x_{3}^{4}} \\mathrm{d} x_{1}\\otimes \\mathrm{d} x_{3}\\otimes \\mathrm{d} x_{1}\\otimes \\mathrm{d} x_{3} + \\frac{1}{x_{3}^{4}} \\mathrm{d} x_{1}\\otimes \\mathrm{d} x_{3}\\otimes \\mathrm{d} x_{3}\\otimes \\mathrm{d} x_{1} + \\frac{1}{x_{3}^{4}} \\mathrm{d} x_{2}\\otimes \\mathrm{d} x_{1}\\otimes \\mathrm{d} x_{1}\\otimes \\mathrm{d} x_{2} -\\frac{1}{x_{3}^{4}} \\mathrm{d} x_{2}\\otimes \\mathrm{d} x_{1}\\otimes \\mathrm{d} x_{2}\\otimes \\mathrm{d} x_{1} -\\frac{1}{x_{3}^{4}} \\mathrm{d} x_{2}\\otimes \\mathrm{d} x_{3}\\otimes \\mathrm{d} x_{2}\\otimes \\mathrm{d} x_{3} + \\frac{1}{x_{3}^{4}} \\mathrm{d} x_{2}\\otimes \\mathrm{d} x_{3}\\otimes \\mathrm{d} x_{3}\\otimes \\mathrm{d} x_{2} + \\frac{1}{x_{3}^{4}} \\mathrm{d} x_{3}\\otimes \\mathrm{d} x_{1}\\otimes \\mathrm{d} x_{1}\\otimes \\mathrm{d} x_{3} -\\frac{1}{x_{3}^{4}} \\mathrm{d} x_{3}\\otimes \\mathrm{d} x_{1}\\otimes \\mathrm{d} x_{3}\\otimes \\mathrm{d} x_{1} + \\frac{1}{x_{3}^{4}} \\mathrm{d} x_{3}\\otimes \\mathrm{d} x_{2}\\otimes \\mathrm{d} x_{2}\\otimes \\mathrm{d} x_{3} -\\frac{1}{x_{3}^{4}} \\mathrm{d} x_{3}\\otimes \\mathrm{d} x_{2}\\otimes \\mathrm{d} x_{3}\\otimes \\mathrm{d} x_{2}\\)</html>"
      ],
      "text/latex": [
       "$\\displaystyle -\\frac{1}{x_{3}^{4}} \\mathrm{d} x_{1}\\otimes \\mathrm{d} x_{2}\\otimes \\mathrm{d} x_{1}\\otimes \\mathrm{d} x_{2} + \\frac{1}{x_{3}^{4}} \\mathrm{d} x_{1}\\otimes \\mathrm{d} x_{2}\\otimes \\mathrm{d} x_{2}\\otimes \\mathrm{d} x_{1} -\\frac{1}{x_{3}^{4}} \\mathrm{d} x_{1}\\otimes \\mathrm{d} x_{3}\\otimes \\mathrm{d} x_{1}\\otimes \\mathrm{d} x_{3} + \\frac{1}{x_{3}^{4}} \\mathrm{d} x_{1}\\otimes \\mathrm{d} x_{3}\\otimes \\mathrm{d} x_{3}\\otimes \\mathrm{d} x_{1} + \\frac{1}{x_{3}^{4}} \\mathrm{d} x_{2}\\otimes \\mathrm{d} x_{1}\\otimes \\mathrm{d} x_{1}\\otimes \\mathrm{d} x_{2} -\\frac{1}{x_{3}^{4}} \\mathrm{d} x_{2}\\otimes \\mathrm{d} x_{1}\\otimes \\mathrm{d} x_{2}\\otimes \\mathrm{d} x_{1} -\\frac{1}{x_{3}^{4}} \\mathrm{d} x_{2}\\otimes \\mathrm{d} x_{3}\\otimes \\mathrm{d} x_{2}\\otimes \\mathrm{d} x_{3} + \\frac{1}{x_{3}^{4}} \\mathrm{d} x_{2}\\otimes \\mathrm{d} x_{3}\\otimes \\mathrm{d} x_{3}\\otimes \\mathrm{d} x_{2} + \\frac{1}{x_{3}^{4}} \\mathrm{d} x_{3}\\otimes \\mathrm{d} x_{1}\\otimes \\mathrm{d} x_{1}\\otimes \\mathrm{d} x_{3} -\\frac{1}{x_{3}^{4}} \\mathrm{d} x_{3}\\otimes \\mathrm{d} x_{1}\\otimes \\mathrm{d} x_{3}\\otimes \\mathrm{d} x_{1} + \\frac{1}{x_{3}^{4}} \\mathrm{d} x_{3}\\otimes \\mathrm{d} x_{2}\\otimes \\mathrm{d} x_{2}\\otimes \\mathrm{d} x_{3} -\\frac{1}{x_{3}^{4}} \\mathrm{d} x_{3}\\otimes \\mathrm{d} x_{2}\\otimes \\mathrm{d} x_{3}\\otimes \\mathrm{d} x_{2}$"
      ],
      "text/plain": [
       "-1/x3^4 dx1⊗dx2⊗dx1⊗dx2 + x3^(-4) dx1⊗dx2⊗dx2⊗dx1 - 1/x3^4 dx1⊗dx3⊗dx1⊗dx3 + x3^(-4) dx1⊗dx3⊗dx3⊗dx1 + x3^(-4) dx2⊗dx1⊗dx1⊗dx2 - 1/x3^4 dx2⊗dx1⊗dx2⊗dx1 - 1/x3^4 dx2⊗dx3⊗dx2⊗dx3 + x3^(-4) dx2⊗dx3⊗dx3⊗dx2 + x3^(-4) dx3⊗dx1⊗dx1⊗dx3 - 1/x3^4 dx3⊗dx1⊗dx3⊗dx1 + x3^(-4) dx3⊗dx2⊗dx2⊗dx3 - 1/x3^4 dx3⊗dx2⊗dx3⊗dx2"
      ]
     },
     "execution_count": 18,
     "metadata": {},
     "output_type": "execute_result"
    }
   ],
   "source": [
    "Riem1.display()"
   ]
  },
  {
   "cell_type": "code",
   "execution_count": 19,
   "id": "5a2f023c-7753-4672-bc02-82841ff4eb3d",
   "metadata": {},
   "outputs": [
    {
     "data": {
      "text/html": [
       "<html>\\(\\displaystyle \\begin{array}{llcl} & \\mathbb H^3 & \\longrightarrow & \\mathbb{R} \\\\ & \\left(x_{1}, x_{2}, x_{3}\\right) & \\longmapsto & -1 \\end{array}\\)</html>"
      ],
      "text/latex": [
       "$\\displaystyle \\begin{array}{llcl} & \\mathbb H^3 & \\longrightarrow & \\mathbb{R} \\\\ & \\left(x_{1}, x_{2}, x_{3}\\right) & \\longmapsto & -1 \\end{array}$"
      ],
      "text/plain": [
       "\\mathbb H^3 → ℝ\n",
       "(x1, x2, x3) ↦ -1"
      ]
     },
     "execution_count": 19,
     "metadata": {},
     "output_type": "execute_result"
    }
   ],
   "source": [
    "# Curvatura seccional\n",
    "(Riem1(U, V, U, V) / (g(U, U) * g(V, V) - g(U, V)^2)).display()"
   ]
  },
  {
   "cell_type": "code",
   "execution_count": 20,
   "id": "011c09aa-ed94-4a25-a438-c76788707c5a",
   "metadata": {},
   "outputs": [
    {
     "data": {
      "text/html": [
       "<html>\\(\\displaystyle \\mathrm{Ric}\\left(g\\right) = -\\frac{2}{x_{3}^{2}} \\mathrm{d} x_{1}\\otimes \\mathrm{d} x_{1} -\\frac{2}{x_{3}^{2}} \\mathrm{d} x_{2}\\otimes \\mathrm{d} x_{2} -\\frac{2}{x_{3}^{2}} \\mathrm{d} x_{3}\\otimes \\mathrm{d} x_{3}\\)</html>"
      ],
      "text/latex": [
       "$\\displaystyle \\mathrm{Ric}\\left(g\\right) = -\\frac{2}{x_{3}^{2}} \\mathrm{d} x_{1}\\otimes \\mathrm{d} x_{1} -\\frac{2}{x_{3}^{2}} \\mathrm{d} x_{2}\\otimes \\mathrm{d} x_{2} -\\frac{2}{x_{3}^{2}} \\mathrm{d} x_{3}\\otimes \\mathrm{d} x_{3}$"
      ],
      "text/plain": [
       "Ric(g) = -2/x3^2 dx1⊗dx1 - 2/x3^2 dx2⊗dx2 - 2/x3^2 dx3⊗dx3"
      ]
     },
     "execution_count": 20,
     "metadata": {},
     "output_type": "execute_result"
    }
   ],
   "source": [
    "# Verificamos Einstein\n",
    "g.ricci().display()"
   ]
  },
  {
   "cell_type": "code",
   "execution_count": null,
   "id": "008c9769-5e5b-4841-a726-0692c1c6beea",
   "metadata": {},
   "outputs": [],
   "source": []
  },
  {
   "cell_type": "code",
   "execution_count": null,
   "id": "e90aa86e-dd01-41da-88e4-af4ace567e0a",
   "metadata": {},
   "outputs": [],
   "source": []
  }
 ],
 "metadata": {
  "kernelspec": {
   "display_name": "SageMath 10.4",
   "language": "sage",
   "name": "sagemath"
  },
  "language_info": {
   "codemirror_mode": {
    "name": "ipython",
    "version": 3
   },
   "file_extension": ".py",
   "mimetype": "text/x-python",
   "name": "python",
   "nbconvert_exporter": "python",
   "pygments_lexer": "ipython3",
   "version": "3.12.5"
  }
 },
 "nbformat": 4,
 "nbformat_minor": 5
}
