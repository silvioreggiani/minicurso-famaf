{
 "cells": [
  {
   "cell_type": "code",
   "execution_count": 1,
   "id": "93e04071-04a5-4c14-8ae6-e5d085db3126",
   "metadata": {},
   "outputs": [],
   "source": [
    "%display latex"
   ]
  },
  {
   "cell_type": "markdown",
   "id": "226d2199-fffe-4abc-b224-2f13baca0a0b",
   "metadata": {},
   "source": [
    "## Métrica(s) invariantes a izquierda en $Heis$"
   ]
  },
  {
   "cell_type": "code",
   "execution_count": 2,
   "id": "b20b4e5a-1e77-4635-a224-16f026170c90",
   "metadata": {},
   "outputs": [],
   "source": [
    "structure_constants = {('e1','e2') : {'e3' : 1}}\n",
    "#hh.<e1,e2,e3> = LieAlgebra(SR, structure_constants) \n",
    "hh.<e1,e2,e3> = LieAlgebra(SR, structure_constants, nilpotent=True) "
   ]
  },
  {
   "cell_type": "code",
   "execution_count": 3,
   "id": "bba03194-a5e7-44a2-833a-197b03cf2a84",
   "metadata": {},
   "outputs": [
    {
     "data": {
      "text/html": [
       "<html>\\(\\displaystyle \\mathrm{True}\\)</html>"
      ],
      "text/latex": [
       "$\\displaystyle \\mathrm{True}$"
      ],
      "text/plain": [
       "True"
      ]
     },
     "execution_count": 3,
     "metadata": {},
     "output_type": "execute_result"
    }
   ],
   "source": [
    "hh.is_nilpotent()"
   ]
  },
  {
   "cell_type": "code",
   "execution_count": 4,
   "id": "ebb14efa-0aa1-4f6d-97ca-819f7e3977b0",
   "metadata": {},
   "outputs": [
    {
     "data": {
      "text/html": [
       "<html>\\(\\displaystyle \\left(\\begin{array}{rrr}\n",
       "0 & 0 & 0 \\\\\n",
       "0 & 0 & 0 \\\\\n",
       "0 & 0 & 0\n",
       "\\end{array}\\right)\\)</html>"
      ],
      "text/latex": [
       "$\\displaystyle \\left(\\begin{array}{rrr}\n",
       "0 & 0 & 0 \\\\\n",
       "0 & 0 & 0 \\\\\n",
       "0 & 0 & 0\n",
       "\\end{array}\\right)$"
      ],
      "text/plain": [
       "[0 0 0]\n",
       "[0 0 0]\n",
       "[0 0 0]"
      ]
     },
     "execution_count": 4,
     "metadata": {},
     "output_type": "execute_result"
    }
   ],
   "source": [
    "B = hh.killing_form_matrix()\n",
    "B"
   ]
  },
  {
   "cell_type": "code",
   "execution_count": null,
   "id": "d4c01ebb-c042-4d9c-abe8-dfcbbb9869db",
   "metadata": {},
   "outputs": [],
   "source": []
  },
  {
   "cell_type": "code",
   "execution_count": 5,
   "id": "76d8c9ef-9477-4701-a8dc-a07afe0a27c3",
   "metadata": {},
   "outputs": [],
   "source": [
    "def inner_product_from_matrix(hh, g):\n",
    "    return lambda x, y: x.to_vector() * g * y.to_vector()\n",
    "\n",
    "def gram_schmidt(hh, inner_product):\n",
    "    hh_on_basis = []\n",
    "    for i, v in enumerate(hh.basis().values()):\n",
    "        u = v\n",
    "        for j in range(i):\n",
    "            u -= inner_product(v, hh_on_basis[j]) * hh_on_basis[j]\n",
    "        hh_on_basis.append( hh( ((1 / sqrt(inner_product(u, u))) * u).to_vector().canonicalize_radical() ))\n",
    "    return hh_on_basis\n",
    "\n",
    "def bracket_contracted(hh, inner_product, on_basis):\n",
    "    hh_dim = hh.dimension()\n",
    "    bc = {(i,j,k): None for i in range(hh_dim) for j in range(hh_dim) for k in range(hh_dim)}\n",
    "    for index in bc.keys():\n",
    "        i, j, k = index\n",
    "        bc[index] = inner_product(on_basis[i].bracket(on_basis[j]), on_basis[k])\n",
    "    return bc\n",
    "\n",
    "def secc_curv(hh, metric, on_basis, i, j):\n",
    "    hh_dim = hh.dimension()\n",
    "    bc = bracket_contracted(hh, metric, on_basis)\n",
    "    return sum(bc[i,j,k]*(-bc[i,j,k]+bc[j,k,i]+bc[k,i,j])/2 - (bc[i,j,k]-bc[j,k,i]+bc[k,i,j])*(bc[i,j,k]+bc[j,k,i]-bc[k,i,j])/4 - bc[k,i,i]*bc[k,j,j] for k in range(hh_dim))\n",
    "\n",
    "def Ric_ob(hh, bc, j, h):\n",
    "    hh_dim = hh.dimension()\n",
    "    return sum(sum( bc[(i,k,i)] * (bc[(k,j,h)] + bc[(k,h,j)]) / 2 + bc[(i,k,h)] * bc[(i,k,j)] / 4 - bc[(i,j,k)] * bc[(k,h,i)] / 2 + bc[(i,k,i)] * bc[(j,h,k)] / 2 - bc[(i,j,k)] * bc[(i,h,k)] / 2 for i in range(hh_dim)) for k in range(hh_dim))\n",
    "\n",
    "def Ric_on(hh, g, on_basis):\n",
    "    hh_dim = hh.dimension()\n",
    "    ip = inner_product_from_matrix(hh, g)\n",
    "    on_basis = gram_schmidt(hh, ip)\n",
    "    bc = bracket_contracted(hh, ip, on_basis)\n",
    "    return matrix(hh_dim, hh_dim, lambda i, j: Ric_ob(hh, bc, i, j))"
   ]
  },
  {
   "cell_type": "code",
   "execution_count": 6,
   "id": "5a7a1969-2aa4-4cc0-bf60-1db8fd7fc29d",
   "metadata": {},
   "outputs": [],
   "source": [
    "I3 = identity_matrix(SR,3)\n",
    "metric = inner_product_from_matrix(hh, I3)"
   ]
  },
  {
   "cell_type": "code",
   "execution_count": 7,
   "id": "e3218190-f7fe-4b4d-85f1-d194530622d4",
   "metadata": {},
   "outputs": [
    {
     "data": {
      "text/html": [
       "<html>\\(\\displaystyle \\left[e1, e2, e3\\right]\\)</html>"
      ],
      "text/latex": [
       "$\\displaystyle \\left[e1, e2, e3\\right]$"
      ],
      "text/plain": [
       "[e1, e2, e3]"
      ]
     },
     "execution_count": 7,
     "metadata": {},
     "output_type": "execute_result"
    }
   ],
   "source": [
    "on_basis = gram_schmidt(hh, metric)\n",
    "on_basis"
   ]
  },
  {
   "cell_type": "code",
   "execution_count": 8,
   "id": "2cdd0acf-c045-4b23-861c-7b2781b60a6d",
   "metadata": {},
   "outputs": [
    {
     "data": {
      "text/html": [
       "<html>\\(\\displaystyle \\left(\\begin{array}{rrr}\n",
       "-\\frac{1}{2} & 0 & 0 \\\\\n",
       "0 & -\\frac{1}{2} & 0 \\\\\n",
       "0 & 0 & \\frac{1}{2}\n",
       "\\end{array}\\right)\\)</html>"
      ],
      "text/latex": [
       "$\\displaystyle \\left(\\begin{array}{rrr}\n",
       "-\\frac{1}{2} & 0 & 0 \\\\\n",
       "0 & -\\frac{1}{2} & 0 \\\\\n",
       "0 & 0 & \\frac{1}{2}\n",
       "\\end{array}\\right)$"
      ],
      "text/plain": [
       "[-1/2    0    0]\n",
       "[   0 -1/2    0]\n",
       "[   0    0  1/2]"
      ]
     },
     "execution_count": 8,
     "metadata": {},
     "output_type": "execute_result"
    }
   ],
   "source": [
    "Ric_on(hh, I3, on_basis)"
   ]
  },
  {
   "cell_type": "code",
   "execution_count": 9,
   "id": "2fab63e8-09a8-41b9-8099-c9ff530b62b5",
   "metadata": {},
   "outputs": [
    {
     "data": {
      "text/html": [
       "<html>\\(\\displaystyle -\\frac{3}{4}\\)</html>"
      ],
      "text/latex": [
       "$\\displaystyle -\\frac{3}{4}$"
      ],
      "text/plain": [
       "-3/4"
      ]
     },
     "metadata": {},
     "output_type": "display_data"
    },
    {
     "name": "stdout",
     "output_type": "stream",
     "text": [
      "\n"
     ]
    },
    {
     "data": {
      "text/html": [
       "<html>\\(\\displaystyle \\frac{1}{4}\\)</html>"
      ],
      "text/latex": [
       "$\\displaystyle \\frac{1}{4}$"
      ],
      "text/plain": [
       "1/4"
      ]
     },
     "metadata": {},
     "output_type": "display_data"
    },
    {
     "name": "stdout",
     "output_type": "stream",
     "text": [
      "\n"
     ]
    },
    {
     "data": {
      "text/html": [
       "<html>\\(\\displaystyle \\frac{1}{4}\\)</html>"
      ],
      "text/latex": [
       "$\\displaystyle \\frac{1}{4}$"
      ],
      "text/plain": [
       "1/4"
      ]
     },
     "metadata": {},
     "output_type": "display_data"
    },
    {
     "name": "stdout",
     "output_type": "stream",
     "text": [
      "\n"
     ]
    }
   ],
   "source": [
    "# Curvaturas seccionales en la base ortonormal\n",
    "for i in range(3):\n",
    "    for j in range(i+1,3):\n",
    "        display(secc_curv(hh,metric, on_basis, i, j))\n",
    "        print(\"\")"
   ]
  },
  {
   "cell_type": "code",
   "execution_count": null,
   "id": "4aaf6256-f975-4f80-9d21-9152da746a78",
   "metadata": {},
   "outputs": [],
   "source": []
  }
 ],
 "metadata": {
  "kernelspec": {
   "display_name": "SageMath 10.4",
   "language": "sage",
   "name": "sagemath"
  },
  "language_info": {
   "codemirror_mode": {
    "name": "ipython",
    "version": 3
   },
   "file_extension": ".py",
   "mimetype": "text/x-python",
   "name": "python",
   "nbconvert_exporter": "python",
   "pygments_lexer": "ipython3",
   "version": "3.12.5"
  }
 },
 "nbformat": 4,
 "nbformat_minor": 5
}
