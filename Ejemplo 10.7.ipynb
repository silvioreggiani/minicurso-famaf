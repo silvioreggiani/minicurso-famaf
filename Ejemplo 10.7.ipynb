{
 "cells": [
  {
   "cell_type": "code",
   "execution_count": 1,
   "id": "b1bd2bed-25c9-48fa-a30b-8acaeb94c1d3",
   "metadata": {},
   "outputs": [],
   "source": [
    "%display latex"
   ]
  },
  {
   "cell_type": "markdown",
   "id": "ec247b03-37d9-4ea8-bffe-e8c62719fd53",
   "metadata": {},
   "source": [
    "En esta notebook implementamos algunos programas que nos permitan calcular la curvatura de un espacio riemanniano homogéneo reductivo $M = G/H$. Vamos a usar las fórmulas de [Bes08]. **Hay que tener cuidado de no usar mal las identificaciones.** \n",
    "\n",
    "Supondremos que $\\dim M = n$, $\\dim H = m$, y $G \\subset SO(N)$ es un grupo de Lie conexo, semisimple y compacto de dimensión $m + n$. Consideraremos en $G$ la métrica biinvariante definida por\n",
    "$$\\langle X, Y \\rangle^{bi} = - \\operatorname{trace} (XY), \\qquad X, Y \\in \\mathfrak g$$\n",
    "\n",
    "La geometría de $M$ queda determinada por la descomposición reductiva\n",
    "$$\\mathfrak g = \\mathfrak h \\oplus \\mathfrak m$$\n",
    "en donde $\\mathfrak m$ es el complemento ortogonal de $\\mathfrak h$ con respecto a la métrica biinvariante en $\\mathfrak g$ junto con un producto interno $\\operatorname{Ad}(H)$ invariante en $\\mathfrak m$ el cual denotamos por\n",
    "$\\langle X, Y\\rangle$ para $X, Y \\in \\mathfrak m$. Usamos el mismo símbolo $\\langle -, -\\rangle$ para denotar la métrica $G$ invariante en $\\mathfrak m$. También estamos suponiendo que la acción de $G$ en $M$ es (casi) efectiva. \n",
    "\n",
    "**OBS.** Cada $X \\in \\mathfrak g$ induce un campo de Killing $X^*$ en $M$ definiendo\n",
    "$$X^*_p = \\frac{d}{dt}\\Big|_0 \\operatorname{Exp}(tX) \\cdot p$$\n",
    "\n",
    "Esta asignación cambia el signo del corchete de Lie: para todos $X, Y \\in \\mathfrak g$ se tiene\n",
    "$$[X, Y]^* = -[X^*, Y^*]$$\n",
    "\n",
    "Y si denotamos por $o = eH$ tenemos que la asignación $\\mathfrak m \\to T_oM$ dada por $X \\in \\mathfrak m \\mapsto X^*_o$ es una isometría lineal (más aún es la diferencial de la proyección al cociente en la identidad).\n",
    "\n",
    "**Implementación.**\n",
    "* Para introducir $\\mathfrak g$ daremos una lista con una base $\\mathfrak g$\n",
    "* Para introducir $\\mathfrak h$ daremos una lista con una base de $\\mathfrak h$\n",
    "* Implementaremos programas que verifiquen las listas mencionadas en los ítems anteriores efectivamente den lugar a un álgebra de Lie y una subálgebra de Lie\n",
    "* Para determinar $\\mathfrak m$ construiremos una base ortonormal de $\\mathfrak g$ cuyos primeros $m$ elementos formen una base ortonormal de $\\mathfrak h$. Luego los últimos $n$ elementos serán una base de $\\mathfrak m$\n",
    "* El producto interno en $\\mathfrak m$ deberá ser introducido explícitamente y habra que implementar un programa que chequee la Ad-invariancia."
   ]
  },
  {
   "cell_type": "code",
   "execution_count": 2,
   "id": "26ef9f7f-3c15-4842-91ad-cb8bde39d938",
   "metadata": {},
   "outputs": [],
   "source": [
    "def lie_bracket(X, Y):\n",
    "    return X * Y - Y * X\n",
    "\n",
    "def biinv_metric(X, Y):\n",
    "    return - (X * Y).trace()\n",
    "\n",
    "def is_li(gens):\n",
    "    n = len(gens)\n",
    "    M = matrix([gens[i].list() for i in range(n)])\n",
    "    if M.rank() == n:\n",
    "        return True\n",
    "    else:\n",
    "        return False\n",
    "\n",
    "def is_lie_algebra(basis):\n",
    "    if is_li(basis) == False:\n",
    "        print(\"Not a linear independent set\")\n",
    "    else:\n",
    "        n = len(basis)\n",
    "        M = matrix([basis[i].list() for i in range(n)])\n",
    "        for i in range(n):\n",
    "            for j in range(i+1, n):\n",
    "                if matrix(M.rows() + [vector(lie_bracket(basis[i], basis[j]).list())]).rank() > n:\n",
    "                    return False\n",
    "        return True"
   ]
  },
  {
   "cell_type": "markdown",
   "id": "e279d813-bac5-4c54-b9ee-7b0c898abbe6",
   "metadata": {},
   "source": [
    "## La esfera $S^2 = \\operatorname{SO}(3) / \\operatorname{SO}(2)$"
   ]
  },
  {
   "cell_type": "code",
   "execution_count": 3,
   "id": "209c65cd-5112-4268-8eda-5a0b6859e370",
   "metadata": {},
   "outputs": [],
   "source": [
    "%display latex"
   ]
  },
  {
   "cell_type": "code",
   "execution_count": 4,
   "id": "12a5736c-b05a-4392-bfc1-50f38fc36120",
   "metadata": {},
   "outputs": [
    {
     "data": {
      "text/html": [
       "<html>\\(\\displaystyle \\left[\\left(\\begin{array}{rrr}\n",
       "0 & -1 & 0 \\\\\n",
       "1 & 0 & 0 \\\\\n",
       "0 & 0 & 0\n",
       "\\end{array}\\right), \\left(\\begin{array}{rrr}\n",
       "0 & 0 & -1 \\\\\n",
       "0 & 0 & 0 \\\\\n",
       "1 & 0 & 0\n",
       "\\end{array}\\right), \\left(\\begin{array}{rrr}\n",
       "0 & 0 & 0 \\\\\n",
       "0 & 0 & -1 \\\\\n",
       "0 & 1 & 0\n",
       "\\end{array}\\right)\\right]\\)</html>"
      ],
      "text/latex": [
       "$\\displaystyle \\left[\\left(\\begin{array}{rrr}\n",
       "0 & -1 & 0 \\\\\n",
       "1 & 0 & 0 \\\\\n",
       "0 & 0 & 0\n",
       "\\end{array}\\right), \\left(\\begin{array}{rrr}\n",
       "0 & 0 & -1 \\\\\n",
       "0 & 0 & 0 \\\\\n",
       "1 & 0 & 0\n",
       "\\end{array}\\right), \\left(\\begin{array}{rrr}\n",
       "0 & 0 & 0 \\\\\n",
       "0 & 0 & -1 \\\\\n",
       "0 & 1 & 0\n",
       "\\end{array}\\right)\\right]$"
      ],
      "text/plain": [
       "[\n",
       "[ 0 -1  0]  [ 0  0 -1]  [ 0  0  0]\n",
       "[ 1  0  0]  [ 0  0  0]  [ 0  0 -1]\n",
       "[ 0  0  0], [ 1  0  0], [ 0  1  0]\n",
       "]"
      ]
     },
     "execution_count": 4,
     "metadata": {},
     "output_type": "execute_result"
    }
   ],
   "source": [
    "#Test round sphere\n",
    "g_initial_basis = [\n",
    "    matrix(SR,[[0,-1,0],[1,0,0],[0,0,0]]),\n",
    "    matrix(SR,[[0,0,-1],[0,0,0],[1,0,0]]),\n",
    "    matrix(SR,[[0,0,0],[0,0,-1],[0,1,0]]),\n",
    "]\n",
    "g_initial_basis"
   ]
  },
  {
   "cell_type": "code",
   "execution_count": 5,
   "id": "1715e186-b8d6-4d2c-a8df-b37d9c7990a3",
   "metadata": {},
   "outputs": [
    {
     "data": {
      "text/html": [
       "<html>\\(\\displaystyle \\mathrm{True}\\)</html>"
      ],
      "text/latex": [
       "$\\displaystyle \\mathrm{True}$"
      ],
      "text/plain": [
       "True"
      ]
     },
     "execution_count": 5,
     "metadata": {},
     "output_type": "execute_result"
    }
   ],
   "source": [
    "is_lie_algebra(g_initial_basis)"
   ]
  },
  {
   "cell_type": "code",
   "execution_count": 6,
   "id": "b5448a63-8505-4e05-9905-f85e8c137e5e",
   "metadata": {},
   "outputs": [
    {
     "data": {
      "text/html": [
       "<html>\\(\\displaystyle \\left[\\left(\\begin{array}{rrr}\n",
       "0 & -1 & 0 \\\\\n",
       "1 & 0 & 0 \\\\\n",
       "0 & 0 & 0\n",
       "\\end{array}\\right)\\right]\\)</html>"
      ],
      "text/latex": [
       "$\\displaystyle \\left[\\left(\\begin{array}{rrr}\n",
       "0 & -1 & 0 \\\\\n",
       "1 & 0 & 0 \\\\\n",
       "0 & 0 & 0\n",
       "\\end{array}\\right)\\right]$"
      ],
      "text/plain": [
       "[\n",
       "[ 0 -1  0]\n",
       "[ 1  0  0]\n",
       "[ 0  0  0]\n",
       "]"
      ]
     },
     "execution_count": 6,
     "metadata": {},
     "output_type": "execute_result"
    }
   ],
   "source": [
    "h_initial_basis = g_initial_basis[:1]\n",
    "h_initial_basis"
   ]
  },
  {
   "cell_type": "code",
   "execution_count": 7,
   "id": "1c216475-c415-4cdd-9607-6dbdba3ce5e6",
   "metadata": {},
   "outputs": [],
   "source": [
    "def is_subalgebra(h_basis, g_basis):\n",
    "    if is_lie_algebra(h_basis):\n",
    "        for X in h_basis:\n",
    "            if is_li(g_basis + [X]):\n",
    "                return False\n",
    "        return True"
   ]
  },
  {
   "cell_type": "code",
   "execution_count": 8,
   "id": "fb0506d2-f361-4fac-af66-3d9e35f7f2ea",
   "metadata": {},
   "outputs": [
    {
     "data": {
      "text/html": [
       "<html>\\(\\displaystyle \\mathrm{True}\\)</html>"
      ],
      "text/latex": [
       "$\\displaystyle \\mathrm{True}$"
      ],
      "text/plain": [
       "True"
      ]
     },
     "execution_count": 8,
     "metadata": {},
     "output_type": "execute_result"
    }
   ],
   "source": [
    "is_subalgebra(h_initial_basis, g_initial_basis)"
   ]
  },
  {
   "cell_type": "code",
   "execution_count": 9,
   "id": "f286e7b0-6b4f-434f-b6f6-15955779099c",
   "metadata": {},
   "outputs": [],
   "source": [
    "def gram_schdmidt(basis, metric):\n",
    "    on_basis = []\n",
    "    for i, X in enumerate(basis):\n",
    "        Y = X\n",
    "        for j in range(i):\n",
    "            Y -= metric(X, on_basis[j]) * on_basis[j]\n",
    "        on_basis.append(1/sqrt(metric(Y, Y)) * Y)\n",
    "    return on_basis"
   ]
  },
  {
   "cell_type": "code",
   "execution_count": 10,
   "id": "fa51570b-a899-4273-a9a4-2d99d427a102",
   "metadata": {},
   "outputs": [],
   "source": [
    "g_adapted_basis = h_initial_basis.copy()\n",
    "for X in g_initial_basis:\n",
    "    if is_li(g_adapted_basis + [X]):\n",
    "        g_adapted_basis.append(X)\n",
    "\n",
    "g_on_basis = gram_schdmidt(g_adapted_basis, biinv_metric)\n",
    "h_on_basis = g_on_basis[:len(h_initial_basis)]"
   ]
  },
  {
   "cell_type": "code",
   "execution_count": 11,
   "id": "eae26b2a-0d7d-4e81-b07f-c209cf25d807",
   "metadata": {},
   "outputs": [
    {
     "data": {
      "text/html": [
       "<html>\\(\\displaystyle \\mathrm{False}\\)</html>"
      ],
      "text/latex": [
       "$\\displaystyle \\mathrm{False}$"
      ],
      "text/plain": [
       "False"
      ]
     },
     "execution_count": 11,
     "metadata": {},
     "output_type": "execute_result"
    }
   ],
   "source": [
    "g_on_basis == g_initial_basis"
   ]
  },
  {
   "cell_type": "code",
   "execution_count": 12,
   "id": "b854aaa9-9635-4c1b-80e9-1e100850fc8c",
   "metadata": {},
   "outputs": [
    {
     "data": {
      "text/html": [
       "<html>\\(\\displaystyle \\left[\\left(\\begin{array}{rrr}\n",
       "0 & -\\frac{1}{2} \\, \\sqrt{2} & 0 \\\\\n",
       "\\frac{1}{2} \\, \\sqrt{2} & 0 & 0 \\\\\n",
       "0 & 0 & 0\n",
       "\\end{array}\\right), \\left(\\begin{array}{rrr}\n",
       "0 & 0 & -\\frac{1}{2} \\, \\sqrt{2} \\\\\n",
       "0 & 0 & 0 \\\\\n",
       "\\frac{1}{2} \\, \\sqrt{2} & 0 & 0\n",
       "\\end{array}\\right), \\left(\\begin{array}{rrr}\n",
       "0 & 0 & 0 \\\\\n",
       "0 & 0 & -\\frac{1}{2} \\, \\sqrt{2} \\\\\n",
       "0 & \\frac{1}{2} \\, \\sqrt{2} & 0\n",
       "\\end{array}\\right)\\right]\\)</html>"
      ],
      "text/latex": [
       "$\\displaystyle \\left[\\left(\\begin{array}{rrr}\n",
       "0 & -\\frac{1}{2} \\, \\sqrt{2} & 0 \\\\\n",
       "\\frac{1}{2} \\, \\sqrt{2} & 0 & 0 \\\\\n",
       "0 & 0 & 0\n",
       "\\end{array}\\right), \\left(\\begin{array}{rrr}\n",
       "0 & 0 & -\\frac{1}{2} \\, \\sqrt{2} \\\\\n",
       "0 & 0 & 0 \\\\\n",
       "\\frac{1}{2} \\, \\sqrt{2} & 0 & 0\n",
       "\\end{array}\\right), \\left(\\begin{array}{rrr}\n",
       "0 & 0 & 0 \\\\\n",
       "0 & 0 & -\\frac{1}{2} \\, \\sqrt{2} \\\\\n",
       "0 & \\frac{1}{2} \\, \\sqrt{2} & 0\n",
       "\\end{array}\\right)\\right]$"
      ],
      "text/plain": [
       "[\n",
       "[           0 -1/2*sqrt(2)            0]\n",
       "[ 1/2*sqrt(2)            0            0]\n",
       "[           0            0            0],\n",
       "\n",
       "[           0            0 -1/2*sqrt(2)]\n",
       "[           0            0            0]\n",
       "[ 1/2*sqrt(2)            0            0],\n",
       "\n",
       "[           0            0            0]\n",
       "[           0            0 -1/2*sqrt(2)]\n",
       "[           0  1/2*sqrt(2)            0]\n",
       "]"
      ]
     },
     "execution_count": 12,
     "metadata": {},
     "output_type": "execute_result"
    }
   ],
   "source": [
    "g_on_basis"
   ]
  },
  {
   "cell_type": "code",
   "execution_count": 13,
   "id": "82c25a58-74ae-4935-a8ff-8e68aa1a4d76",
   "metadata": {},
   "outputs": [],
   "source": [
    "m_initial_basis = g_on_basis[len(h_initial_basis):]\n",
    "n = len(m_initial_basis)"
   ]
  },
  {
   "cell_type": "code",
   "execution_count": 14,
   "id": "db1e5069-2ffe-4da1-ab60-3a8d57396d5c",
   "metadata": {},
   "outputs": [],
   "source": [
    "def proj_h(X):\n",
    "    return X - sum([biinv_metric(X, Y) * Y for Y in m_initial_basis])\n",
    "\n",
    "def proj_m(X):\n",
    "    return X - sum([biinv_metric(X, Y) * Y for Y in h_on_basis])"
   ]
  },
  {
   "cell_type": "code",
   "execution_count": 15,
   "id": "b9200e5b-b36b-4ce2-973a-94f87b9e2432",
   "metadata": {},
   "outputs": [],
   "source": [
    "# Test con metrica normal homogenea\n",
    "metric_m = biinv_metric"
   ]
  },
  {
   "cell_type": "code",
   "execution_count": 16,
   "id": "a912c9f8-ff49-467e-962e-5a6a794663cb",
   "metadata": {},
   "outputs": [
    {
     "name": "stdout",
     "output_type": "stream",
     "text": [
      "[1 0]\n",
      "[0 1]\n",
      "\n",
      "[1 0]\n",
      "[0 1]\n"
     ]
    }
   ],
   "source": [
    "m_on_basis = gram_schdmidt(m_initial_basis, metric_m)\n",
    "print(matrix(n, n, lambda i, j: metric_m(m_initial_basis[i], m_initial_basis[j])))\n",
    "print(\"\")\n",
    "print(matrix(n, n, lambda i, j: metric_m(m_on_basis[i], m_on_basis[j])))"
   ]
  },
  {
   "cell_type": "markdown",
   "id": "0270e4e4-bf3d-4c89-b5d8-8c51e61951ee",
   "metadata": {},
   "source": [
    "**Chequeamos la Ad-invariancia.** Por simplicidad trabajaremos al nivel del  álgebra de Lie verificando que $\\operatorname{ad}_X |_{\\mathfrak m}: \\mathfrak m \\to \\mathfrak m$ sea antisimétrica para cada $X \\in \\mathfrak h$. Si denotamos por $X_1, \\ldots, X_n$ la base ortonormal de $\\mathfrak m$, entonces la matriz de $\\operatorname{ad}_X$ en esta base esta dada por\n",
    "$$(a_{ij}) = ( \\langle [X, X_j], X_i\\rangle)$$"
   ]
  },
  {
   "cell_type": "code",
   "execution_count": 17,
   "id": "6f626c2f-548a-4f56-b4dd-c40b85b2ab62",
   "metadata": {},
   "outputs": [],
   "source": [
    "def ad_matrix_m(X):\n",
    "    return matrix(n, n, lambda i, j: metric_m(lie_bracket(X, m_on_basis[j]), m_on_basis[i]))"
   ]
  },
  {
   "cell_type": "code",
   "execution_count": 18,
   "id": "b69517f3-ea24-4313-abb6-de7b2888ef60",
   "metadata": {},
   "outputs": [
    {
     "name": "stdout",
     "output_type": "stream",
     "text": [
      "True\n"
     ]
    }
   ],
   "source": [
    "for X in h_on_basis:\n",
    "    print(ad_matrix_m(X).is_skew_symmetric())"
   ]
  },
  {
   "cell_type": "markdown",
   "id": "4f59eef7-74ec-481c-8970-7b2157786e18",
   "metadata": {},
   "source": [
    "**Conexión de Levi-Civita:** para todos $X, Y \\in \\mathfrak m$, $$(\\nabla_{X^*} Y^*)_o = - \\frac12 [X, Y]_{\\mathfrak m} + U(X, Y)$$ en donde $U: \\mathfrak m \\times \\mathfrak m \\to \\mathfrak m$ está determinado implícitamente por la fórmula $$2 \\langle U(X, Y), Z\\rangle = \\langle [Z, X]_{\\mathfrak m}, Y \\rangle + \\langle X, [Z, Y]_{\\mathfrak m}\\rangle$$ para todo $Z \\in \\mathfrak m$\n"
   ]
  },
  {
   "cell_type": "code",
   "execution_count": 19,
   "id": "324dfc1f-3f8b-40a3-8f7f-f0a12bdeba19",
   "metadata": {},
   "outputs": [],
   "source": [
    "def U_tensor(X, Y):\n",
    "    return (1/2) * sum([(metric_m(proj_m(lie_bracket(Z,X)),Y) + metric_m(X, proj_m(lie_bracket(Z, Y)))) * Z for Z in m_on_basis])\n",
    "\n",
    "def levi_civita(X, Y):\n",
    "    \"\"\"\n",
    "    Estamos identificando X, Y con los campos de Killing asociados!!!\n",
    "    \"\"\"\n",
    "    return -(1/2) * proj_m(lie_bracket(X, Y)) + U_tensor(X, Y)"
   ]
  },
  {
   "cell_type": "code",
   "execution_count": 20,
   "id": "a916fa3b-133f-4efe-853a-cd282070d24b",
   "metadata": {},
   "outputs": [
    {
     "name": "stdout",
     "output_type": "stream",
     "text": [
      "CPU times: user 6.39 ms, sys: 0 ns, total: 6.39 ms\n",
      "Wall time: 6.43 ms\n"
     ]
    },
    {
     "data": {
      "text/html": [
       "<html>\\(\\displaystyle \\verb|{True}|\\)</html>"
      ],
      "text/latex": [
       "$\\displaystyle \\verb|{True}|$"
      ],
      "text/plain": [
       "{True}"
      ]
     },
     "execution_count": 20,
     "metadata": {},
     "output_type": "execute_result"
    }
   ],
   "source": [
    "# Chequeamos si la metrica es naturalmente reductiva\n",
    "# long time\n",
    "%time set([U_tensor(X, Y) == 0 for X in m_on_basis for Y in m_on_basis])"
   ]
  },
  {
   "cell_type": "markdown",
   "id": "2dea0a8c-89b3-417c-9ce9-379f0c6da218",
   "metadata": {},
   "source": [
    "**Curvatura seccional:** para todos $X, Y \\in \\mathfrak m$\n",
    "\\begin{align*}\n",
    "\\langle R(X, Y) X, Y\\rangle  = & -\\frac34 \\langle [X, Y]_{\\mathfrak m}, [X, Y]_{\\mathfrak m}\\rangle - \\frac12 \\langle [X, [X, Y]_{\\mathfrak m} ]_{\\mathfrak m}, Y\\rangle \\\\\n",
    "& -\\frac12 \\langle [Y, [Y, X]_{\\mathfrak m} ]_{\\mathfrak m}, X\\rangle + \\langle U(X, Y), U(X, Y)\\rangle \\\\\n",
    "& - \\langle U(X, X), U(Y, Y) \\rangle + \\langle Y, [ [X, Y]_{\\mathfrak h}, X]_{\\mathfrak m}\\rangle\n",
    "\\end{align*}\n"
   ]
  },
  {
   "cell_type": "code",
   "execution_count": 21,
   "id": "a3bac193-d362-453c-a3ac-415d7afeb086",
   "metadata": {},
   "outputs": [],
   "source": [
    "def sec_curv(X, Y):\n",
    "    sum1 = -(3/4) * metric_m(proj_m(lie_bracket(X, Y)), proj_m(lie_bracket(X, Y)))\n",
    "    sum2 = -(1/2) * metric_m(proj_m(lie_bracket(X, proj_m(lie_bracket(X, Y)))), Y)\n",
    "    sum3 = -(1/2) * metric_m(proj_m(lie_bracket(Y, proj_m(lie_bracket(Y, X)))), X)\n",
    "    sum4 = metric_m(U_tensor(X, Y), U_tensor(X, Y))\n",
    "    sum5 = -metric_m(U_tensor(X, X), U_tensor(Y, Y))\n",
    "    sum6 = metric_m(Y, proj_m(lie_bracket(proj_h(lie_bracket(X, Y)), X)))\n",
    "    return sum1 + sum2 + sum3 + sum4 + sum5 + sum6"
   ]
  },
  {
   "cell_type": "code",
   "execution_count": 22,
   "id": "be4e2df1-41c9-4b52-a7c8-f3d9e1f52c52",
   "metadata": {},
   "outputs": [
    {
     "name": "stdout",
     "output_type": "stream",
     "text": [
      "1/2\n",
      "\n",
      "Fin.\n"
     ]
    }
   ],
   "source": [
    "# long time\n",
    "for i in range(n):\n",
    "    for j in range(i+1,n):\n",
    "        print(sec_curv(m_on_basis[i], m_on_basis[j]))\n",
    "print(\"\")\n",
    "print(\"Fin.\")"
   ]
  },
  {
   "cell_type": "markdown",
   "id": "02ee57a8-2a16-4886-b79f-0555e741d564",
   "metadata": {},
   "source": [
    "**Curvatura de Ricci:** Fijemos una base ortonormal $X_1, \\ldots, X_n$ de $\\mathfrak m$. Entonces para todo $X \\in \\mathfrak m$ se tiene\n",
    "\\begin{align*}\n",
    "\\operatorname{Ric}(X, X) = & \\sum_i \\langle R(X, X_i) X, X_i\\rangle \\\\\n",
    "= & -\\frac12 \\sum_i \\langle [X, X_i]_{\\mathfrak m}, [X, X_i]_{\\mathfrak m} \\rangle - \\frac12 \\sum_i \\langle [X, [X, X_i]_{\\mathfrak m} ]_{\\mathfrak m}, X_i\\rangle \\\\\n",
    "& -\\sum_i \\langle [ X, [X, X_i]_{\\mathfrak h} ]_{\\mathfrak m}, X_i\\rangle + \\frac14 \\sum_{i, j} \\langle [X_i, X_j]_{\\mathfrak m}, X\\rangle^2 \\\\\n",
    "&- \\langle [Z, X]_{\\mathfrak m}, X \\rangle,\n",
    "\\end{align*}\n",
    "en donde $Z = \\sum_i U(X_i, X_i)$ (el cual puede calcularse implícitamente por $\\langle Z, X\\rangle = \\operatorname{tr} \\operatorname {ad}_X$)\n"
   ]
  },
  {
   "cell_type": "code",
   "execution_count": 23,
   "id": "9510127e-33e1-4a3c-a85e-0a7055434139",
   "metadata": {},
   "outputs": [],
   "source": [
    "# Implementacion menos eficiente\n",
    "#def ricci_quadratic_form(X):\n",
    "#    return sum([sec_curv(X, Y) for Y in m_on_basis])"
   ]
  },
  {
   "cell_type": "code",
   "execution_count": 24,
   "id": "cce122c1-c59b-4db8-8be6-ba32596a1f34",
   "metadata": {},
   "outputs": [
    {
     "name": "stdout",
     "output_type": "stream",
     "text": [
      "CPU times: user 1.26 s, sys: 26.6 ms, total: 1.29 s\n",
      "Wall time: 866 ms\n"
     ]
    }
   ],
   "source": [
    "sum_Uii = sum([U_tensor(X, X) for X in m_on_basis])\n",
    "%time XiXj = {(i,j): proj_m(lie_bracket(m_on_basis[i], m_on_basis[j])).canonicalize_radical() for i in range(n) for j in range(n)}"
   ]
  },
  {
   "cell_type": "code",
   "execution_count": 25,
   "id": "790504fa-677b-4124-ac40-7b897e8767ac",
   "metadata": {},
   "outputs": [],
   "source": [
    "def ricci_quadratic_form_1(X):\n",
    "    XXi_m = [proj_m(lie_bracket(X, Y)) for Y in m_on_basis]\n",
    "    XXXi_mm = [proj_m(lie_bracket(X, XXi_m[i])) for i in range(n)]\n",
    "    XXXi_hm = [proj_m(lie_bracket(X,proj_h(lie_bracket(X, Y)))) for Y in m_on_basis]\n",
    "    sum1 = -(1/2) * sum([metric_m(Y, Y) for Y in XXi_m])\n",
    "    sum2 = -(1/2) * sum([metric_m(XXXi_mm[i], m_on_basis[i]) for i in range(n)])\n",
    "    sum3 = -sum([metric_m(XXXi_hm[i], m_on_basis[i]) for i in range(n)])\n",
    "    sum4 = (1/4) * sum([metric_m(XiXj[(i,j)], X)^2 for i in range(n) for j in range(n)])\n",
    "    sum5 = -metric_m(proj_m(lie_bracket(sum_Uii, X)), X)\n",
    "    return sum1 + sum2 + sum3 + sum4 + sum5"
   ]
  },
  {
   "cell_type": "code",
   "execution_count": 26,
   "id": "7583dfeb-6244-4837-a6e9-d3c8941f818f",
   "metadata": {},
   "outputs": [
    {
     "name": "stdout",
     "output_type": "stream",
     "text": [
      "CPU times: user 2.6 ms, sys: 0 ns, total: 2.6 ms\n",
      "Wall time: 2.61 ms\n"
     ]
    },
    {
     "data": {
      "text/html": [
       "<html>\\(\\displaystyle \\frac{1}{2}\\)</html>"
      ],
      "text/latex": [
       "$\\displaystyle \\frac{1}{2}$"
      ],
      "text/plain": [
       "1/2"
      ]
     },
     "execution_count": 26,
     "metadata": {},
     "output_type": "execute_result"
    }
   ],
   "source": [
    "%time ricci_quadratic_form_1(m_on_basis[0])"
   ]
  },
  {
   "cell_type": "code",
   "execution_count": 27,
   "id": "8705433d-b885-4516-8107-22b905bd8d6d",
   "metadata": {},
   "outputs": [
    {
     "name": "stdout",
     "output_type": "stream",
     "text": [
      "1/2\n",
      "1/2\n"
     ]
    }
   ],
   "source": [
    "#long time\n",
    "for X in m_on_basis:\n",
    "    print(ricci_quadratic_form_1(X))"
   ]
  },
  {
   "cell_type": "markdown",
   "id": "e78ca50d-582b-460a-a8e4-51e9e989272f",
   "metadata": {},
   "source": [
    "Ahora definimos el tensor de Ricci, empezando por su forma cuadrática y luego polarizando"
   ]
  },
  {
   "cell_type": "code",
   "execution_count": 28,
   "id": "01e36241-7108-4b67-939b-5781b94fd905",
   "metadata": {},
   "outputs": [],
   "source": [
    "#def ricci_tensor(X, Y):\n",
    "#    return (1/2) * (ricci_quadratic_form(X + Y) - ricci_quadratic_form(X) - ricci_quadratic_form(Y))"
   ]
  },
  {
   "cell_type": "code",
   "execution_count": 29,
   "id": "ca77f5ca-27c1-40c0-9de1-56b4a447b593",
   "metadata": {},
   "outputs": [],
   "source": [
    "def ricci_tensor_1(X, Y):\n",
    "    return (1/2) * (ricci_quadratic_form_1(X + Y) - ricci_quadratic_form_1(X) - ricci_quadratic_form_1(Y))"
   ]
  },
  {
   "cell_type": "code",
   "execution_count": 30,
   "id": "d6670c24-b0b6-4c7d-b06b-cb08be4c30f1",
   "metadata": {},
   "outputs": [
    {
     "name": "stdout",
     "output_type": "stream",
     "text": [
      "CPU times: user 9.33 ms, sys: 0 ns, total: 9.33 ms\n",
      "Wall time: 9.28 ms\n"
     ]
    },
    {
     "data": {
      "text/html": [
       "<html>\\(\\displaystyle 0\\)</html>"
      ],
      "text/latex": [
       "$\\displaystyle 0$"
      ],
      "text/plain": [
       "0"
      ]
     },
     "execution_count": 30,
     "metadata": {},
     "output_type": "execute_result"
    }
   ],
   "source": [
    "%time ricci_tensor_1(m_on_basis[0], m_on_basis[1])"
   ]
  },
  {
   "cell_type": "code",
   "execution_count": 31,
   "id": "8cf38c49-0ddf-424e-bf75-3eec41d67770",
   "metadata": {},
   "outputs": [
    {
     "name": "stdout",
     "output_type": "stream",
     "text": [
      "lugares (0,0) y (0,0) completos...\n",
      ".............................\n",
      "lugares (0,1) y (1,0) completos...\n",
      ".............................\n",
      "lugares (1,1) y (1,1) completos...\n",
      ".............................\n"
     ]
    }
   ],
   "source": [
    "Ric = matrix(SR,n,n)\n",
    "\n",
    "# very long time\n",
    "for i in range(n):\n",
    "    for j in range(i,n):\n",
    "        Ric[i,j] = Ric[j, i] = ricci_tensor_1(m_on_basis[i], m_on_basis[j]).canonicalize_radical()\n",
    "        print('lugares ('+ str(i) + ',' +str(j) + ') y (' + str(j) + ',' + str(i) + ') completos...')\n",
    "#        print(Ric)\n",
    "        print(\".............................\")"
   ]
  },
  {
   "cell_type": "code",
   "execution_count": 32,
   "id": "0781edf6-b81e-4b09-8f57-6c0a266c97c1",
   "metadata": {},
   "outputs": [
    {
     "data": {
      "text/html": [
       "<html>\\(\\displaystyle \\left(\\begin{array}{rr}\n",
       "\\frac{1}{2} & 0 \\\\\n",
       "0 & \\frac{1}{2}\n",
       "\\end{array}\\right)\\)</html>"
      ],
      "text/latex": [
       "$\\displaystyle \\left(\\begin{array}{rr}\n",
       "\\frac{1}{2} & 0 \\\\\n",
       "0 & \\frac{1}{2}\n",
       "\\end{array}\\right)$"
      ],
      "text/plain": [
       "[1/2   0]\n",
       "[  0 1/2]"
      ]
     },
     "execution_count": 32,
     "metadata": {},
     "output_type": "execute_result"
    }
   ],
   "source": [
    "Ric"
   ]
  },
  {
   "cell_type": "code",
   "execution_count": 33,
   "id": "0a0bbd2e-32fb-4311-bf02-310a369aa9c2",
   "metadata": {},
   "outputs": [
    {
     "name": "stdout",
     "output_type": "stream",
     "text": [
      "CPU times: user 37 ms, sys: 28 μs, total: 37.1 ms\n",
      "Wall time: 36.8 ms\n"
     ]
    },
    {
     "data": {
      "text/html": [
       "<html>\\(\\displaystyle \\left(\\begin{array}{rr}\n",
       "\\frac{1}{2} & 0 \\\\\n",
       "0 & \\frac{1}{2}\n",
       "\\end{array}\\right)\\)</html>"
      ],
      "text/latex": [
       "$\\displaystyle \\left(\\begin{array}{rr}\n",
       "\\frac{1}{2} & 0 \\\\\n",
       "0 & \\frac{1}{2}\n",
       "\\end{array}\\right)$"
      ],
      "text/plain": [
       "[1/2   0]\n",
       "[  0 1/2]"
      ]
     },
     "execution_count": 33,
     "metadata": {},
     "output_type": "execute_result"
    }
   ],
   "source": [
    "# long time, pero mejora mucho la eficiencia\n",
    "%time Ric = matrix(n, n, lambda i, j: ricci_tensor_1(m_on_basis[i], m_on_basis[j])).canonicalize_radical()\n",
    "Ric"
   ]
  },
  {
   "cell_type": "code",
   "execution_count": 34,
   "id": "39d4222e-3925-485e-acaa-9ffa46cc76d4",
   "metadata": {},
   "outputs": [
    {
     "data": {
      "text/html": [
       "<html>\\(\\displaystyle \\left(\\left(\\begin{array}{rrr}\n",
       "0 & 0 & -\\frac{1}{2} \\, \\sqrt{2} x_{0} \\\\\n",
       "0 & 0 & -\\frac{1}{2} \\, \\sqrt{2} x_{1} \\\\\n",
       "\\frac{1}{2} \\, \\sqrt{2} x_{0} & \\frac{1}{2} \\, \\sqrt{2} x_{1} & 0\n",
       "\\end{array}\\right), \\left(\\begin{array}{rrr}\n",
       "0 & 0 & -\\frac{1}{2} \\, \\sqrt{2} y_{0} \\\\\n",
       "0 & 0 & -\\frac{1}{2} \\, \\sqrt{2} y_{1} \\\\\n",
       "\\frac{1}{2} \\, \\sqrt{2} y_{0} & \\frac{1}{2} \\, \\sqrt{2} y_{1} & 0\n",
       "\\end{array}\\right)\\right)\\)</html>"
      ],
      "text/latex": [
       "$\\displaystyle \\left(\\left(\\begin{array}{rrr}\n",
       "0 & 0 & -\\frac{1}{2} \\, \\sqrt{2} x_{0} \\\\\n",
       "0 & 0 & -\\frac{1}{2} \\, \\sqrt{2} x_{1} \\\\\n",
       "\\frac{1}{2} \\, \\sqrt{2} x_{0} & \\frac{1}{2} \\, \\sqrt{2} x_{1} & 0\n",
       "\\end{array}\\right), \\left(\\begin{array}{rrr}\n",
       "0 & 0 & -\\frac{1}{2} \\, \\sqrt{2} y_{0} \\\\\n",
       "0 & 0 & -\\frac{1}{2} \\, \\sqrt{2} y_{1} \\\\\n",
       "\\frac{1}{2} \\, \\sqrt{2} y_{0} & \\frac{1}{2} \\, \\sqrt{2} y_{1} & 0\n",
       "\\end{array}\\right)\\right)$"
      ],
      "text/plain": [
       "(\n",
       "[              0               0 -1/2*sqrt(2)*x0]\n",
       "[              0               0 -1/2*sqrt(2)*x1]\n",
       "[ 1/2*sqrt(2)*x0  1/2*sqrt(2)*x1               0],\n",
       "\n",
       "[              0               0 -1/2*sqrt(2)*y0]\n",
       "[              0               0 -1/2*sqrt(2)*y1]\n",
       "[ 1/2*sqrt(2)*y0  1/2*sqrt(2)*y1               0]\n",
       ")"
      ]
     },
     "execution_count": 34,
     "metadata": {},
     "output_type": "execute_result"
    }
   ],
   "source": [
    "# Cáculo explícito de la curvatura seccional\n",
    "\n",
    "gen_vars_m = [var(\"x\"+str(i)) for i in range(len(m_on_basis))]\n",
    "gen_vars_m_1 = [var(\"y\"+str(i)) for i in range(len(m_on_basis))]\n",
    "m_gen = sum([gen_vars_m[i] * m_on_basis[i] for i in range(len(m_on_basis))])\n",
    "m_gen_1 = sum([gen_vars_m_1[i] * m_on_basis[i] for i in range(len(m_on_basis))])\n",
    "m_gen, m_gen_1"
   ]
  },
  {
   "cell_type": "code",
   "execution_count": 35,
   "id": "b8ce37ee-275f-432d-b559-2d777ed105a4",
   "metadata": {},
   "outputs": [
    {
     "data": {
      "text/html": [
       "<html>\\(\\displaystyle \\frac{1}{2} \\, {\\left(x_{1} y_{0} - x_{0} y_{1}\\right)}^{2}\\)</html>"
      ],
      "text/latex": [
       "$\\displaystyle \\frac{1}{2} \\, {\\left(x_{1} y_{0} - x_{0} y_{1}\\right)}^{2}$"
      ],
      "text/plain": [
       "1/2*(x1*y0 - x0*y1)^2"
      ]
     },
     "execution_count": 35,
     "metadata": {},
     "output_type": "execute_result"
    }
   ],
   "source": [
    "sec_curv(m_gen, m_gen_1).factor()"
   ]
  },
  {
   "cell_type": "code",
   "execution_count": 36,
   "id": "60ed7a39-199f-4d11-bad1-c52ce6dc9219",
   "metadata": {},
   "outputs": [
    {
     "data": {
      "text/html": [
       "<html>\\(\\displaystyle \\frac{1}{2}\\)</html>"
      ],
      "text/latex": [
       "$\\displaystyle \\frac{1}{2}$"
      ],
      "text/plain": [
       "1/2"
      ]
     },
     "execution_count": 36,
     "metadata": {},
     "output_type": "execute_result"
    }
   ],
   "source": [
    "(sec_curv(m_gen, m_gen_1) / (metric_m(m_gen, m_gen) * metric_m(m_gen_1, m_gen_1) - metric_m(m_gen, m_gen_1)^2)).factor()"
   ]
  },
  {
   "cell_type": "markdown",
   "id": "d30c25e9-148a-4adb-9188-a394671a85d4",
   "metadata": {},
   "source": [
    "## La esfera $S^3 = \\operatorname{SO}(4) / \\operatorname{SO}(3)$"
   ]
  },
  {
   "cell_type": "code",
   "execution_count": 37,
   "id": "51df7d26-2e29-4a5c-9675-5ad5d9648342",
   "metadata": {},
   "outputs": [
    {
     "data": {
      "text/html": [
       "<html>\\(\\displaystyle \\left[\\left(\\begin{array}{rrrr}\n",
       "0 & -1 & 0 & 0 \\\\\n",
       "1 & 0 & 0 & 0 \\\\\n",
       "0 & 0 & 0 & 0 \\\\\n",
       "0 & 0 & 0 & 0\n",
       "\\end{array}\\right), \\left(\\begin{array}{rrrr}\n",
       "0 & 0 & -1 & 0 \\\\\n",
       "0 & 0 & 0 & 0 \\\\\n",
       "1 & 0 & 0 & 0 \\\\\n",
       "0 & 0 & 0 & 0\n",
       "\\end{array}\\right), \\left(\\begin{array}{rrrr}\n",
       "0 & 0 & 0 & 0 \\\\\n",
       "0 & 0 & -1 & 0 \\\\\n",
       "0 & 1 & 0 & 0 \\\\\n",
       "0 & 0 & 0 & 0\n",
       "\\end{array}\\right), \\left(\\begin{array}{rrrr}\n",
       "0 & 0 & 0 & -1 \\\\\n",
       "0 & 0 & 0 & 0 \\\\\n",
       "0 & 0 & 0 & 0 \\\\\n",
       "1 & 0 & 0 & 0\n",
       "\\end{array}\\right), \\left(\\begin{array}{rrrr}\n",
       "0 & 0 & 0 & 0 \\\\\n",
       "0 & 0 & 0 & -1 \\\\\n",
       "0 & 0 & 0 & 0 \\\\\n",
       "0 & 1 & 0 & 0\n",
       "\\end{array}\\right), \\left(\\begin{array}{rrrr}\n",
       "0 & 0 & 0 & 0 \\\\\n",
       "0 & 0 & 0 & 0 \\\\\n",
       "0 & 0 & 0 & -1 \\\\\n",
       "0 & 0 & 1 & 0\n",
       "\\end{array}\\right)\\right]\\)</html>"
      ],
      "text/latex": [
       "$\\displaystyle \\left[\\left(\\begin{array}{rrrr}\n",
       "0 & -1 & 0 & 0 \\\\\n",
       "1 & 0 & 0 & 0 \\\\\n",
       "0 & 0 & 0 & 0 \\\\\n",
       "0 & 0 & 0 & 0\n",
       "\\end{array}\\right), \\left(\\begin{array}{rrrr}\n",
       "0 & 0 & -1 & 0 \\\\\n",
       "0 & 0 & 0 & 0 \\\\\n",
       "1 & 0 & 0 & 0 \\\\\n",
       "0 & 0 & 0 & 0\n",
       "\\end{array}\\right), \\left(\\begin{array}{rrrr}\n",
       "0 & 0 & 0 & 0 \\\\\n",
       "0 & 0 & -1 & 0 \\\\\n",
       "0 & 1 & 0 & 0 \\\\\n",
       "0 & 0 & 0 & 0\n",
       "\\end{array}\\right), \\left(\\begin{array}{rrrr}\n",
       "0 & 0 & 0 & -1 \\\\\n",
       "0 & 0 & 0 & 0 \\\\\n",
       "0 & 0 & 0 & 0 \\\\\n",
       "1 & 0 & 0 & 0\n",
       "\\end{array}\\right), \\left(\\begin{array}{rrrr}\n",
       "0 & 0 & 0 & 0 \\\\\n",
       "0 & 0 & 0 & -1 \\\\\n",
       "0 & 0 & 0 & 0 \\\\\n",
       "0 & 1 & 0 & 0\n",
       "\\end{array}\\right), \\left(\\begin{array}{rrrr}\n",
       "0 & 0 & 0 & 0 \\\\\n",
       "0 & 0 & 0 & 0 \\\\\n",
       "0 & 0 & 0 & -1 \\\\\n",
       "0 & 0 & 1 & 0\n",
       "\\end{array}\\right)\\right]$"
      ],
      "text/plain": [
       "[\n",
       "[ 0 -1  0  0]  [ 0  0 -1  0]  [ 0  0  0  0]  [ 0  0  0 -1]\n",
       "[ 1  0  0  0]  [ 0  0  0  0]  [ 0  0 -1  0]  [ 0  0  0  0]\n",
       "[ 0  0  0  0]  [ 1  0  0  0]  [ 0  1  0  0]  [ 0  0  0  0]\n",
       "[ 0  0  0  0], [ 0  0  0  0], [ 0  0  0  0], [ 1  0  0  0],\n",
       "\n",
       "[ 0  0  0  0]  [ 0  0  0  0]\n",
       "[ 0  0  0 -1]  [ 0  0  0  0]\n",
       "[ 0  0  0  0]  [ 0  0  0 -1]\n",
       "[ 0  1  0  0], [ 0  0  1  0]\n",
       "]"
      ]
     },
     "execution_count": 37,
     "metadata": {},
     "output_type": "execute_result"
    }
   ],
   "source": [
    "#Test round sphere\n",
    "g_initial_basis = [\n",
    "    matrix(SR,[[0,-1,0,0],[1,0,0,0],[0,0,0,0],[0,0,0,0]]),\n",
    "    matrix(SR,[[0,0,-1,0],[0,0,0,0],[1,0,0,0],[0,0,0,0]]),\n",
    "    matrix(SR,[[0,0,0,0],[0,0,-1,0],[0,1,0,0],[0,0,0,0]]),\n",
    "    matrix(SR,[[0,0,0,-1],[0,0,0,0],[0,0,0,0],[1,0,0,0]]),\n",
    "    matrix(SR,[[0,0,0,0],[0,0,0,-1],[0,0,0,0],[0,1,0,0]]),\n",
    "    matrix(SR,[[0,0,0,0],[0,0,0,0],[0,0,0,-1],[0,0,1,0]]),\n",
    "]\n",
    "g_initial_basis"
   ]
  },
  {
   "cell_type": "code",
   "execution_count": 38,
   "id": "32cde367-4c9b-4f56-8cc8-9cbf3b1bd9ae",
   "metadata": {},
   "outputs": [
    {
     "data": {
      "text/html": [
       "<html>\\(\\displaystyle \\mathrm{True}\\)</html>"
      ],
      "text/latex": [
       "$\\displaystyle \\mathrm{True}$"
      ],
      "text/plain": [
       "True"
      ]
     },
     "execution_count": 38,
     "metadata": {},
     "output_type": "execute_result"
    }
   ],
   "source": [
    "is_lie_algebra(g_initial_basis)"
   ]
  },
  {
   "cell_type": "code",
   "execution_count": 39,
   "id": "04d94c1a-da56-4bd8-8019-94228ea3e3ad",
   "metadata": {},
   "outputs": [
    {
     "data": {
      "text/html": [
       "<html>\\(\\displaystyle \\left[\\left(\\begin{array}{rrrr}\n",
       "0 & -1 & 0 & 0 \\\\\n",
       "1 & 0 & 0 & 0 \\\\\n",
       "0 & 0 & 0 & 0 \\\\\n",
       "0 & 0 & 0 & 0\n",
       "\\end{array}\\right), \\left(\\begin{array}{rrrr}\n",
       "0 & 0 & -1 & 0 \\\\\n",
       "0 & 0 & 0 & 0 \\\\\n",
       "1 & 0 & 0 & 0 \\\\\n",
       "0 & 0 & 0 & 0\n",
       "\\end{array}\\right), \\left(\\begin{array}{rrrr}\n",
       "0 & 0 & 0 & 0 \\\\\n",
       "0 & 0 & -1 & 0 \\\\\n",
       "0 & 1 & 0 & 0 \\\\\n",
       "0 & 0 & 0 & 0\n",
       "\\end{array}\\right)\\right]\\)</html>"
      ],
      "text/latex": [
       "$\\displaystyle \\left[\\left(\\begin{array}{rrrr}\n",
       "0 & -1 & 0 & 0 \\\\\n",
       "1 & 0 & 0 & 0 \\\\\n",
       "0 & 0 & 0 & 0 \\\\\n",
       "0 & 0 & 0 & 0\n",
       "\\end{array}\\right), \\left(\\begin{array}{rrrr}\n",
       "0 & 0 & -1 & 0 \\\\\n",
       "0 & 0 & 0 & 0 \\\\\n",
       "1 & 0 & 0 & 0 \\\\\n",
       "0 & 0 & 0 & 0\n",
       "\\end{array}\\right), \\left(\\begin{array}{rrrr}\n",
       "0 & 0 & 0 & 0 \\\\\n",
       "0 & 0 & -1 & 0 \\\\\n",
       "0 & 1 & 0 & 0 \\\\\n",
       "0 & 0 & 0 & 0\n",
       "\\end{array}\\right)\\right]$"
      ],
      "text/plain": [
       "[\n",
       "[ 0 -1  0  0]  [ 0  0 -1  0]  [ 0  0  0  0]\n",
       "[ 1  0  0  0]  [ 0  0  0  0]  [ 0  0 -1  0]\n",
       "[ 0  0  0  0]  [ 1  0  0  0]  [ 0  1  0  0]\n",
       "[ 0  0  0  0], [ 0  0  0  0], [ 0  0  0  0]\n",
       "]"
      ]
     },
     "execution_count": 39,
     "metadata": {},
     "output_type": "execute_result"
    }
   ],
   "source": [
    "h_initial_basis = g_initial_basis[:3]\n",
    "h_initial_basis"
   ]
  },
  {
   "cell_type": "code",
   "execution_count": 40,
   "id": "4be44c39-d26f-4d35-8331-6c8b423ae4fa",
   "metadata": {},
   "outputs": [],
   "source": [
    "def is_subalgebra(h_basis, g_basis):\n",
    "    if is_lie_algebra(h_basis):\n",
    "        for X in h_basis:\n",
    "            if is_li(g_basis + [X]):\n",
    "                return False\n",
    "        return True"
   ]
  },
  {
   "cell_type": "code",
   "execution_count": 41,
   "id": "e6997a81-5433-4147-a250-d4208ab026db",
   "metadata": {},
   "outputs": [
    {
     "data": {
      "text/html": [
       "<html>\\(\\displaystyle \\mathrm{True}\\)</html>"
      ],
      "text/latex": [
       "$\\displaystyle \\mathrm{True}$"
      ],
      "text/plain": [
       "True"
      ]
     },
     "execution_count": 41,
     "metadata": {},
     "output_type": "execute_result"
    }
   ],
   "source": [
    "is_subalgebra(h_initial_basis, g_initial_basis)"
   ]
  },
  {
   "cell_type": "code",
   "execution_count": 42,
   "id": "850cf9df-8647-441e-bcb3-5154701982bc",
   "metadata": {},
   "outputs": [],
   "source": [
    "def gram_schdmidt(basis, metric):\n",
    "    on_basis = []\n",
    "    for i, X in enumerate(basis):\n",
    "        Y = X\n",
    "        for j in range(i):\n",
    "            Y -= metric(X, on_basis[j]) * on_basis[j]\n",
    "        on_basis.append(1/sqrt(metric(Y, Y)) * Y)\n",
    "    return on_basis"
   ]
  },
  {
   "cell_type": "code",
   "execution_count": 43,
   "id": "c896511e-cb99-4717-9ad1-9806230c19ff",
   "metadata": {},
   "outputs": [],
   "source": [
    "g_adapted_basis = h_initial_basis.copy()\n",
    "for X in g_initial_basis:\n",
    "    if is_li(g_adapted_basis + [X]):\n",
    "        g_adapted_basis.append(X)\n",
    "\n",
    "g_on_basis = gram_schdmidt(g_adapted_basis, biinv_metric)\n",
    "h_on_basis = g_on_basis[:len(h_initial_basis)]"
   ]
  },
  {
   "cell_type": "code",
   "execution_count": 44,
   "id": "fd10a490-1877-4993-887a-4ba0f043aeb8",
   "metadata": {},
   "outputs": [
    {
     "data": {
      "text/html": [
       "<html>\\(\\displaystyle \\mathrm{False}\\)</html>"
      ],
      "text/latex": [
       "$\\displaystyle \\mathrm{False}$"
      ],
      "text/plain": [
       "False"
      ]
     },
     "execution_count": 44,
     "metadata": {},
     "output_type": "execute_result"
    }
   ],
   "source": [
    "g_on_basis == g_initial_basis"
   ]
  },
  {
   "cell_type": "code",
   "execution_count": 45,
   "id": "fbe925ee-003f-4b94-8173-a329642446ff",
   "metadata": {},
   "outputs": [
    {
     "data": {
      "text/html": [
       "<html>\\(\\displaystyle \\left[\\left(\\begin{array}{rrrr}\n",
       "0 & -\\frac{1}{2} \\, \\sqrt{2} & 0 & 0 \\\\\n",
       "\\frac{1}{2} \\, \\sqrt{2} & 0 & 0 & 0 \\\\\n",
       "0 & 0 & 0 & 0 \\\\\n",
       "0 & 0 & 0 & 0\n",
       "\\end{array}\\right), \\left(\\begin{array}{rrrr}\n",
       "0 & 0 & -\\frac{1}{2} \\, \\sqrt{2} & 0 \\\\\n",
       "0 & 0 & 0 & 0 \\\\\n",
       "\\frac{1}{2} \\, \\sqrt{2} & 0 & 0 & 0 \\\\\n",
       "0 & 0 & 0 & 0\n",
       "\\end{array}\\right), \\left(\\begin{array}{rrrr}\n",
       "0 & 0 & 0 & 0 \\\\\n",
       "0 & 0 & -\\frac{1}{2} \\, \\sqrt{2} & 0 \\\\\n",
       "0 & \\frac{1}{2} \\, \\sqrt{2} & 0 & 0 \\\\\n",
       "0 & 0 & 0 & 0\n",
       "\\end{array}\\right), \\left(\\begin{array}{rrrr}\n",
       "0 & 0 & 0 & -\\frac{1}{2} \\, \\sqrt{2} \\\\\n",
       "0 & 0 & 0 & 0 \\\\\n",
       "0 & 0 & 0 & 0 \\\\\n",
       "\\frac{1}{2} \\, \\sqrt{2} & 0 & 0 & 0\n",
       "\\end{array}\\right), \\left(\\begin{array}{rrrr}\n",
       "0 & 0 & 0 & 0 \\\\\n",
       "0 & 0 & 0 & -\\frac{1}{2} \\, \\sqrt{2} \\\\\n",
       "0 & 0 & 0 & 0 \\\\\n",
       "0 & \\frac{1}{2} \\, \\sqrt{2} & 0 & 0\n",
       "\\end{array}\\right), \\left(\\begin{array}{rrrr}\n",
       "0 & 0 & 0 & 0 \\\\\n",
       "0 & 0 & 0 & 0 \\\\\n",
       "0 & 0 & 0 & -\\frac{1}{2} \\, \\sqrt{2} \\\\\n",
       "0 & 0 & \\frac{1}{2} \\, \\sqrt{2} & 0\n",
       "\\end{array}\\right)\\right]\\)</html>"
      ],
      "text/latex": [
       "$\\displaystyle \\left[\\left(\\begin{array}{rrrr}\n",
       "0 & -\\frac{1}{2} \\, \\sqrt{2} & 0 & 0 \\\\\n",
       "\\frac{1}{2} \\, \\sqrt{2} & 0 & 0 & 0 \\\\\n",
       "0 & 0 & 0 & 0 \\\\\n",
       "0 & 0 & 0 & 0\n",
       "\\end{array}\\right), \\left(\\begin{array}{rrrr}\n",
       "0 & 0 & -\\frac{1}{2} \\, \\sqrt{2} & 0 \\\\\n",
       "0 & 0 & 0 & 0 \\\\\n",
       "\\frac{1}{2} \\, \\sqrt{2} & 0 & 0 & 0 \\\\\n",
       "0 & 0 & 0 & 0\n",
       "\\end{array}\\right), \\left(\\begin{array}{rrrr}\n",
       "0 & 0 & 0 & 0 \\\\\n",
       "0 & 0 & -\\frac{1}{2} \\, \\sqrt{2} & 0 \\\\\n",
       "0 & \\frac{1}{2} \\, \\sqrt{2} & 0 & 0 \\\\\n",
       "0 & 0 & 0 & 0\n",
       "\\end{array}\\right), \\left(\\begin{array}{rrrr}\n",
       "0 & 0 & 0 & -\\frac{1}{2} \\, \\sqrt{2} \\\\\n",
       "0 & 0 & 0 & 0 \\\\\n",
       "0 & 0 & 0 & 0 \\\\\n",
       "\\frac{1}{2} \\, \\sqrt{2} & 0 & 0 & 0\n",
       "\\end{array}\\right), \\left(\\begin{array}{rrrr}\n",
       "0 & 0 & 0 & 0 \\\\\n",
       "0 & 0 & 0 & -\\frac{1}{2} \\, \\sqrt{2} \\\\\n",
       "0 & 0 & 0 & 0 \\\\\n",
       "0 & \\frac{1}{2} \\, \\sqrt{2} & 0 & 0\n",
       "\\end{array}\\right), \\left(\\begin{array}{rrrr}\n",
       "0 & 0 & 0 & 0 \\\\\n",
       "0 & 0 & 0 & 0 \\\\\n",
       "0 & 0 & 0 & -\\frac{1}{2} \\, \\sqrt{2} \\\\\n",
       "0 & 0 & \\frac{1}{2} \\, \\sqrt{2} & 0\n",
       "\\end{array}\\right)\\right]$"
      ],
      "text/plain": [
       "[\n",
       "[           0 -1/2*sqrt(2)            0            0]\n",
       "[ 1/2*sqrt(2)            0            0            0]\n",
       "[           0            0            0            0]\n",
       "[           0            0            0            0],\n",
       "\n",
       "[           0            0 -1/2*sqrt(2)            0]\n",
       "[           0            0            0            0]\n",
       "[ 1/2*sqrt(2)            0            0            0]\n",
       "[           0            0            0            0],\n",
       "\n",
       "[           0            0            0            0]\n",
       "[           0            0 -1/2*sqrt(2)            0]\n",
       "[           0  1/2*sqrt(2)            0            0]\n",
       "[           0            0            0            0],\n",
       "\n",
       "[           0            0            0 -1/2*sqrt(2)]\n",
       "[           0            0            0            0]\n",
       "[           0            0            0            0]\n",
       "[ 1/2*sqrt(2)            0            0            0],\n",
       "\n",
       "[           0            0            0            0]\n",
       "[           0            0            0 -1/2*sqrt(2)]\n",
       "[           0            0            0            0]\n",
       "[           0  1/2*sqrt(2)            0            0],\n",
       "\n",
       "[           0            0            0            0]\n",
       "[           0            0            0            0]\n",
       "[           0            0            0 -1/2*sqrt(2)]\n",
       "[           0            0  1/2*sqrt(2)            0]\n",
       "]"
      ]
     },
     "execution_count": 45,
     "metadata": {},
     "output_type": "execute_result"
    }
   ],
   "source": [
    "g_on_basis"
   ]
  },
  {
   "cell_type": "code",
   "execution_count": 46,
   "id": "910a9526-218f-42af-b364-5d59854b9f5d",
   "metadata": {},
   "outputs": [],
   "source": [
    "m_initial_basis = g_on_basis[len(h_initial_basis):]\n",
    "n = len(m_initial_basis)"
   ]
  },
  {
   "cell_type": "code",
   "execution_count": 47,
   "id": "76a1fa04-14fc-4457-bb27-56653427d893",
   "metadata": {},
   "outputs": [],
   "source": [
    "def proj_h(X):\n",
    "    return X - sum([biinv_metric(X, Y) * Y for Y in m_initial_basis])\n",
    "\n",
    "def proj_m(X):\n",
    "    return X - sum([biinv_metric(X, Y) * Y for Y in h_on_basis])"
   ]
  },
  {
   "cell_type": "code",
   "execution_count": 48,
   "id": "f00e1503-d035-4558-870f-036a7901e9b4",
   "metadata": {},
   "outputs": [],
   "source": [
    "# Test con metrica normal homogenea\n",
    "metric_m = biinv_metric"
   ]
  },
  {
   "cell_type": "code",
   "execution_count": 49,
   "id": "b87546a6-0e39-4361-a05e-c0e111d0e7fa",
   "metadata": {},
   "outputs": [
    {
     "name": "stdout",
     "output_type": "stream",
     "text": [
      "[1 0 0]\n",
      "[0 1 0]\n",
      "[0 0 1]\n",
      "\n",
      "[1 0 0]\n",
      "[0 1 0]\n",
      "[0 0 1]\n"
     ]
    }
   ],
   "source": [
    "m_on_basis = gram_schdmidt(m_initial_basis, metric_m)\n",
    "print(matrix(n, n, lambda i, j: metric_m(m_initial_basis[i], m_initial_basis[j])))\n",
    "print(\"\")\n",
    "print(matrix(n, n, lambda i, j: metric_m(m_on_basis[i], m_on_basis[j])))"
   ]
  },
  {
   "cell_type": "markdown",
   "id": "fdfa083c-df24-451e-a5ff-37b0cddd3a17",
   "metadata": {},
   "source": [
    "**Chequeamos la Ad-invariancia.** Por simplicidad trabajaremos al nivel del  álgebra de Lie verificando que $\\operatorname{ad}_X |_{\\mathfrak m}: \\mathfrak m \\to \\mathfrak m$ sea antisimétrica para cada $X \\in \\mathfrak h$. Si denotamos por $X_1, \\ldots, X_n$ la base ortonormal de $\\mathfrak m$, entonces la matriz de $\\operatorname{ad}_X$ en esta base esta dada por\n",
    "$$(a_{ij}) = ( \\langle [X, X_j], X_i\\rangle)$$"
   ]
  },
  {
   "cell_type": "code",
   "execution_count": 50,
   "id": "35590185-3382-41ae-8048-11284ec2cc94",
   "metadata": {},
   "outputs": [],
   "source": [
    "def ad_matrix_m(X):\n",
    "    return matrix(n, n, lambda i, j: metric_m(lie_bracket(X, m_on_basis[j]), m_on_basis[i]))"
   ]
  },
  {
   "cell_type": "code",
   "execution_count": 51,
   "id": "59ce50d6-5bbe-4505-b9b2-a3e30ec70bdc",
   "metadata": {},
   "outputs": [
    {
     "name": "stdout",
     "output_type": "stream",
     "text": [
      "True\n",
      "True\n",
      "True\n"
     ]
    }
   ],
   "source": [
    "for X in h_on_basis:\n",
    "    print(ad_matrix_m(X).is_skew_symmetric())"
   ]
  },
  {
   "cell_type": "markdown",
   "id": "7d176d46-3a4d-4271-8c3e-8c9821ecc711",
   "metadata": {},
   "source": [
    "**Conexión de Levi-Civita:** para todos $X, Y \\in \\mathfrak m$, $$(\\nabla_{X^*} Y^*)_o = - \\frac12 [X, Y]_{\\mathfrak m} + U(X, Y)$$ en donde $U: \\mathfrak m \\times \\mathfrak m \\to \\mathfrak m$ está determinado implícitamente por la fórmula $$2 \\langle U(X, Y), Z\\rangle = \\langle [Z, X]_{\\mathfrak m}, Y \\rangle + \\langle X, [Z, Y]_{\\mathfrak m}\\rangle$$ para todo $Z \\in \\mathfrak m$\n"
   ]
  },
  {
   "cell_type": "code",
   "execution_count": 52,
   "id": "48b8c2ea-0dd4-4425-b394-0d89e3be793b",
   "metadata": {},
   "outputs": [],
   "source": [
    "def U_tensor(X, Y):\n",
    "    return (1/2) * sum([(metric_m(proj_m(lie_bracket(Z,X)),Y) + metric_m(X, proj_m(lie_bracket(Z, Y)))) * Z for Z in m_on_basis])\n",
    "\n",
    "def levi_civita(X, Y):\n",
    "    \"\"\"\n",
    "    Estamos identificando X, Y con los campos de Killing asociados!!!\n",
    "    \"\"\"\n",
    "    return -(1/2) * proj_m(lie_bracket(X, Y)) + U_tensor(X, Y)"
   ]
  },
  {
   "cell_type": "code",
   "execution_count": 53,
   "id": "712abe7e-cdbe-49bf-a5e1-0b1457cf54a0",
   "metadata": {},
   "outputs": [
    {
     "name": "stdout",
     "output_type": "stream",
     "text": [
      "CPU times: user 43.8 ms, sys: 3.14 ms, total: 46.9 ms\n",
      "Wall time: 47 ms\n"
     ]
    },
    {
     "data": {
      "text/html": [
       "<html>\\(\\displaystyle \\verb|{True}|\\)</html>"
      ],
      "text/latex": [
       "$\\displaystyle \\verb|{True}|$"
      ],
      "text/plain": [
       "{True}"
      ]
     },
     "execution_count": 53,
     "metadata": {},
     "output_type": "execute_result"
    }
   ],
   "source": [
    "# Chequeamos si la metrica es naturalmente reductiva\n",
    "# long time\n",
    "%time set([U_tensor(X, Y) == 0 for X in m_on_basis for Y in m_on_basis])"
   ]
  },
  {
   "cell_type": "markdown",
   "id": "7ab13940-4222-463b-9924-914062b8566b",
   "metadata": {},
   "source": [
    "**Curvatura seccional:** para todos $X, Y \\in \\mathfrak m$\n",
    "\\begin{align*}\n",
    "\\langle R(X, Y) X, Y\\rangle  = & -\\frac34 \\langle [X, Y]_{\\mathfrak m}, [X, Y]_{\\mathfrak m}\\rangle - \\frac12 \\langle [X, [X, Y]_{\\mathfrak m} ]_{\\mathfrak m}, Y\\rangle \\\\\n",
    "& -\\frac12 \\langle [Y, [Y, X]_{\\mathfrak m} ]_{\\mathfrak m}, X\\rangle + \\langle U(X, Y), U(X, Y)\\rangle \\\\\n",
    "& - \\langle U(X, X), U(Y, Y) \\rangle + \\langle Y, [ [X, Y]_{\\mathfrak h}, X]_{\\mathfrak m}\\rangle\n",
    "\\end{align*}\n"
   ]
  },
  {
   "cell_type": "code",
   "execution_count": 54,
   "id": "9654ec2e-c0bb-4a69-86eb-3a9579cc2410",
   "metadata": {},
   "outputs": [],
   "source": [
    "def sec_curv(X, Y):\n",
    "    sum1 = -(3/4) * metric_m(proj_m(lie_bracket(X, Y)), proj_m(lie_bracket(X, Y)))\n",
    "    sum2 = -(1/2) * metric_m(proj_m(lie_bracket(X, proj_m(lie_bracket(X, Y)))), Y)\n",
    "    sum3 = -(1/2) * metric_m(proj_m(lie_bracket(Y, proj_m(lie_bracket(Y, X)))), X)\n",
    "    sum4 = metric_m(U_tensor(X, Y), U_tensor(X, Y))\n",
    "    sum5 = -metric_m(U_tensor(X, X), U_tensor(Y, Y))\n",
    "    sum6 = metric_m(Y, proj_m(lie_bracket(proj_h(lie_bracket(X, Y)), X)))\n",
    "    return sum1 + sum2 + sum3 + sum4 + sum5 + sum6"
   ]
  },
  {
   "cell_type": "code",
   "execution_count": 55,
   "id": "f2f1923e-26e5-424f-9d89-3a69e67e4dd0",
   "metadata": {},
   "outputs": [
    {
     "name": "stdout",
     "output_type": "stream",
     "text": [
      "1/2\n",
      "1/2\n",
      "1/2\n",
      "\n",
      "Fin.\n"
     ]
    }
   ],
   "source": [
    "# long time\n",
    "for i in range(n):\n",
    "    for j in range(i+1,n):\n",
    "        print(sec_curv(m_on_basis[i], m_on_basis[j]))\n",
    "print(\"\")\n",
    "print(\"Fin.\")"
   ]
  },
  {
   "cell_type": "markdown",
   "id": "1266ddfe-77fb-4923-a1cc-bb13cae7d992",
   "metadata": {},
   "source": [
    "**Curvatura de Ricci:** Fijemos una base ortonormal $X_1, \\ldots, X_n$ de $\\mathfrak m$. Entonces para todo $X \\in \\mathfrak m$ se tiene\n",
    "\\begin{align*}\n",
    "\\operatorname{Ric}(X, X) = & \\sum_i \\langle R(X, X_i) X, X_i\\rangle \\\\\n",
    "= & -\\frac12 \\sum_i \\langle [X, X_i]_{\\mathfrak m}, [X, X_i]_{\\mathfrak m} \\rangle - \\frac12 \\sum_i \\langle [X, [X, X_i]_{\\mathfrak m} ]_{\\mathfrak m}, X_i\\rangle \\\\\n",
    "& -\\sum_i \\langle [ X, [X, X_i]_{\\mathfrak h} ]_{\\mathfrak m}, X_i\\rangle + \\frac14 \\sum_{i, j} \\langle [X_i, X_j]_{\\mathfrak m}, X\\rangle^2 \\\\\n",
    "&- \\langle [Z, X]_{\\mathfrak m}, X \\rangle,\n",
    "\\end{align*}\n",
    "en donde $Z = \\sum_i U(X_i, X_i)$ (el cual puede calcularse implícitamente por $\\langle Z, X\\rangle = \\operatorname{tr} \\operatorname {ad}_X$)\n"
   ]
  },
  {
   "cell_type": "code",
   "execution_count": 56,
   "id": "e881e986-14d4-4993-9c7f-e8a02cfeb8de",
   "metadata": {},
   "outputs": [],
   "source": [
    "# Implementacion menos eficiente\n",
    "#def ricci_quadratic_form(X):\n",
    "#    return sum([sec_curv(X, Y) for Y in m_on_basis])"
   ]
  },
  {
   "cell_type": "code",
   "execution_count": 57,
   "id": "9a7c7a1f-20e1-4d8d-99f9-6eef278feeeb",
   "metadata": {},
   "outputs": [
    {
     "name": "stdout",
     "output_type": "stream",
     "text": [
      "CPU times: user 125 ms, sys: 10.2 ms, total: 136 ms\n",
      "Wall time: 114 ms\n"
     ]
    }
   ],
   "source": [
    "sum_Uii = sum([U_tensor(X, X) for X in m_on_basis])\n",
    "%time XiXj = {(i,j): proj_m(lie_bracket(m_on_basis[i], m_on_basis[j])).canonicalize_radical() for i in range(n) for j in range(n)}"
   ]
  },
  {
   "cell_type": "code",
   "execution_count": 58,
   "id": "2d231024-c640-40b7-9395-1d7bf0c8c814",
   "metadata": {},
   "outputs": [],
   "source": [
    "def ricci_quadratic_form_1(X):\n",
    "    XXi_m = [proj_m(lie_bracket(X, Y)) for Y in m_on_basis]\n",
    "    XXXi_mm = [proj_m(lie_bracket(X, XXi_m[i])) for i in range(n)]\n",
    "    XXXi_hm = [proj_m(lie_bracket(X,proj_h(lie_bracket(X, Y)))) for Y in m_on_basis]\n",
    "    sum1 = -(1/2) * sum([metric_m(Y, Y) for Y in XXi_m])\n",
    "    sum2 = -(1/2) * sum([metric_m(XXXi_mm[i], m_on_basis[i]) for i in range(n)])\n",
    "    sum3 = -sum([metric_m(XXXi_hm[i], m_on_basis[i]) for i in range(n)])\n",
    "    sum4 = (1/4) * sum([metric_m(XiXj[(i,j)], X)^2 for i in range(n) for j in range(n)])\n",
    "    sum5 = -metric_m(proj_m(lie_bracket(sum_Uii, X)), X)\n",
    "    return sum1 + sum2 + sum3 + sum4 + sum5"
   ]
  },
  {
   "cell_type": "code",
   "execution_count": 59,
   "id": "d6451249-22b9-4816-af17-91293a3fd74a",
   "metadata": {},
   "outputs": [
    {
     "name": "stdout",
     "output_type": "stream",
     "text": [
      "CPU times: user 12.3 ms, sys: 0 ns, total: 12.3 ms\n",
      "Wall time: 11.7 ms\n"
     ]
    },
    {
     "data": {
      "text/html": [
       "<html>\\(\\displaystyle 1\\)</html>"
      ],
      "text/latex": [
       "$\\displaystyle 1$"
      ],
      "text/plain": [
       "1"
      ]
     },
     "execution_count": 59,
     "metadata": {},
     "output_type": "execute_result"
    }
   ],
   "source": [
    "%time ricci_quadratic_form_1(m_on_basis[0])"
   ]
  },
  {
   "cell_type": "code",
   "execution_count": 60,
   "id": "9658fe46-4c83-461d-83c9-7f2633310228",
   "metadata": {},
   "outputs": [
    {
     "name": "stdout",
     "output_type": "stream",
     "text": [
      "1\n",
      "1\n",
      "1\n"
     ]
    }
   ],
   "source": [
    "#long time\n",
    "for X in m_on_basis:\n",
    "    print(ricci_quadratic_form_1(X))"
   ]
  },
  {
   "cell_type": "markdown",
   "id": "0b6cd90d-942d-4301-8040-8fafc400300f",
   "metadata": {},
   "source": [
    "Ahora definimos el tensor de Ricci, empezando por su forma cuadrática y luego polarizando"
   ]
  },
  {
   "cell_type": "code",
   "execution_count": 61,
   "id": "26e17077-cae0-4e2e-824e-e3530c13785b",
   "metadata": {},
   "outputs": [],
   "source": [
    "#def ricci_tensor(X, Y):\n",
    "#    return (1/2) * (ricci_quadratic_form(X + Y) - ricci_quadratic_form(X) - ricci_quadratic_form(Y))"
   ]
  },
  {
   "cell_type": "code",
   "execution_count": 62,
   "id": "bb015f9d-9297-43a3-8d48-90c517c22e4b",
   "metadata": {},
   "outputs": [],
   "source": [
    "def ricci_tensor_1(X, Y):\n",
    "    return (1/2) * (ricci_quadratic_form_1(X + Y) - ricci_quadratic_form_1(X) - ricci_quadratic_form_1(Y))"
   ]
  },
  {
   "cell_type": "code",
   "execution_count": 63,
   "id": "b732dd36-797f-41ce-b7e1-6f2694561728",
   "metadata": {},
   "outputs": [
    {
     "name": "stdout",
     "output_type": "stream",
     "text": [
      "CPU times: user 37.5 ms, sys: 0 ns, total: 37.5 ms\n",
      "Wall time: 37.3 ms\n"
     ]
    },
    {
     "data": {
      "text/html": [
       "<html>\\(\\displaystyle 0\\)</html>"
      ],
      "text/latex": [
       "$\\displaystyle 0$"
      ],
      "text/plain": [
       "0"
      ]
     },
     "execution_count": 63,
     "metadata": {},
     "output_type": "execute_result"
    }
   ],
   "source": [
    "%time ricci_tensor_1(m_on_basis[0], m_on_basis[1])"
   ]
  },
  {
   "cell_type": "code",
   "execution_count": 64,
   "id": "c319bb37-26f1-43e0-bafe-bcd02c481063",
   "metadata": {},
   "outputs": [
    {
     "name": "stdout",
     "output_type": "stream",
     "text": [
      "lugares (0,0) y (0,0) completos...\n",
      ".............................\n",
      "lugares (0,1) y (1,0) completos...\n",
      ".............................\n",
      "lugares (0,2) y (2,0) completos...\n",
      ".............................\n",
      "lugares (1,1) y (1,1) completos...\n",
      ".............................\n",
      "lugares (1,2) y (2,1) completos...\n",
      ".............................\n",
      "lugares (2,2) y (2,2) completos...\n",
      ".............................\n"
     ]
    }
   ],
   "source": [
    "Ric = matrix(SR,n,n)\n",
    "\n",
    "# very long time\n",
    "for i in range(n):\n",
    "    for j in range(i,n):\n",
    "        Ric[i,j] = Ric[j, i] = ricci_tensor_1(m_on_basis[i], m_on_basis[j]).canonicalize_radical()\n",
    "        print('lugares ('+ str(i) + ',' +str(j) + ') y (' + str(j) + ',' + str(i) + ') completos...')\n",
    "#        print(Ric)\n",
    "        print(\".............................\")"
   ]
  },
  {
   "cell_type": "code",
   "execution_count": 65,
   "id": "de02d22e-a146-4219-bee1-b561d9b5657d",
   "metadata": {},
   "outputs": [
    {
     "data": {
      "text/html": [
       "<html>\\(\\displaystyle \\left(\\begin{array}{rrr}\n",
       "1 & 0 & 0 \\\\\n",
       "0 & 1 & 0 \\\\\n",
       "0 & 0 & 1\n",
       "\\end{array}\\right)\\)</html>"
      ],
      "text/latex": [
       "$\\displaystyle \\left(\\begin{array}{rrr}\n",
       "1 & 0 & 0 \\\\\n",
       "0 & 1 & 0 \\\\\n",
       "0 & 0 & 1\n",
       "\\end{array}\\right)$"
      ],
      "text/plain": [
       "[1 0 0]\n",
       "[0 1 0]\n",
       "[0 0 1]"
      ]
     },
     "execution_count": 65,
     "metadata": {},
     "output_type": "execute_result"
    }
   ],
   "source": [
    "Ric"
   ]
  },
  {
   "cell_type": "code",
   "execution_count": 66,
   "id": "43b09400-2d7c-4242-9c49-0cc1613f9cc1",
   "metadata": {},
   "outputs": [
    {
     "name": "stdout",
     "output_type": "stream",
     "text": [
      "CPU times: user 207 ms, sys: 180 μs, total: 207 ms\n",
      "Wall time: 207 ms\n"
     ]
    },
    {
     "data": {
      "text/html": [
       "<html>\\(\\displaystyle \\left(\\begin{array}{rrr}\n",
       "1 & 0 & 0 \\\\\n",
       "0 & 1 & 0 \\\\\n",
       "0 & 0 & 1\n",
       "\\end{array}\\right)\\)</html>"
      ],
      "text/latex": [
       "$\\displaystyle \\left(\\begin{array}{rrr}\n",
       "1 & 0 & 0 \\\\\n",
       "0 & 1 & 0 \\\\\n",
       "0 & 0 & 1\n",
       "\\end{array}\\right)$"
      ],
      "text/plain": [
       "[1 0 0]\n",
       "[0 1 0]\n",
       "[0 0 1]"
      ]
     },
     "execution_count": 66,
     "metadata": {},
     "output_type": "execute_result"
    }
   ],
   "source": [
    "# long time, pero mejora mucho la eficiencia\n",
    "%time Ric = matrix(n, n, lambda i, j: ricci_tensor_1(m_on_basis[i], m_on_basis[j])).canonicalize_radical()\n",
    "Ric"
   ]
  },
  {
   "cell_type": "code",
   "execution_count": 67,
   "id": "e4728f6c-ffbb-4770-9d0b-b2819af08d55",
   "metadata": {},
   "outputs": [
    {
     "data": {
      "text/html": [
       "<html>\\(\\displaystyle \\left(\\left(\\begin{array}{rrrr}\n",
       "0 & 0 & 0 & -\\frac{1}{2} \\, \\sqrt{2} x_{0} \\\\\n",
       "0 & 0 & 0 & -\\frac{1}{2} \\, \\sqrt{2} x_{1} \\\\\n",
       "0 & 0 & 0 & -\\frac{1}{2} \\, \\sqrt{2} x_{2} \\\\\n",
       "\\frac{1}{2} \\, \\sqrt{2} x_{0} & \\frac{1}{2} \\, \\sqrt{2} x_{1} & \\frac{1}{2} \\, \\sqrt{2} x_{2} & 0\n",
       "\\end{array}\\right), \\left(\\begin{array}{rrrr}\n",
       "0 & 0 & 0 & -\\frac{1}{2} \\, \\sqrt{2} y_{0} \\\\\n",
       "0 & 0 & 0 & -\\frac{1}{2} \\, \\sqrt{2} y_{1} \\\\\n",
       "0 & 0 & 0 & -\\frac{1}{2} \\, \\sqrt{2} y_{2} \\\\\n",
       "\\frac{1}{2} \\, \\sqrt{2} y_{0} & \\frac{1}{2} \\, \\sqrt{2} y_{1} & \\frac{1}{2} \\, \\sqrt{2} y_{2} & 0\n",
       "\\end{array}\\right)\\right)\\)</html>"
      ],
      "text/latex": [
       "$\\displaystyle \\left(\\left(\\begin{array}{rrrr}\n",
       "0 & 0 & 0 & -\\frac{1}{2} \\, \\sqrt{2} x_{0} \\\\\n",
       "0 & 0 & 0 & -\\frac{1}{2} \\, \\sqrt{2} x_{1} \\\\\n",
       "0 & 0 & 0 & -\\frac{1}{2} \\, \\sqrt{2} x_{2} \\\\\n",
       "\\frac{1}{2} \\, \\sqrt{2} x_{0} & \\frac{1}{2} \\, \\sqrt{2} x_{1} & \\frac{1}{2} \\, \\sqrt{2} x_{2} & 0\n",
       "\\end{array}\\right), \\left(\\begin{array}{rrrr}\n",
       "0 & 0 & 0 & -\\frac{1}{2} \\, \\sqrt{2} y_{0} \\\\\n",
       "0 & 0 & 0 & -\\frac{1}{2} \\, \\sqrt{2} y_{1} \\\\\n",
       "0 & 0 & 0 & -\\frac{1}{2} \\, \\sqrt{2} y_{2} \\\\\n",
       "\\frac{1}{2} \\, \\sqrt{2} y_{0} & \\frac{1}{2} \\, \\sqrt{2} y_{1} & \\frac{1}{2} \\, \\sqrt{2} y_{2} & 0\n",
       "\\end{array}\\right)\\right)$"
      ],
      "text/plain": [
       "(\n",
       "[              0               0               0 -1/2*sqrt(2)*x0]\n",
       "[              0               0               0 -1/2*sqrt(2)*x1]\n",
       "[              0               0               0 -1/2*sqrt(2)*x2]\n",
       "[ 1/2*sqrt(2)*x0  1/2*sqrt(2)*x1  1/2*sqrt(2)*x2               0],\n",
       "\n",
       "[              0               0               0 -1/2*sqrt(2)*y0]\n",
       "[              0               0               0 -1/2*sqrt(2)*y1]\n",
       "[              0               0               0 -1/2*sqrt(2)*y2]\n",
       "[ 1/2*sqrt(2)*y0  1/2*sqrt(2)*y1  1/2*sqrt(2)*y2               0]\n",
       ")"
      ]
     },
     "execution_count": 67,
     "metadata": {},
     "output_type": "execute_result"
    }
   ],
   "source": [
    "# Cáculo explícito de la curvatura seccional\n",
    "\n",
    "gen_vars_m = [var(\"x\"+str(i)) for i in range(len(m_on_basis))]\n",
    "gen_vars_m_1 = [var(\"y\"+str(i)) for i in range(len(m_on_basis))]\n",
    "m_gen = sum([gen_vars_m[i] * m_on_basis[i] for i in range(len(m_on_basis))])\n",
    "m_gen_1 = sum([gen_vars_m_1[i] * m_on_basis[i] for i in range(len(m_on_basis))])\n",
    "m_gen, m_gen_1"
   ]
  },
  {
   "cell_type": "code",
   "execution_count": 68,
   "id": "93fb1aad-d7a8-4ea6-9944-fce6bd130db1",
   "metadata": {},
   "outputs": [
    {
     "data": {
      "text/html": [
       "<html>\\(\\displaystyle \\frac{1}{2} \\, x_{1}^{2} y_{0}^{2} + \\frac{1}{2} \\, x_{2}^{2} y_{0}^{2} - x_{0} x_{1} y_{0} y_{1} + \\frac{1}{2} \\, x_{0}^{2} y_{1}^{2} + \\frac{1}{2} \\, x_{2}^{2} y_{1}^{2} - x_{0} x_{2} y_{0} y_{2} - x_{1} x_{2} y_{1} y_{2} + \\frac{1}{2} \\, x_{0}^{2} y_{2}^{2} + \\frac{1}{2} \\, x_{1}^{2} y_{2}^{2}\\)</html>"
      ],
      "text/latex": [
       "$\\displaystyle \\frac{1}{2} \\, x_{1}^{2} y_{0}^{2} + \\frac{1}{2} \\, x_{2}^{2} y_{0}^{2} - x_{0} x_{1} y_{0} y_{1} + \\frac{1}{2} \\, x_{0}^{2} y_{1}^{2} + \\frac{1}{2} \\, x_{2}^{2} y_{1}^{2} - x_{0} x_{2} y_{0} y_{2} - x_{1} x_{2} y_{1} y_{2} + \\frac{1}{2} \\, x_{0}^{2} y_{2}^{2} + \\frac{1}{2} \\, x_{1}^{2} y_{2}^{2}$"
      ],
      "text/plain": [
       "1/2*x1^2*y0^2 + 1/2*x2^2*y0^2 - x0*x1*y0*y1 + 1/2*x0^2*y1^2 + 1/2*x2^2*y1^2 - x0*x2*y0*y2 - x1*x2*y1*y2 + 1/2*x0^2*y2^2 + 1/2*x1^2*y2^2"
      ]
     },
     "execution_count": 68,
     "metadata": {},
     "output_type": "execute_result"
    }
   ],
   "source": [
    "sec_curv(m_gen, m_gen_1).factor()"
   ]
  },
  {
   "cell_type": "code",
   "execution_count": 69,
   "id": "ecf72f15-bf20-4593-9290-360d5a371698",
   "metadata": {},
   "outputs": [
    {
     "data": {
      "text/html": [
       "<html>\\(\\displaystyle \\frac{1}{2}\\)</html>"
      ],
      "text/latex": [
       "$\\displaystyle \\frac{1}{2}$"
      ],
      "text/plain": [
       "1/2"
      ]
     },
     "execution_count": 69,
     "metadata": {},
     "output_type": "execute_result"
    }
   ],
   "source": [
    "(sec_curv(m_gen, m_gen_1) / (metric_m(m_gen, m_gen) * metric_m(m_gen_1, m_gen_1) - metric_m(m_gen, m_gen_1)^2)).factor()"
   ]
  },
  {
   "cell_type": "code",
   "execution_count": null,
   "id": "b55d10d1-107b-4870-9f9e-44f1a2151667",
   "metadata": {},
   "outputs": [],
   "source": []
  }
 ],
 "metadata": {
  "kernelspec": {
   "display_name": "SageMath 10.4",
   "language": "sage",
   "name": "sagemath"
  },
  "language_info": {
   "codemirror_mode": {
    "name": "ipython",
    "version": 3
   },
   "file_extension": ".py",
   "mimetype": "text/x-python",
   "name": "python",
   "nbconvert_exporter": "python",
   "pygments_lexer": "ipython3",
   "version": "3.12.5"
  }
 },
 "nbformat": 4,
 "nbformat_minor": 5
}
